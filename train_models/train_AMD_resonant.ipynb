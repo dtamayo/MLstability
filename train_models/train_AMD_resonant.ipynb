{
 "cells": [
  {
   "cell_type": "code",
   "execution_count": 1,
   "metadata": {
    "scrolled": true
   },
   "outputs": [],
   "source": [
    "import numpy as np\n",
    "import sklearn\n",
    "import matplotlib.pyplot as plt\n",
    "%matplotlib inline\n",
    "import pandas as pd\n",
    "from sklearn import metrics\n",
    "from sklearn.model_selection import cross_val_score\n",
    "from matplotlib import rc\n",
    "from matplotlib import cm\n",
    "from mpl_toolkits.mplot3d import axes3d\n",
    "from matplotlib.ticker import MaxNLocator\n",
    "import scipy.signal\n",
    "import xgboost as xgb\n",
    "from xgboost.sklearn import XGBClassifier\n",
    "from hyperopt import hp, fmin, tpe, STATUS_OK, Trials\n",
    "import dill\n",
    "import sys\n",
    "sys.path.append('../')\n",
    "from modelfitting import train_test_split, ROC_curve, PR_curve, stable_unstable_hist, calibration_plot, unstable_error_fraction\n",
    "\n",
    "datapath = '/mnt/ssd/Dropbox/Dropbox (Princeton)/workspace/stability/MLstability/training_data/'\n",
    "dset = 'resonant/'\n",
    "featurefolder = 'ressummaryfeaturesxgbv6Norbits10000.0Nout1000/'\n",
    "features = ['C_AMDnear', 'C_AMDfar', 'C_AMDouter']"
   ]
  },
  {
   "cell_type": "code",
   "execution_count": 2,
   "metadata": {
    "scrolled": true
   },
   "outputs": [],
   "source": [
    "trainingdatafolder = datapath+dset+featurefolder\n",
    "trainX, trainY, testX, testY = train_test_split(trainingdatafolder, features, filter=False)"
   ]
  },
  {
   "cell_type": "code",
   "execution_count": 3,
   "metadata": {},
   "outputs": [
    {
     "data": {
      "text/plain": [
       "(7999, 3)"
      ]
     },
     "execution_count": 3,
     "metadata": {},
     "output_type": "execute_result"
    }
   ],
   "source": [
    "trainX.shape"
   ]
  },
  {
   "cell_type": "code",
   "execution_count": 15,
   "metadata": {},
   "outputs": [
    {
     "name": "stderr",
     "output_type": "stream",
     "text": [
      "/home/dtamayo/miniconda3/envs/ml/lib/python3.7/site-packages/xgboost/core.py:587: FutureWarning: Series.base is deprecated and will be removed in a future version\n",
      "  if getattr(data, 'base', None) is not None and \\\n",
      "/home/dtamayo/miniconda3/envs/ml/lib/python3.7/site-packages/xgboost/core.py:588: FutureWarning: Series.base is deprecated and will be removed in a future version\n",
      "  data.base is not None and isinstance(data, np.ndarray) \\\n"
     ]
    }
   ],
   "source": [
    "space ={\n",
    "        'max_depth': hp.randint('x_max_depth',  20),\n",
    "        'min_child_weight': hp.quniform ('x_min_child', 1, 10, 1),\n",
    "        'subsample': hp.uniform ('x_subsample', 0.8, 1),\n",
    "        'scale_pos_weight': hp.uniform(\"x_pos_weight\", 1, 15),\n",
    "        \"learning_rate\":hp.uniform(\"x_learning_rate\",0.01,0.2),\n",
    "        'colsample_bytree': hp.uniform ('x_tree_colsample', 0.5,1),\n",
    "}\n",
    "\n",
    "dtrain = xgb.DMatrix(trainX, trainY)\n",
    "dtest = xgb.DMatrix(testX, testY)\n",
    "def objective(space):\n",
    "\n",
    "    clf = XGBClassifier(n_estimators = 100, \n",
    "                            max_depth = space['max_depth'], \n",
    "                            min_child_weight =space['min_child_weight'],\n",
    "                            subsample = space['subsample'],\n",
    "                            colsample_bytree =space['colsample_bytree'],\n",
    "                            learning_rate = space['learning_rate'], seed = 0)\n",
    "    \n",
    "    params = clf.get_xgb_params()\n",
    "    #dtest\n",
    "    score = xgb.cv(params, dtrain, nfold = 5, metrics = \"auc\", early_stopping_rounds=10)\n",
    "    #print score\n",
    "    #score = cross_val_score(clf, trainX, trainY, cv = 5, scoring=\"average_precision\")\n",
    "    avg_score =  np.mean(score[\"test-auc-mean\"])\n",
    "    error = np.mean(score[\"test-auc-std\"])\n",
    "    \n",
    "    bst = xgb.train(params, dtrain)\n",
    "    preds = bst.predict(dtest)\n",
    "    test_score = metrics.roc_auc_score(testY, preds)\n",
    "    \n",
    "    print(\"SCORE:\", avg_score, \"ERROR\", error, \"HOLDOUT SCORE\", test_score)\n",
    "\n",
    "    return{'loss':1-test_score, 'status': STATUS_OK, \"cv_score\":avg_score , \"cv_error\":error, \"holdout\":test_score }"
   ]
  },
  {
   "cell_type": "code",
   "execution_count": 16,
   "metadata": {
    "scrolled": true
   },
   "outputs": [
    {
     "name": "stdout",
     "output_type": "stream",
     "text": [
      "SCORE:                                              \n",
      "0.7163157199999999                                  \n",
      "ERROR                                               \n",
      "0.011851791637746602                                \n",
      "HOLDOUT SCORE                                       \n",
      "0.7431501078778036                                  \n",
      "SCORE:                                                                        \n",
      "0.7062761999999999                                                            \n",
      "ERROR                                                                         \n",
      "0.011822564906062446                                                          \n",
      "HOLDOUT SCORE                                                                 \n",
      "0.7357500579613565                                                            \n",
      "SCORE:                                                                        \n",
      "0.6638760400000001                                                            \n",
      "ERROR                                                                         \n",
      "0.027263424863768843                                                          \n",
      "HOLDOUT SCORE                                                                 \n",
      "0.7009428380667386                                                            \n",
      "SCORE:                                                                        \n",
      "0.66250072                                                                    \n",
      "ERROR                                                                         \n",
      "0.026573774387494718                                                          \n",
      "HOLDOUT SCORE                                                                 \n",
      "0.6957864944338095                                                            \n",
      "SCORE:                                                                        \n",
      "0.6830449599999999                                                            \n",
      "ERROR                                                                         \n",
      "0.02931403621484512                                                           \n",
      "HOLDOUT SCORE                                                                 \n",
      "0.7361789086541689                                                            \n",
      "SCORE:                                                                        \n",
      "0.7021222399999999                                                            \n",
      "ERROR                                                                         \n",
      "0.011797814118710906                                                          \n",
      "HOLDOUT SCORE                                                                 \n",
      "0.7344109289146721                                                            \n",
      "SCORE:                                                                        \n",
      "0.5                                                                           \n",
      "ERROR                                                                         \n",
      "0.0                                                                           \n",
      "HOLDOUT SCORE                                                                 \n",
      "0.5                                                                           \n",
      "SCORE:                                                                        \n",
      "0.67036414                                                                    \n",
      "ERROR                                                                         \n",
      "0.030308740187204603                                                          \n",
      "HOLDOUT SCORE                                                                 \n",
      "0.7140186667241001                                                            \n",
      "SCORE:                                                                        \n",
      "0.6659121                                                                     \n",
      "ERROR                                                                         \n",
      "0.028716469653562077                                                          \n",
      "HOLDOUT SCORE                                                                 \n",
      "0.6971186554485576                                                            \n",
      "SCORE:                                                                        \n",
      "0.7208406999999999                                                            \n",
      "ERROR                                                                         \n",
      "0.01454512865392236                                                           \n",
      "HOLDOUT SCORE                                                                 \n",
      "0.7502866394955652                                                            \n",
      "SCORE:                                                                         \n",
      "0.66912094                                                                     \n",
      "ERROR                                                                          \n",
      "0.028044799882147642                                                           \n",
      "HOLDOUT SCORE                                                                  \n",
      "0.7026645754124758                                                             \n",
      "SCORE:                                                                         \n",
      "0.67569588                                                                     \n",
      "ERROR                                                                          \n",
      "0.02920580991486389                                                            \n",
      "HOLDOUT SCORE                                                                  \n",
      "0.7206420978083639                                                             \n",
      "SCORE:                                                                         \n",
      "0.68695804                                                                     \n",
      "ERROR                                                                          \n",
      "0.01006582860603149                                                            \n",
      "HOLDOUT SCORE                                                                  \n",
      "0.7134118144881854                                                             \n",
      "SCORE:                                                                         \n",
      "0.71878628                                                                     \n",
      "ERROR                                                                          \n",
      "0.013730368541227453                                                           \n",
      "HOLDOUT SCORE                                                                  \n",
      "0.749130579651573                                                              \n",
      "SCORE:                                                                         \n",
      "0.64897214                                                                     \n",
      "ERROR                                                                          \n",
      "0.02608694776369559                                                            \n",
      "HOLDOUT SCORE                                                                  \n",
      "0.6755196568180926                                                             \n",
      "SCORE:                                                                         \n",
      "0.71739888                                                                     \n",
      "ERROR                                                                          \n",
      "0.013554629569928613                                                           \n",
      "HOLDOUT SCORE                                                                  \n",
      "0.7449877679366643                                                             \n",
      "SCORE:                                                                         \n",
      "0.6636673                                                                      \n",
      "ERROR                                                                          \n",
      "0.027579597628339402                                                           \n",
      "HOLDOUT SCORE                                                                  \n",
      "0.7013229125359962                                                             \n",
      "SCORE:                                                                         \n",
      "0.68991734                                                                     \n",
      "ERROR                                                                          \n",
      "0.015354755382730517                                                           \n",
      "HOLDOUT SCORE                                                                  \n",
      "0.7325878383771327                                                             \n",
      "SCORE:                                                                         \n",
      "0.6941512000000001                                                             \n",
      "ERROR                                                                          \n",
      "0.011672799790644105                                                           \n",
      "HOLDOUT SCORE                                                                  \n",
      "0.7180360538641538                                                             \n",
      "SCORE:                                                                         \n",
      "0.70570554                                                                     \n",
      "ERROR                                                                          \n",
      "0.014150803971283099                                                           \n",
      "HOLDOUT SCORE                                                                  \n",
      "0.737244384082988                                                              \n",
      "SCORE:                                                                         \n",
      "0.68180208                                                                     \n",
      "ERROR                                                                          \n",
      "0.030646607458406826                                                           \n",
      "HOLDOUT SCORE                                                                  \n",
      "0.7324725491214579                                                             \n",
      "SCORE:                                                                         \n",
      "0.69521142                                                                     \n",
      "ERROR                                                                          \n",
      "0.011852713374808189                                                           \n",
      "HOLDOUT SCORE                                                                  \n",
      "0.7175083838093343                                                             \n",
      "SCORE:                                                                         \n",
      "0.71026876                                                                     \n",
      "ERROR                                                                          \n",
      "0.012332588707137302                                                           \n",
      "HOLDOUT SCORE                                                                  \n",
      "0.7327056614626025                                                             \n",
      "SCORE:                                                                         \n",
      "0.6989882799999999                                                             \n",
      "ERROR                                                                          \n",
      "0.010702544180543925                                                           \n",
      "HOLDOUT SCORE                                                                  \n",
      "0.7263071077726495                                                             \n",
      "SCORE:                                                                         \n",
      "0.7018966                                                                      \n",
      "ERROR                                                                          \n",
      "0.012559899993068394                                                           \n",
      "HOLDOUT SCORE                                                                  \n",
      "0.72440736888381                                                               \n",
      "SCORE:                                                                         \n",
      "0.7208690600000001                                                             \n",
      "ERROR                                                                          \n",
      "0.013802685038891465                                                           \n",
      "HOLDOUT SCORE                                                                  \n",
      "0.7483292559788881                                                             \n",
      "SCORE:                                                                         \n",
      "0.7186113                                                                      \n",
      "ERROR                                                                          \n",
      "0.013205462717961202                                                           \n",
      "HOLDOUT SCORE                                                                  \n",
      "0.7476628587427896                                                             \n",
      "SCORE:                                                                         \n",
      "0.71907632                                                                     \n",
      "ERROR                                                                          \n",
      "0.014462860186514404                                                           \n",
      "HOLDOUT SCORE                                                                  \n",
      "0.7429657717602135                                                             \n",
      "SCORE:                                                                         \n",
      "0.71601534                                                                     \n",
      "ERROR                                                                          \n",
      "0.012598099267686704                                                           \n",
      "HOLDOUT SCORE                                                                  \n",
      "0.7479162417222948                                                             \n",
      "SCORE:                                                                         \n",
      "0.71869726                                                                     \n",
      "ERROR                                                                          \n",
      "0.014376358648698661                                                           \n",
      "HOLDOUT SCORE                                                                  \n",
      "0.7481455533187469                                                             \n",
      "SCORE:                                                                         \n",
      "0.704126                                                                       \n",
      "ERROR                                                                          \n",
      "0.012880113379748625                                                           \n",
      "HOLDOUT SCORE                                                                  \n",
      "0.7356803776419927                                                             \n",
      "SCORE:                                                                         \n",
      "0.67225514                                                                     \n",
      "ERROR                                                                          \n",
      "0.02693455582077204                                                            \n",
      "HOLDOUT SCORE                                                                  \n",
      "0.7143613672038809                                                             \n",
      "SCORE:                                                                         \n",
      "0.7201291000000001                                                             \n",
      "ERROR                                                                          \n",
      "0.013089236238396532                                                           \n",
      "HOLDOUT SCORE                                                                  \n",
      "0.7501757844420317                                                             \n",
      "SCORE:                                                                         \n",
      "0.6832358000000001                                                             \n",
      "ERROR                                                                          \n",
      "0.030768068353089567                                                           \n",
      "HOLDOUT SCORE                                                                  \n",
      "0.7332770400813866                                                             \n",
      "SCORE:                                                                         \n",
      "0.72218402                                                                     \n",
      "ERROR                                                                          \n"
     ]
    },
    {
     "name": "stdout",
     "output_type": "stream",
     "text": [
      "0.013031997085930813                                                           \n",
      "HOLDOUT SCORE                                                                  \n",
      "0.7527216499286093                                                             \n",
      "SCORE:                                                                         \n",
      "0.5                                                                            \n",
      "ERROR                                                                          \n",
      "0.0                                                                            \n",
      "HOLDOUT SCORE                                                                  \n",
      "0.5                                                                            \n",
      "SCORE:                                                                         \n",
      "0.70644482                                                                     \n",
      "ERROR                                                                          \n",
      "0.012820999351779694                                                           \n",
      "HOLDOUT SCORE                                                                  \n",
      "0.7387627815876725                                                             \n",
      "SCORE:                                                                         \n",
      "0.6996052799999999                                                             \n",
      "ERROR                                                                          \n",
      "0.011106032554153064                                                           \n",
      "HOLDOUT SCORE                                                                  \n",
      "0.7242813108515063                                                             \n",
      "SCORE:                                                                         \n",
      "0.6661714599999999                                                             \n",
      "ERROR                                                                          \n",
      "0.02966868937841662                                                            \n",
      "HOLDOUT SCORE                                                                  \n",
      "0.6968126955008052                                                             \n",
      "SCORE:                                                                         \n",
      "0.7050987400000001                                                             \n",
      "ERROR                                                                          \n",
      "0.014833400161828237                                                           \n",
      "HOLDOUT SCORE                                                                  \n",
      "0.7352483596619365                                                             \n",
      "SCORE:                                                                         \n",
      "0.6753254799999999                                                             \n",
      "ERROR                                                                          \n",
      "0.02712594387222663                                                            \n",
      "HOLDOUT SCORE                                                                  \n",
      "0.7228268925491468                                                             \n",
      "SCORE:                                                                         \n",
      "0.69806594                                                                     \n",
      "ERROR                                                                          \n",
      "0.01089593552691774                                                            \n",
      "HOLDOUT SCORE                                                                  \n",
      "0.7301813335292828                                                             \n",
      "SCORE:                                                                         \n",
      "0.7100461800000001                                                             \n",
      "ERROR                                                                          \n",
      "0.012662744047865418                                                           \n",
      "HOLDOUT SCORE                                                                  \n",
      "0.7287212141098847                                                             \n",
      "SCORE:                                                                         \n",
      "0.6599215                                                                      \n",
      "ERROR                                                                          \n",
      "0.029225007273440934                                                           \n",
      "HOLDOUT SCORE                                                                  \n",
      "0.7243820305858595                                                             \n",
      "SCORE:                                                                         \n",
      "0.6552114399999999                                                             \n",
      "ERROR                                                                          \n",
      "0.02559612654977004                                                            \n",
      "HOLDOUT SCORE                                                                  \n",
      "0.6808939098133961                                                             \n",
      "SCORE:                                                                         \n",
      "0.7172516400000001                                                             \n",
      "ERROR                                                                          \n",
      "0.014040401633299986                                                           \n",
      "HOLDOUT SCORE                                                                  \n",
      "0.7414511750002216                                                             \n",
      "SCORE:                                                                         \n",
      "0.7124132                                                                      \n",
      "ERROR                                                                          \n",
      "0.013425487002648052                                                           \n",
      "HOLDOUT SCORE                                                                  \n",
      "0.7414739794683771                                                             \n",
      "SCORE:                                                                         \n",
      "0.66210584                                                                     \n",
      "ERROR                                                                          \n",
      "0.025199456606641336                                                           \n",
      "HOLDOUT SCORE                                                                  \n",
      "0.6882388489318007                                                             \n",
      "SCORE:                                                                         \n",
      "0.7196570600000001                                                             \n",
      "ERROR                                                                          \n",
      "0.014185804976081096                                                           \n",
      "HOLDOUT SCORE                                                                  \n",
      "0.7486092441712413                                                             \n",
      "SCORE:                                                                         \n",
      "0.7113033                                                                      \n",
      "ERROR                                                                          \n",
      "0.014931400709802676                                                           \n",
      "HOLDOUT SCORE                                                                  \n",
      "0.7445779209673149                                                             \n",
      "100%|██████████| 50/50 [00:19<00:00,  2.53it/s, best loss: 0.24727835007139065]\n",
      "Optimization Time: %f seconds 19.382694959640503\n",
      "CPU times: user 19.1 s, sys: 493 ms, total: 19.6 s\n",
      "Wall time: 19.4 s\n"
     ]
    }
   ],
   "source": [
    "%%time\n",
    "trials = Trials()\n",
    "import time\n",
    "start = time.time()\n",
    "best = fmin(fn=objective, space = space, algo = tpe.suggest, max_evals = 50, trials = trials)\n",
    "end = time.time()\n",
    "print(\"Optimization Time: %f seconds\", (end  -start))"
   ]
  },
  {
   "cell_type": "code",
   "execution_count": 17,
   "metadata": {},
   "outputs": [
    {
     "data": {
      "text/plain": [
       "{'x_learning_rate': 0.1979046153788968,\n",
       " 'x_max_depth': 4,\n",
       " 'x_min_child': 7.0,\n",
       " 'x_pos_weight': 8.230776548478934,\n",
       " 'x_subsample': 0.9478275232396036,\n",
       " 'x_tree_colsample': 0.6693977405547573}"
      ]
     },
     "execution_count": 17,
     "metadata": {},
     "output_type": "execute_result"
    }
   ],
   "source": [
    "best"
   ]
  },
  {
   "cell_type": "code",
   "execution_count": 18,
   "metadata": {},
   "outputs": [
    {
     "name": "stdout",
     "output_type": "stream",
     "text": [
      "[0]\ttrain-auc:0.695693+0.00673744\ttest-auc:0.682161+0.00990461\n",
      "[1]\ttrain-auc:0.737265+0.00551105\ttest-auc:0.71328+0.013171\n",
      "[2]\ttrain-auc:0.740967+0.00624637\ttest-auc:0.717671+0.0133423\n",
      "[3]\ttrain-auc:0.74835+0.00804464\ttest-auc:0.724421+0.01463\n",
      "[4]\ttrain-auc:0.750421+0.00886184\ttest-auc:0.724788+0.0130494\n",
      "[5]\ttrain-auc:0.755567+0.00539431\ttest-auc:0.727379+0.0137615\n",
      "[6]\ttrain-auc:0.758572+0.0050242\ttest-auc:0.726899+0.0145404\n",
      "[7]\ttrain-auc:0.760233+0.0047463\ttest-auc:0.727279+0.0131202\n",
      "[8]\ttrain-auc:0.7616+0.00525846\ttest-auc:0.726935+0.0124289\n",
      "[9]\ttrain-auc:0.764092+0.00369298\ttest-auc:0.728306+0.0145335\n",
      "   train-auc-mean  train-auc-std  test-auc-mean  test-auc-std\n",
      "0        0.695693       0.006737       0.682161      0.009905\n",
      "1        0.737265       0.005511       0.713280      0.013171\n",
      "2        0.740967       0.006246       0.717671      0.013342\n",
      "3        0.748350       0.008045       0.724421      0.014630\n",
      "4        0.750421       0.008862       0.724788      0.013049\n",
      "5        0.755567       0.005394       0.727379      0.013762\n",
      "6        0.758572       0.005024       0.726899      0.014540\n",
      "7        0.760233       0.004746       0.727279      0.013120\n",
      "8        0.761600       0.005258       0.726935      0.012429\n",
      "9        0.764092       0.003693       0.728306      0.014533\n",
      "0.5620893580185368\n"
     ]
    },
    {
     "name": "stderr",
     "output_type": "stream",
     "text": [
      "/home/dtamayo/miniconda3/envs/ml/lib/python3.7/site-packages/xgboost/core.py:587: FutureWarning: Series.base is deprecated and will be removed in a future version\n",
      "  if getattr(data, 'base', None) is not None and \\\n",
      "/home/dtamayo/miniconda3/envs/ml/lib/python3.7/site-packages/xgboost/core.py:588: FutureWarning: Series.base is deprecated and will be removed in a future version\n",
      "  data.base is not None and isinstance(data, np.ndarray) \\\n"
     ]
    }
   ],
   "source": [
    "best_xgbc = XGBClassifier(n_estimators=100, scale_pos_weight=best[\"x_pos_weight\"],\n",
    "                         learning_rate = best[\"x_learning_rate\"], \n",
    "                         max_depth = int(best[\"x_max_depth\"]), \n",
    "                         min_child_weight = best[\"x_min_child\"],\n",
    "                         subsample = best[\"x_subsample\"], \n",
    "                         colsample_bytree = best[\"x_tree_colsample\"])\n",
    "params = best_xgbc.get_xgb_params()\n",
    "score = xgb.cv(params, dtrain, nfold = 5, metrics = \"auc\", verbose_eval=True)\n",
    "print(score)\n",
    "d_Train = xgb.DMatrix(trainX, trainY)\n",
    "d_Test = xgb.DMatrix(testX)\n",
    "bst = xgb.train(params, d_Train)\n",
    "preds = bst.predict(d_Test)\n",
    "score = metrics.average_precision_score(testY, preds)\n",
    "print(score)"
   ]
  },
  {
   "cell_type": "code",
   "execution_count": 19,
   "metadata": {},
   "outputs": [
    {
     "data": {
      "text/plain": [
       "XGBClassifier(base_score=0.5, booster='gbtree', colsample_bylevel=1,\n",
       "              colsample_bytree=0.6693977405547573, gamma=0,\n",
       "              learning_rate=0.1979046153788968, max_delta_step=0, max_depth=4,\n",
       "              min_child_weight=7.0, missing=None, n_estimators=100, n_jobs=1,\n",
       "              nthread=None, objective='binary:logistic', random_state=0,\n",
       "              reg_alpha=0, reg_lambda=1, scale_pos_weight=8.230776548478934,\n",
       "              seed=None, silent=True, subsample=0.9478275232396036)"
      ]
     },
     "execution_count": 19,
     "metadata": {},
     "output_type": "execute_result"
    }
   ],
   "source": [
    "model = XGBClassifier(n_estimators=100, scale_pos_weight=best[\"x_pos_weight\"],\n",
    "                         learning_rate = best[\"x_learning_rate\"], \n",
    "                         max_depth = int(best[\"x_max_depth\"]), \n",
    "                         min_child_weight = best[\"x_min_child\"],\n",
    "                         subsample = best[\"x_subsample\"], \n",
    "                         colsample_bytree = best[\"x_tree_colsample\"])\n",
    "\n",
    "model.fit(trainX, trainY)"
   ]
  },
  {
   "cell_type": "code",
   "execution_count": 20,
   "metadata": {},
   "outputs": [],
   "source": [
    "dill.dump([model, features, featurefolder], open(datapath+\"../models/AMD_resonant.pkl\", \"wb\"))"
   ]
  },
  {
   "cell_type": "code",
   "execution_count": 4,
   "metadata": {},
   "outputs": [],
   "source": [
    "model, features, featurefolder = dill.load(open(datapath+\"../models/AMD_resonant.pkl\", \"rb\"))"
   ]
  },
  {
   "cell_type": "code",
   "execution_count": 5,
   "metadata": {},
   "outputs": [],
   "source": [
    "preds = model.predict_proba(testX[features])[:,1]"
   ]
  },
  {
   "cell_type": "code",
   "execution_count": 10,
   "metadata": {},
   "outputs": [],
   "source": [
    "AMDstable = (testX['C_AMDnear'] < 1) & (testX['C_AMDfar'] < 1)"
   ]
  },
  {
   "cell_type": "code",
   "execution_count": 13,
   "metadata": {},
   "outputs": [
    {
     "data": {
      "text/plain": [
       "0.539906103286385"
      ]
     },
     "execution_count": 13,
     "metadata": {},
     "output_type": "execute_result"
    }
   ],
   "source": [
    "testY[AMDstable].sum()/AMDstable.sum()"
   ]
  },
  {
   "cell_type": "code",
   "execution_count": 14,
   "metadata": {},
   "outputs": [
    {
     "data": {
      "text/plain": [
       "426"
      ]
     },
     "execution_count": 14,
     "metadata": {},
     "output_type": "execute_result"
    }
   ],
   "source": [
    "AMDstable.sum()"
   ]
  },
  {
   "cell_type": "code",
   "execution_count": 21,
   "metadata": {},
   "outputs": [
    {
     "data": {
      "text/plain": [
       "Text(0.5, 1.0, 'ROC curve (AUC = 0.754)')"
      ]
     },
     "execution_count": 21,
     "metadata": {},
     "output_type": "execute_result"
    },
    {
     "data": {
      "image/png": "[encoded data removed]",
      "text/plain": [
       "<Figure size 432x288 with 1 Axes>"
      ]
     },
     "metadata": {
      "needs_background": "light"
     },
     "output_type": "display_data"
    }
   ],
   "source": [
    "roc_auc, fpr, tpr, ROCthresholds = ROC_curve(trainingdatafolder, model, features, filter=False)\n",
    "\n",
    "fig, ax = plt.subplots()\n",
    "ax.plot(fpr, tpr)\n",
    "ax.plot([0, 1], [0, 1], 'k--')\n",
    "ax.set_xlim([0.0, 1.0])\n",
    "ax.set_ylim([0.0, 1.0])\n",
    "ax.set_xlabel('False Positive Rate')\n",
    "ax.set_ylabel('True Positive Rate')\n",
    "ax.set_title('ROC curve (AUC = {0:.3f})'.format(roc_auc))"
   ]
  },
  {
   "cell_type": "code",
   "execution_count": 22,
   "metadata": {},
   "outputs": [
    {
     "name": "stdout",
     "output_type": "stream",
     "text": [
      "Threshold 0.12325514107942581, recall = 1.0, precision = 0.2833944473546359\n",
      "Threshold 0.1346980184316635, recall = 0.9963031423290203, precision = 0.2845828933474129\n",
      "Threshold 0.14809627830982208, recall = 0.9944547134935305, precision = 0.2863225119744545\n",
      "Threshold 0.1631324738264084, recall = 0.9944547134935305, precision = 0.2886266094420601\n",
      "Threshold 0.17933502793312073, recall = 0.9944547134935305, precision = 0.29128316188413644\n",
      "Threshold 0.18931174278259277, recall = 0.9926062846580407, precision = 0.2931222707423581\n",
      "Threshold 0.19994547963142395, recall = 0.988909426987061, precision = 0.29444138690148597\n",
      "Threshold 0.2161116898059845, recall = 0.988909426987061, precision = 0.2968923418423973\n",
      "Threshold 0.23113195598125458, recall = 0.9870609981515711, precision = 0.29882484611080024\n",
      "Threshold 0.24911563098430634, recall = 0.9870609981515711, precision = 0.3013544018058691\n",
      "Threshold 0.26543137431144714, recall = 0.9870609981515711, precision = 0.3039271485486625\n",
      "Threshold 0.28007203340530396, recall = 0.9870609981515711, precision = 0.3065442020665901\n",
      "Threshold 0.29695963859558105, recall = 0.9870609981515711, precision = 0.30920671685002893\n",
      "Threshold 0.3079090714454651, recall = 0.9833641404805915, precision = 0.3107476635514019\n",
      "Threshold 0.32301485538482666, recall = 0.9796672828096118, precision = 0.31231585150265173\n",
      "Threshold 0.3408336341381073, recall = 0.9796672828096118, precision = 0.3151010701545779\n",
      "Threshold 0.35306844115257263, recall = 0.977818853974122, precision = 0.3173365326934613\n",
      "Threshold 0.3594302237033844, recall = 0.9704251386321626, precision = 0.3177966101694915\n",
      "Threshold 0.37435099482536316, recall = 0.9685767097966729, precision = 0.32009773976786804\n",
      "Threshold 0.38564926385879517, recall = 0.966728280961183, precision = 0.32244143033292233\n",
      "Threshold 0.3953550159931183, recall = 0.9648798521256932, precision = 0.3248288736776602\n",
      "Threshold 0.4042837917804718, recall = 0.9611829944547134, precision = 0.32663316582914576\n",
      "Threshold 0.41254517436027527, recall = 0.9574861367837338, precision = 0.3284717818642993\n",
      "Threshold 0.4252566695213318, recall = 0.9574861367837338, precision = 0.33183856502242154\n",
      "Threshold 0.43684619665145874, recall = 0.9519408502772643, precision = 0.333117723156533\n",
      "Threshold 0.44246554374694824, recall = 0.9408502772643254, precision = 0.3328973185088293\n",
      "Threshold 0.44999128580093384, recall = 0.9390018484288355, precision = 0.33553500660501984\n",
      "Threshold 0.4578918516635895, recall = 0.9353049907578558, precision = 0.33755837224816543\n",
      "Threshold 0.4662347733974457, recall = 0.9279112754158965, precision = 0.3385030343897505\n",
      "Threshold 0.4744904637336731, recall = 0.922365988909427, precision = 0.3399182561307902\n",
      "Threshold 0.4824017882347107, recall = 0.9205175600739371, precision = 0.34273916035788027\n",
      "Threshold 0.487851083278656, recall = 0.9149722735674677, precision = 0.3442280945757997\n",
      "Threshold 0.49260812997817993, recall = 0.9057301293900185, precision = 0.3443429374560787\n",
      "Threshold 0.5029743313789368, recall = 0.9038817005545287, precision = 0.34730113636363635\n",
      "Threshold 0.5082782506942749, recall = 0.8964879852125693, precision = 0.34816941852117733\n",
      "Threshold 0.5151420831680298, recall = 0.8927911275415896, precision = 0.35076252723311546\n",
      "Threshold 0.5247639417648315, recall = 0.8909426987060998, precision = 0.35389133627019087\n",
      "Threshold 0.5311872363090515, recall = 0.8817005545286506, precision = 0.35412026726057905\n",
      "Threshold 0.5366897583007812, recall = 0.878003696857671, precision = 0.35714285714285715\n",
      "Threshold 0.5411193370819092, recall = 0.8743068391866913, precision = 0.3596958174904943\n",
      "Threshold 0.5477336645126343, recall = 0.8687615526802218, precision = 0.36153846153846153\n",
      "Threshold 0.5518792271614075, recall = 0.8650646950092421, precision = 0.3642023346303502\n",
      "Threshold 0.5587852597236633, recall = 0.8558225508317929, precision = 0.36456692913385824\n",
      "Threshold 0.5660400986671448, recall = 0.8521256931608133, precision = 0.3673306772908366\n",
      "Threshold 0.569753110408783, recall = 0.8410351201478743, precision = 0.36693548387096775\n",
      "Threshold 0.5747742652893066, recall = 0.8373382624768947, precision = 0.36979591836734693\n",
      "Threshold 0.5815715789794922, recall = 0.8299445471349353, precision = 0.37107438016528926\n",
      "Threshold 0.5841227173805237, recall = 0.8262476894639557, precision = 0.37405857740585774\n",
      "Threshold 0.5903804898262024, recall = 0.8170055452865065, precision = 0.37457627118644066\n",
      "Threshold 0.5991189479827881, recall = 0.8151571164510166, precision = 0.3785407725321888\n",
      "Threshold 0.6037157773971558, recall = 0.8114602587800369, precision = 0.38173913043478264\n",
      "Threshold 0.6099451184272766, recall = 0.800369685767098, precision = 0.3814977973568282\n",
      "Threshold 0.6174477338790894, recall = 0.7966728280961183, precision = 0.3848214285714286\n",
      "Threshold 0.6231347918510437, recall = 0.7874306839186691, precision = 0.38552036199095024\n",
      "Threshold 0.6319460868835449, recall = 0.7781885397412199, precision = 0.38623853211009174\n",
      "Threshold 0.6350528597831726, recall = 0.7726432532347505, precision = 0.38883720930232557\n",
      "Threshold 0.6385510563850403, recall = 0.7707948243992606, precision = 0.39339622641509436\n",
      "Threshold 0.6432546377182007, recall = 0.7597042513863216, precision = 0.39330143540669854\n",
      "Threshold 0.6452867984771729, recall = 0.7541589648798521, precision = 0.39611650485436894\n",
      "Threshold 0.6500589847564697, recall = 0.7541589648798521, precision = 0.40236686390532544\n",
      "Threshold 0.6550018787384033, recall = 0.744916820702403, precision = 0.4034034034034034\n",
      "Threshold 0.6600431799888611, recall = 0.7393715341959335, precision = 0.4065040650406504\n",
      "Threshold 0.6630938649177551, recall = 0.7319778188539742, precision = 0.4086687306501548\n",
      "Threshold 0.6668992042541504, recall = 0.7264325323475046, precision = 0.4119496855345912\n",
      "Threshold 0.6712414622306824, recall = 0.7245841035120147, precision = 0.4174653887113951\n",
      "Threshold 0.675343930721283, recall = 0.7153419593345656, precision = 0.41883116883116883\n",
      "Threshold 0.6792337894439697, recall = 0.7134935304990758, precision = 0.42464246424642466\n",
      "Threshold 0.6820409893989563, recall = 0.7024029574861368, precision = 0.4250559284116331\n",
      "Threshold 0.6864519715309143, recall = 0.6931608133086876, precision = 0.4271070615034169\n",
      "Threshold 0.6909294724464417, recall = 0.6894639556377079, precision = 0.4322132097334878\n",
      "Threshold 0.6963054537773132, recall = 0.6876155268022182, precision = 0.4386792452830189\n",
      "Threshold 0.7017713189125061, recall = 0.6820702402957486, precision = 0.4429771908763505\n",
      "Threshold 0.7059782147407532, recall = 0.6802218114602587, precision = 0.44987775061124696\n",
      "Threshold 0.7097705006599426, recall = 0.6746765249537893, precision = 0.45454545454545453\n",
      "Threshold 0.7154839038848877, recall = 0.6709796672828097, precision = 0.4606598984771574\n",
      "Threshold 0.7202340364456177, recall = 0.6635859519408502, precision = 0.4644243208279431\n",
      "Threshold 0.7253971099853516, recall = 0.6617375231053605, precision = 0.47229551451187335\n",
      "Threshold 0.7294134497642517, recall = 0.6524953789279113, precision = 0.47510094212651416\n",
      "Threshold 0.7342570424079895, recall = 0.6414048059149723, precision = 0.4766483516483517\n",
      "Threshold 0.737832248210907, recall = 0.6303142329020333, precision = 0.4782608695652174\n",
      "Threshold 0.7408096194267273, recall = 0.6229205175600739, precision = 0.4828080229226361\n",
      "Threshold 0.7468004822731018, recall = 0.6118299445471349, precision = 0.48462664714494874\n",
      "Threshold 0.7502626180648804, recall = 0.6044362292051756, precision = 0.48952095808383234\n",
      "Threshold 0.7529609799385071, recall = 0.5914972273567468, precision = 0.4900459418070444\n",
      "Threshold 0.7587935328483582, recall = 0.5767097966728281, precision = 0.4890282131661442\n",
      "Threshold 0.7639064788818359, recall = 0.5637707948243993, precision = 0.4903536977491961\n",
      "Threshold 0.7687157988548279, recall = 0.5582255083179297, precision = 0.4975288303130148\n",
      "Threshold 0.7734448909759521, recall = 0.5471349353049908, precision = 0.5\n",
      "Threshold 0.7790728807449341, recall = 0.5397412199630314, precision = 0.5060658578856152\n",
      "Threshold 0.7808955311775208, recall = 0.5249537892791127, precision = 0.505338078291815\n",
      "Threshold 0.7864817380905151, recall = 0.512014787430684, precision = 0.506398537477148\n",
      "Threshold 0.7902653217315674, recall = 0.5009242144177449, precision = 0.5093984962406015\n",
      "Threshold 0.7955714464187622, recall = 0.4953789279112754, precision = 0.5183752417794971\n",
      "Threshold 0.8011581301689148, recall = 0.4879852125693161, precision = 0.5269461077844312\n",
      "Threshold 0.8049857020378113, recall = 0.47689463955637706, precision = 0.5330578512396694\n",
      "Threshold 0.811710000038147, recall = 0.46210720887245843, precision = 0.5341880341880342\n",
      "Threshold 0.8148218393325806, recall = 0.45286506469500926, precision = 0.5432372505543237\n",
      "Threshold 0.8195222616195679, recall = 0.4436229205175601, precision = 0.5529953917050692\n",
      "Threshold 0.8227674961090088, recall = 0.4343807763401109, precision = 0.5608591885441527\n",
      "Threshold 0.8276429176330566, recall = 0.4214417744916821, precision = 0.56575682382134\n",
      "Threshold 0.8333594799041748, recall = 0.4121996303142329, precision = 0.5747422680412371\n",
      "Threshold 0.837030291557312, recall = 0.39926062846580407, precision = 0.579088471849866\n",
      "Threshold 0.8414579033851624, recall = 0.3844731977818854, precision = 0.5810055865921788\n",
      "Threshold 0.8458091020584106, recall = 0.3733826247689464, precision = 0.5906432748538012\n",
      "Threshold 0.8506770730018616, recall = 0.3659889094269871, precision = 0.6055045871559633\n",
      "Threshold 0.8575661778450012, recall = 0.35304990757855825, precision = 0.6121794871794872\n",
      "Threshold 0.8619216084480286, recall = 0.3438077634011091, precision = 0.6262626262626263\n",
      "Threshold 0.8689477443695068, recall = 0.32532347504621073, precision = 0.624113475177305\n",
      "Threshold 0.8726473450660706, recall = 0.3142329020332717, precision = 0.6390977443609023\n",
      "Threshold 0.8753824830055237, recall = 0.29944547134935307, precision = 0.6454183266932271\n",
      "Threshold 0.8781488537788391, recall = 0.28835489833641403, precision = 0.6638297872340425\n",
      "Threshold 0.8824781775474548, recall = 0.27726432532347506, precision = 0.6818181818181818\n",
      "Threshold 0.886900007724762, recall = 0.2643253234750462, precision = 0.7009803921568627\n",
      "Threshold 0.8911582231521606, recall = 0.24584103512014788, precision = 0.7037037037037037\n",
      "Threshold 0.8967660665512085, recall = 0.22920517560073936, precision = 0.7126436781609196\n",
      "Threshold 0.9003539085388184, recall = 0.2088724584103512, precision = 0.7151898734177216\n",
      "Threshold 0.9070385098457336, recall = 0.19038817005545286, precision = 0.7253521126760564\n",
      "Threshold 0.9113405346870422, recall = 0.17929759704251386, precision = 0.7637795275590551\n",
      "Threshold 0.9201191067695618, recall = 0.16081330868761554, precision = 0.7767857142857143\n",
      "Threshold 0.9259065985679626, recall = 0.14417744916820702, precision = 0.8041237113402062\n",
      "Threshold 0.9310743808746338, recall = 0.1256931608133087, precision = 0.8292682926829268\n",
      "Threshold 0.9372559189796448, recall = 0.10536044362292052, precision = 0.8636363636363636\n",
      "Threshold 0.9522209763526917, recall = 0.08502772643253234, precision = 0.9019607843137255\n",
      "Threshold 0.9655312895774841, recall = 0.059149722735674676, precision = 0.8888888888888888\n",
      "Threshold 0.9787868857383728, recall = 0.03512014787430684, precision = 0.9047619047619048\n",
      "Threshold 0.9866484999656677, recall = 0.011090573012939002, precision = 1.0\n"
     ]
    }
   ],
   "source": [
    "pr_auc, precision, recall, PRthresholds = PR_curve(trainingdatafolder, model, features, filter=False)\n",
    "for i in range(0,len(recall), 15):\n",
    "    print(\"Threshold {0}, recall = {1}, precision = {2}\".format(PRthresholds[i], recall[i], precision[i]))"
   ]
  },
  {
   "cell_type": "code",
   "execution_count": 23,
   "metadata": {},
   "outputs": [
    {
     "data": {
      "image/png": "[encoded data removed]",
      "text/plain": [
       "<Figure size 432x288 with 1 Axes>"
      ]
     },
     "metadata": {
      "needs_background": "light"
     },
     "output_type": "display_data"
    }
   ],
   "source": [
    "fig, ax = plt.subplots()\n",
    "ax.plot(recall, precision)\n",
    "ax.set_xlim([0.0, 1.0])\n",
    "ax.set_ylim([0.0, 1.0])\n",
    "ax.set_xlabel('Recall')\n",
    "ax.set_ylabel('Precision')\n",
    "ax.set_title(\"AUC Score (Test): {0:.4f}\".format(pr_auc))\n",
    "plt.show()"
   ]
  },
  {
   "cell_type": "code",
   "execution_count": 24,
   "metadata": {},
   "outputs": [
    {
     "data": {
      "text/plain": [
       "(0, 25.3)"
      ]
     },
     "execution_count": 24,
     "metadata": {},
     "output_type": "execute_result"
    },
    {
     "data": {
      "image/png": "[encoded data removed]",
      "text/plain": [
       "<Figure size 432x288 with 2 Axes>"
      ]
     },
     "metadata": {
      "needs_background": "light"
     },
     "output_type": "display_data"
    }
   ],
   "source": [
    "# Histogram:\n",
    "bins = 50\n",
    "Stable, Unstable = stable_unstable_hist(trainingdatafolder, model, features, filter=False)\n",
    "\n",
    "fig, ax1 = plt.subplots()\n",
    "n, bins, pathces = ax1.hist(Unstable, bins, alpha=0.5, label='No', color='blue', edgecolor = \"black\")\n",
    "#print(n)\n",
    "ax1.set_xlabel('Predicted Probability', fontsize=14)\n",
    "ax1.set_ylabel('Unstable',  fontsize=14, color='blue')\n",
    "for tl in ax1.get_yticklabels():\n",
    "    tl.set_color('blue')\n",
    "    \n",
    "\n",
    "\n",
    "ax2 = ax1.twinx()\n",
    "n, bins , patches = ax2.hist(Stable, bins, alpha=0.5, label='Yes',color='green', edgecolor = \"black\")\n",
    "#print(n.astype(int))\n",
    "ax2.set_ylabel('Stable', fontsize=14, color='green')\n",
    "for tl in ax2.get_yticklabels():\n",
    "    tl.set_color('green')\n",
    "    \n",
    "    \n",
    "#ax1.set_ylim(ax2.get_ylim())\n",
    "ax1.set_ylim([0,1.1*n[-1]]) # goes up to ~4300\n",
    "ax2.set_ylim([0,1.1*n[-1]]) # goes up to ~2100"
   ]
  },
  {
   "cell_type": "code",
   "execution_count": 25,
   "metadata": {},
   "outputs": [
    {
     "name": "stderr",
     "output_type": "stream",
     "text": [
      "../modelfitting.py:71: RuntimeWarning: divide by zero encountered in true_divide\n",
      "  errorbars.append(np.sqrt(1./nstable + 1./hist[i])*fracstable[-1]) # assume poisson counting errors for each fractional error, and add in quadrature for error on ratio.\n",
      "../modelfitting.py:71: RuntimeWarning: invalid value encountered in double_scalars\n",
      "  errorbars.append(np.sqrt(1./nstable + 1./hist[i])*fracstable[-1]) # assume poisson counting errors for each fractional error, and add in quadrature for error on ratio.\n"
     ]
    },
    {
     "data": {
      "text/plain": [
       "Text(0, 0.5, 'Fraction actually stable')"
      ]
     },
     "execution_count": 25,
     "metadata": {},
     "output_type": "execute_result"
    },
    {
     "data": {
      "image/png": "[encoded data removed]",
      "text/plain": [
       "<Figure size 576x432 with 1 Axes>"
      ]
     },
     "metadata": {
      "needs_background": "light"
     },
     "output_type": "display_data"
    }
   ],
   "source": [
    "bincenters, fracstable, errorbars = calibration_plot(trainingdatafolder, model, features, bins=10, filter=False)\n",
    "fig, ax = plt.subplots(figsize=(8,6))\n",
    "ax.plot(np.linspace(0,1,100), np.linspace(0,1,100), '--')\n",
    "ax.errorbar(bincenters, fracstable, errorbars)\n",
    "ax.set_xlim([0,1])\n",
    "ax.set_ylim([0,1])\n",
    "ax.set_xlabel('Predicted Probability of Stability')\n",
    "ax.set_ylabel('Fraction actually stable')"
   ]
  },
  {
   "cell_type": "code",
   "execution_count": 26,
   "metadata": {},
   "outputs": [
    {
     "data": {
      "text/plain": [
       "Text(0.5, 1.0, 'Fraction of unstable systems mislabeled as stable')"
      ]
     },
     "execution_count": 26,
     "metadata": {},
     "output_type": "execute_result"
    },
    {
     "data": {
      "image/png": "[encoded data removed]",
      "text/plain": [
       "<Figure size 576x432 with 1 Axes>"
      ]
     },
     "metadata": {
      "needs_background": "light"
     },
     "output_type": "display_data"
    }
   ],
   "source": [
    "bincenters, errorfracs, errorbars = unstable_error_fraction(trainingdatafolder, model, features, bins=10, filter=False)\n",
    "fig, ax = plt.subplots(figsize=(8,6))\n",
    "ax.errorbar(bincenters, errorfracs, errorbars)\n",
    "ax.set_ylim([0,1])\n",
    "ax.set_xlabel('Log Instability Time')\n",
    "ax.set_ylabel('Error Fraction')\n",
    "ax.set_title('Fraction of unstable systems mislabeled as stable')"
   ]
  },
  {
   "cell_type": "code",
   "execution_count": 27,
   "metadata": {},
   "outputs": [
    {
     "data": {
      "image/png": "[encoded data removed]",
      "text/plain": [
       "<Figure size 864x576 with 1 Axes>"
      ]
     },
     "metadata": {
      "needs_background": "light"
     },
     "output_type": "display_data"
    }
   ],
   "source": [
    "# feature importances\n",
    "feat_imp = pd.Series(model.get_booster().get_fscore()).sort_values(ascending=False)\n",
    "feat_imp.plot(kind='bar', title='Feature Importances', figsize=(12,8))\n",
    "plt.ylabel('Feature Importance Score')\n",
    "plt.show()"
   ]
  },
  {
   "cell_type": "markdown",
   "metadata": {},
   "source": [
    "# slice data between ranges of instability times"
   ]
  },
  {
   "cell_type": "markdown",
   "metadata": {},
   "source": [
    "# slice data between ranges of instability times"
   ]
  },
  {
   "cell_type": "markdown",
   "metadata": {},
   "source": [
    "# things that are just unstable might be very similar to things that are just stable"
   ]
  },
  {
   "cell_type": "markdown",
   "metadata": {},
   "source": [
    "# predict at half a billion, then repredict at half a billion whether you'll be unstable at a billion"
   ]
  },
  {
   "cell_type": "markdown",
   "metadata": {},
   "source": [
    "# do the summary features change with time?"
   ]
  },
  {
   "cell_type": "markdown",
   "metadata": {},
   "source": [
    "# try training on just unstable systems"
   ]
  },
  {
   "cell_type": "code",
   "execution_count": null,
   "metadata": {},
   "outputs": [],
   "source": []
  }
 ],
 "metadata": {
  "anaconda-cloud": {},
  "kernelspec": {
   "display_name": "Python 3",
   "language": "python",
   "name": "python3"
  },
  "language_info": {
   "codemirror_mode": {
    "name": "ipython",
    "version": 3
   },
   "file_extension": ".py",
   "mimetype": "text/x-python",
   "name": "python",
   "nbconvert_exporter": "python",
   "pygments_lexer": "ipython3",
   "version": "3.7.3"
  }
 },
 "nbformat": 4,
 "nbformat_minor": 2
}
