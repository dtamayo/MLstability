{
 "cells": [
  {
   "cell_type": "code",
   "execution_count": 1,
   "metadata": {},
   "outputs": [],
   "source": [
    "import numpy as np\n",
    "import sklearn\n",
    "import matplotlib.pyplot as plt\n",
    "%matplotlib inline\n",
    "import pandas as pd\n",
    "from sklearn import metrics\n",
    "from sklearn.model_selection import cross_val_score\n",
    "from matplotlib import rc\n",
    "from matplotlib import cm\n",
    "from mpl_toolkits.mplot3d import axes3d\n",
    "from matplotlib.ticker import MaxNLocator\n",
    "import scipy.signal\n",
    "import xgboost as xgb\n",
    "from xgboost.sklearn import XGBClassifier\n",
    "from hyperopt import hp, fmin, tpe, STATUS_OK, Trials\n",
    "import dill\n",
    "import sys\n",
    "sys.path.append('../')\n",
    "from modelfitting import train_test_split, ROC_curve, PR_curve, stable_unstable_hist, calibration_plot, unstable_error_fraction"
   ]
  },
  {
   "cell_type": "code",
   "execution_count": 2,
   "metadata": {},
   "outputs": [],
   "source": [
    "datapath = '/mnt/ssd/Dropbox/Dropbox (Princeton)/workspace/stability/MLstability/training_data/'\n",
    "dset = 'random/'\n",
    "featurefolder = 'ressummaryfeaturesxgbv6Norbits10000.0Nout1000/'\n",
    "features = ['C_AMDnear', 'C_AMDfar', 'C_AMDouter']"
   ]
  },
  {
   "cell_type": "code",
   "execution_count": 10,
   "metadata": {
    "scrolled": true
   },
   "outputs": [],
   "source": [
    "trainingdatafolder = datapath+dset+featurefolder\n",
    "trainX, trainY, testX, testY = train_test_split(trainingdatafolder, features, filter=False)"
   ]
  },
  {
   "cell_type": "code",
   "execution_count": 4,
   "metadata": {},
   "outputs": [
    {
     "data": {
      "text/plain": [
       "(20000, 3)"
      ]
     },
     "execution_count": 4,
     "metadata": {},
     "output_type": "execute_result"
    }
   ],
   "source": [
    "trainX.shape"
   ]
  },
  {
   "cell_type": "code",
   "execution_count": 15,
   "metadata": {},
   "outputs": [],
   "source": [
    "X = pd.read_csv(trainingdatafolder+\"trainingdata.csv\", index_col = 0)"
   ]
  },
  {
   "cell_type": "code",
   "execution_count": 17,
   "metadata": {},
   "outputs": [],
   "source": [
    "AMDstable = (X['C_AMDnear'] < 1) & (X['C_AMDfar'] < 1)"
   ]
  },
  {
   "cell_type": "code",
   "execution_count": 23,
   "metadata": {},
   "outputs": [],
   "source": [
    "y = pd.read_csv(trainingdatafolder+\"labels.csv\", index_col=0)['Stable']"
   ]
  },
  {
   "cell_type": "code",
   "execution_count": 24,
   "metadata": {},
   "outputs": [
    {
     "data": {
      "text/plain": [
       "9845"
      ]
     },
     "execution_count": 24,
     "metadata": {},
     "output_type": "execute_result"
    }
   ],
   "source": [
    "AMDstable.sum()"
   ]
  },
  {
   "cell_type": "code",
   "execution_count": 26,
   "metadata": {},
   "outputs": [
    {
     "data": {
      "text/plain": [
       "0.751752158456069"
      ]
     },
     "execution_count": 26,
     "metadata": {},
     "output_type": "execute_result"
    }
   ],
   "source": [
    "y[AMDstable].sum()/AMDstable.sum()"
   ]
  },
  {
   "cell_type": "code",
   "execution_count": 5,
   "metadata": {},
   "outputs": [
    {
     "name": "stderr",
     "output_type": "stream",
     "text": [
      "/home/dtamayo/miniconda3/envs/ml/lib/python3.7/site-packages/xgboost/core.py:587: FutureWarning: Series.base is deprecated and will be removed in a future version\n",
      "  if getattr(data, 'base', None) is not None and \\\n",
      "/home/dtamayo/miniconda3/envs/ml/lib/python3.7/site-packages/xgboost/core.py:588: FutureWarning: Series.base is deprecated and will be removed in a future version\n",
      "  data.base is not None and isinstance(data, np.ndarray) \\\n"
     ]
    }
   ],
   "source": [
    "space ={\n",
    "        'max_depth': hp.randint('x_max_depth',  20),\n",
    "        'min_child_weight': hp.quniform ('x_min_child', 1, 10, 1),\n",
    "        'subsample': hp.uniform ('x_subsample', 0.8, 1),\n",
    "        'scale_pos_weight': hp.uniform(\"x_pos_weight\", 1, 15),\n",
    "        \"learning_rate\":hp.uniform(\"x_learning_rate\",0.01,0.2),\n",
    "        'colsample_bytree': hp.uniform ('x_tree_colsample', 0.5,1),\n",
    "}\n",
    "\n",
    "dtrain = xgb.DMatrix(trainX, trainY)\n",
    "dtest = xgb.DMatrix(testX, testY)\n",
    "def objective(space):\n",
    "\n",
    "    clf = XGBClassifier(n_estimators = 100, \n",
    "                            max_depth = space['max_depth'], \n",
    "                            min_child_weight =space['min_child_weight'],\n",
    "                            subsample = space['subsample'],\n",
    "                            colsample_bytree =space['colsample_bytree'],\n",
    "                            learning_rate = space['learning_rate'], seed = 0)\n",
    "    \n",
    "    params = clf.get_xgb_params()\n",
    "    #dtest\n",
    "    score = xgb.cv(params, dtrain, nfold = 5, metrics = \"auc\", early_stopping_rounds=10)\n",
    "    #print score\n",
    "    #score = cross_val_score(clf, trainX, trainY, cv = 5, scoring=\"average_precision\")\n",
    "    avg_score =  np.mean(score[\"test-auc-mean\"])\n",
    "    error = np.mean(score[\"test-auc-std\"])\n",
    "    \n",
    "    bst = xgb.train(params, dtrain)\n",
    "    preds = bst.predict(dtest)\n",
    "    test_score = metrics.roc_auc_score(testY, preds)\n",
    "    \n",
    "    print(\"SCORE:\", avg_score, \"ERROR\", error, \"HOLDOUT SCORE\", test_score)\n",
    "\n",
    "    return{'loss':1-test_score, 'status': STATUS_OK, \"cv_score\":avg_score , \"cv_error\":error, \"holdout\":test_score }"
   ]
  },
  {
   "cell_type": "code",
   "execution_count": 6,
   "metadata": {
    "scrolled": true
   },
   "outputs": [
    {
     "name": "stdout",
     "output_type": "stream",
     "text": [
      "SCORE:                                              \n",
      "0.83998092                                          \n",
      "ERROR                                               \n",
      "0.022322015231901846                                \n",
      "HOLDOUT SCORE                                       \n",
      "0.8496168506941727                                  \n",
      "SCORE:                                                                       \n",
      "0.8388069400000001                                                           \n",
      "ERROR                                                                        \n",
      "0.02132286628250878                                                          \n",
      "HOLDOUT SCORE                                                                \n",
      "0.8507927813474409                                                           \n",
      "SCORE:                                                                        \n",
      "0.8294596200000001                                                            \n",
      "ERROR                                                                         \n",
      "0.022115147563722633                                                          \n",
      "HOLDOUT SCORE                                                                 \n",
      "0.8420648725653435                                                            \n",
      "SCORE:                                                                        \n",
      "0.87049818                                                                    \n",
      "ERROR                                                                         \n",
      "0.006502367073349953                                                          \n",
      "HOLDOUT SCORE                                                                 \n",
      "0.8873357731073808                                                            \n",
      "SCORE:                                                                        \n",
      "0.87013228                                                                    \n",
      "ERROR                                                                         \n",
      "0.006915900562762843                                                          \n",
      "HOLDOUT SCORE                                                                 \n",
      "0.8868904006827034                                                            \n",
      "SCORE:                                                                        \n",
      "0.8298558                                                                     \n",
      "ERROR                                                                         \n",
      "0.022848867648595835                                                          \n",
      "HOLDOUT SCORE                                                                 \n",
      "0.8404991991506758                                                            \n",
      "SCORE:                                                                        \n",
      "0.8311865599999999                                                            \n",
      "ERROR                                                                         \n",
      "0.02244145554705484                                                           \n",
      "HOLDOUT SCORE                                                                 \n",
      "0.8429530202466838                                                            \n",
      "SCORE:                                                                        \n",
      "0.86385662                                                                    \n",
      "ERROR                                                                         \n",
      "0.0068421240951035776                                                         \n",
      "HOLDOUT SCORE                                                                 \n",
      "0.8823819683483972                                                            \n",
      "SCORE:                                                                        \n",
      "0.8325765199999999                                                            \n",
      "ERROR                                                                         \n",
      "0.021908323078765342                                                          \n",
      "HOLDOUT SCORE                                                                 \n",
      "0.8439037512992122                                                            \n",
      "SCORE:                                                                        \n",
      "0.87051508                                                                    \n",
      "ERROR                                                                         \n",
      "0.007452186561307332                                                          \n",
      "HOLDOUT SCORE                                                                 \n",
      "0.8877048223042778                                                            \n",
      "SCORE:                                                                         \n",
      "0.81616288                                                                     \n",
      "ERROR                                                                          \n",
      "0.007796488111855879                                                           \n",
      "HOLDOUT SCORE                                                                  \n",
      "0.8383171591204415                                                             \n",
      "SCORE:                                                                         \n",
      "0.8670879600000001                                                             \n",
      "ERROR                                                                          \n",
      "0.00689313707383977                                                            \n",
      "HOLDOUT SCORE                                                                  \n",
      "0.8858541306449237                                                             \n",
      "SCORE:                                                                         \n",
      "0.8671412799999999                                                             \n",
      "ERROR                                                                          \n",
      "0.005983638337806166                                                           \n",
      "HOLDOUT SCORE                                                                  \n",
      "0.8848107393400076                                                             \n",
      "SCORE:                                                                         \n",
      "0.87037408                                                                     \n",
      "ERROR                                                                          \n",
      "0.007305688783236235                                                           \n",
      "HOLDOUT SCORE                                                                  \n",
      "0.8875013216234009                                                             \n",
      "SCORE:                                                                         \n",
      "0.8680716399999999                                                             \n",
      "ERROR                                                                          \n",
      "0.006415670456202642                                                           \n",
      "HOLDOUT SCORE                                                                  \n",
      "0.887020342863041                                                              \n",
      "SCORE:                                                                         \n",
      "0.8677805                                                                      \n",
      "ERROR                                                                          \n",
      "0.007040628621764267                                                           \n",
      "HOLDOUT SCORE                                                                  \n",
      "0.886112674531785                                                              \n",
      "SCORE:                                                                         \n",
      "0.86499892                                                                     \n",
      "ERROR                                                                          \n",
      "0.005154861805792952                                                           \n",
      "HOLDOUT SCORE                                                                  \n",
      "0.8826051572384161                                                             \n",
      "SCORE:                                                                         \n",
      "0.86473116                                                                     \n",
      "ERROR                                                                          \n",
      "0.007425597607840996                                                           \n",
      "HOLDOUT SCORE                                                                  \n",
      "0.8835763305166068                                                             \n",
      "SCORE:                                                                         \n",
      "0.8703240400000001                                                             \n",
      "ERROR                                                                          \n",
      "0.007106515574941416                                                           \n",
      "HOLDOUT SCORE                                                                  \n",
      "0.8889382257723182                                                             \n",
      "SCORE:                                                                         \n",
      "0.8717821200000001                                                             \n",
      "ERROR                                                                          \n",
      "0.006821642424154303                                                           \n",
      "HOLDOUT SCORE                                                                  \n",
      "0.8883340909803037                                                             \n",
      "SCORE:                                                                         \n",
      "0.8706706399999999                                                             \n",
      "ERROR                                                                          \n",
      "0.007284732505605668                                                           \n",
      "HOLDOUT SCORE                                                                  \n",
      "0.8892636257906492                                                             \n",
      "SCORE:                                                                         \n",
      "0.8708588199999999                                                             \n",
      "ERROR                                                                          \n",
      "0.007251718682552111                                                           \n",
      "HOLDOUT SCORE                                                                  \n",
      "0.8894031188469109                                                             \n",
      "SCORE:                                                                         \n",
      "0.8722216999999999                                                             \n",
      "ERROR                                                                          \n",
      "0.0069750715914424525                                                          \n",
      "HOLDOUT SCORE                                                                  \n",
      "0.8909975286689648                                                             \n",
      "SCORE:                                                                         \n",
      "0.87024884                                                                     \n",
      "ERROR                                                                          \n",
      "0.006149149596037511                                                           \n",
      "HOLDOUT SCORE                                                                  \n",
      "0.887464039695451                                                              \n",
      "SCORE:                                                                         \n",
      "0.86909992                                                                     \n",
      "ERROR                                                                          \n",
      "0.00665485499502214                                                            \n",
      "HOLDOUT SCORE                                                                  \n",
      "0.8867063368721284                                                             \n",
      "SCORE:                                                                         \n",
      "0.86917998                                                                     \n",
      "ERROR                                                                          \n",
      "0.006671720137758794                                                           \n",
      "HOLDOUT SCORE                                                                  \n",
      "0.8880737877215614                                                             \n",
      "SCORE:                                                                         \n",
      "0.5                                                                            \n",
      "ERROR                                                                          \n",
      "0.0                                                                            \n",
      "HOLDOUT SCORE                                                                  \n",
      "0.5                                                                            \n",
      "SCORE:                                                                         \n",
      "0.86562874                                                                     \n",
      "ERROR                                                                          \n",
      "0.0075164848876909844                                                          \n",
      "HOLDOUT SCORE                                                                  \n",
      "0.8880474809229633                                                             \n",
      "SCORE:                                                                         \n",
      "0.8682960999999999                                                             \n",
      "ERROR                                                                          \n",
      "0.006541682122670247                                                           \n",
      "HOLDOUT SCORE                                                                  \n",
      "0.8858315101493136                                                             \n",
      "SCORE:                                                                         \n",
      "0.8401166600000002                                                             \n",
      "ERROR                                                                          \n",
      "0.02151925593686909                                                            \n",
      "HOLDOUT SCORE                                                                  \n",
      "0.8531474073812185                                                             \n",
      "SCORE:                                                                         \n",
      "0.87223604                                                                     \n",
      "ERROR                                                                          \n",
      "0.006906932952217028                                                           \n",
      "HOLDOUT SCORE                                                                  \n",
      "0.8902418365563629                                                             \n",
      "SCORE:                                                                         \n",
      "0.8722734000000001                                                             \n",
      "ERROR                                                                          \n",
      "0.006914842365743655                                                           \n",
      "HOLDOUT SCORE                                                                  \n",
      "0.8906018375550161                                                             \n",
      "SCORE:                                                                         \n",
      "0.8739176599999998                                                             \n",
      "ERROR                                                                          \n",
      "0.006078326385296752                                                           \n",
      "HOLDOUT SCORE                                                                  \n",
      "0.8915546630978786                                                             \n",
      "SCORE:                                                                         \n",
      "0.87407254                                                                     \n",
      "ERROR                                                                          \n",
      "0.006195835317842643                                                           \n",
      "HOLDOUT SCORE                                                                  \n",
      "0.8909279915898674                                                             \n",
      "SCORE:                                                                         \n",
      "0.8732819800000001                                                             \n",
      "ERROR                                                                          \n"
     ]
    },
    {
     "name": "stdout",
     "output_type": "stream",
     "text": [
      "0.006645592815441718                                                           \n",
      "HOLDOUT SCORE                                                                  \n",
      "0.890448772201388                                                              \n",
      "SCORE:                                                                         \n",
      "0.8269361                                                                      \n",
      "ERROR                                                                          \n",
      "0.023021512760774458                                                           \n",
      "HOLDOUT SCORE                                                                  \n",
      "0.8371143352112813                                                             \n",
      "SCORE:                                                                         \n",
      "0.87406386                                                                     \n",
      "ERROR                                                                          \n",
      "0.0065161129161600394                                                          \n",
      "HOLDOUT SCORE                                                                  \n",
      "0.8909362019919778                                                             \n",
      "SCORE:                                                                         \n",
      "0.82187994                                                                     \n",
      "ERROR                                                                          \n",
      "0.023421415663228196                                                           \n",
      "HOLDOUT SCORE                                                                  \n",
      "0.8370151401490507                                                             \n",
      "SCORE:                                                                         \n",
      "0.8651623799999999                                                             \n",
      "ERROR                                                                          \n",
      "0.006879933159430619                                                           \n",
      "HOLDOUT SCORE                                                                  \n",
      "0.8841414240087909                                                             \n",
      "SCORE:                                                                         \n",
      "0.8144083                                                                      \n",
      "ERROR                                                                          \n",
      "0.020361042937795122                                                           \n",
      "HOLDOUT SCORE                                                                  \n",
      "0.8486920913217892                                                             \n",
      "SCORE:                                                                         \n",
      "0.86790356                                                                     \n",
      "ERROR                                                                          \n",
      "0.0070010061399440795                                                          \n",
      "HOLDOUT SCORE                                                                  \n",
      "0.8861091557880234                                                             \n",
      "SCORE:                                                                         \n",
      "0.86717518                                                                     \n",
      "ERROR                                                                          \n",
      "0.007265129484823192                                                           \n",
      "HOLDOUT SCORE                                                                  \n",
      "0.8866202114295835                                                             \n",
      "SCORE:                                                                         \n",
      "0.86529192                                                                     \n",
      "ERROR                                                                          \n",
      "0.007486564713139296                                                           \n",
      "HOLDOUT SCORE                                                                  \n",
      "0.8874395760483468                                                             \n",
      "SCORE:                                                                         \n",
      "0.87343882                                                                     \n",
      "ERROR                                                                          \n",
      "0.006260765486641065                                                           \n",
      "HOLDOUT SCORE                                                                  \n",
      "0.8902462768758715                                                             \n",
      "SCORE:                                                                         \n",
      "0.8680899                                                                      \n",
      "ERROR                                                                          \n",
      "0.006613742480537891                                                           \n",
      "HOLDOUT SCORE                                                                  \n",
      "0.8858077167391164                                                             \n",
      "SCORE:                                                                         \n",
      "0.8721666599999999                                                             \n",
      "ERROR                                                                          \n",
      "0.00645673822774908                                                            \n",
      "HOLDOUT SCORE                                                                  \n",
      "0.8886543804422189                                                             \n",
      "SCORE:                                                                         \n",
      "0.86127788                                                                     \n",
      "ERROR                                                                          \n",
      "0.006059118144831543                                                           \n",
      "HOLDOUT SCORE                                                                  \n",
      "0.87914145668284                                                               \n",
      "SCORE:                                                                         \n",
      "0.87247644                                                                     \n",
      "ERROR                                                                          \n",
      "0.00617095000207361                                                            \n",
      "HOLDOUT SCORE                                                                  \n",
      "0.889745693685983                                                              \n",
      "SCORE:                                                                         \n",
      "0.5                                                                            \n",
      "ERROR                                                                          \n",
      "0.0                                                                            \n",
      "HOLDOUT SCORE                                                                  \n",
      "0.5                                                                            \n",
      "SCORE:                                                                         \n",
      "0.8723748                                                                      \n",
      "ERROR                                                                          \n",
      "0.00668767689243902                                                            \n",
      "HOLDOUT SCORE                                                                  \n",
      "0.8894294256455093                                                             \n",
      "100%|██████████| 50/50 [00:39<00:00,  1.36it/s, best loss: 0.10844533690212144]\n",
      "Optimization Time: %f seconds 39.20607304573059\n",
      "CPU times: user 38.6 s, sys: 834 ms, total: 39.5 s\n",
      "Wall time: 39.2 s\n"
     ]
    }
   ],
   "source": [
    "%%time\n",
    "trials = Trials()\n",
    "import time\n",
    "start = time.time()\n",
    "best = fmin(fn=objective, space = space, algo = tpe.suggest, max_evals = 50, trials = trials)\n",
    "end = time.time()\n",
    "print(\"Optimization Time: %f seconds\", (end  -start))"
   ]
  },
  {
   "cell_type": "code",
   "execution_count": 7,
   "metadata": {},
   "outputs": [
    {
     "data": {
      "text/plain": [
       "{'x_learning_rate': 0.1687683480481511,\n",
       " 'x_max_depth': 4,\n",
       " 'x_min_child': 1.0,\n",
       " 'x_pos_weight': 1.848176033923668,\n",
       " 'x_subsample': 0.8188333385766203,\n",
       " 'x_tree_colsample': 0.9381900446503051}"
      ]
     },
     "execution_count": 7,
     "metadata": {},
     "output_type": "execute_result"
    }
   ],
   "source": [
    "best"
   ]
  },
  {
   "cell_type": "code",
   "execution_count": 8,
   "metadata": {},
   "outputs": [
    {
     "name": "stdout",
     "output_type": "stream",
     "text": [
      "[0]\ttrain-auc:0.874424+0.00156245\ttest-auc:0.870493+0.00628557\n",
      "[1]\ttrain-auc:0.876693+0.00402587\ttest-auc:0.871141+0.00639984\n",
      "[2]\ttrain-auc:0.875609+0.0079003\ttest-auc:0.869287+0.0106464\n",
      "[3]\ttrain-auc:0.879974+0.00351895\ttest-auc:0.874371+0.00554523\n",
      "[4]\ttrain-auc:0.879683+0.00517245\ttest-auc:0.873172+0.00731483\n",
      "[5]\ttrain-auc:0.880523+0.00326773\ttest-auc:0.874218+0.00635297\n",
      "[6]\ttrain-auc:0.882178+0.00233574\ttest-auc:0.875992+0.00557758\n",
      "[7]\ttrain-auc:0.883227+0.0019072\ttest-auc:0.877067+0.00518284\n",
      "[8]\ttrain-auc:0.884115+0.00146973\ttest-auc:0.877797+0.0053453\n",
      "[9]\ttrain-auc:0.884886+0.00155916\ttest-auc:0.878604+0.0051182\n",
      "   train-auc-mean  train-auc-std  test-auc-mean  test-auc-std\n",
      "0        0.874424       0.001562       0.870493      0.006286\n",
      "1        0.876693       0.004026       0.871141      0.006400\n",
      "2        0.875609       0.007900       0.869287      0.010646\n",
      "3        0.879974       0.003519       0.874371      0.005545\n",
      "4        0.879683       0.005172       0.873172      0.007315\n",
      "5        0.880523       0.003268       0.874218      0.006353\n",
      "6        0.882178       0.002336       0.875992      0.005578\n",
      "7        0.883227       0.001907       0.877067      0.005183\n",
      "8        0.884115       0.001470       0.877797      0.005345\n",
      "9        0.884886       0.001559       0.878604      0.005118\n",
      "0.8527037064396072\n"
     ]
    },
    {
     "name": "stderr",
     "output_type": "stream",
     "text": [
      "/home/dtamayo/miniconda3/envs/ml/lib/python3.7/site-packages/xgboost/core.py:587: FutureWarning: Series.base is deprecated and will be removed in a future version\n",
      "  if getattr(data, 'base', None) is not None and \\\n",
      "/home/dtamayo/miniconda3/envs/ml/lib/python3.7/site-packages/xgboost/core.py:588: FutureWarning: Series.base is deprecated and will be removed in a future version\n",
      "  data.base is not None and isinstance(data, np.ndarray) \\\n"
     ]
    }
   ],
   "source": [
    "best_xgbc = XGBClassifier(n_estimators=100, scale_pos_weight=best[\"x_pos_weight\"],\n",
    "                         learning_rate = best[\"x_learning_rate\"], \n",
    "                         max_depth = int(best[\"x_max_depth\"]), \n",
    "                         min_child_weight = best[\"x_min_child\"],\n",
    "                         subsample = best[\"x_subsample\"], \n",
    "                         colsample_bytree = best[\"x_tree_colsample\"])\n",
    "params = best_xgbc.get_xgb_params()\n",
    "score = xgb.cv(params, dtrain, nfold = 5, metrics = \"auc\", verbose_eval=True)\n",
    "print(score)\n",
    "d_Train = xgb.DMatrix(trainX, trainY)\n",
    "d_Test = xgb.DMatrix(testX)\n",
    "bst = xgb.train(params, d_Train)\n",
    "preds = bst.predict(d_Test)\n",
    "score = metrics.average_precision_score(testY, preds)\n",
    "print(score)"
   ]
  },
  {
   "cell_type": "code",
   "execution_count": 9,
   "metadata": {},
   "outputs": [
    {
     "data": {
      "text/plain": [
       "XGBClassifier(base_score=0.5, booster='gbtree', colsample_bylevel=1,\n",
       "              colsample_bytree=0.9381900446503051, gamma=0,\n",
       "              learning_rate=0.1687683480481511, max_delta_step=0, max_depth=4,\n",
       "              min_child_weight=1.0, missing=None, n_estimators=100, n_jobs=1,\n",
       "              nthread=None, objective='binary:logistic', random_state=0,\n",
       "              reg_alpha=0, reg_lambda=1, scale_pos_weight=1.848176033923668,\n",
       "              seed=None, silent=True, subsample=0.8188333385766203)"
      ]
     },
     "execution_count": 9,
     "metadata": {},
     "output_type": "execute_result"
    }
   ],
   "source": [
    "model = XGBClassifier(n_estimators=100, scale_pos_weight=best[\"x_pos_weight\"],\n",
    "                         learning_rate = best[\"x_learning_rate\"], \n",
    "                         max_depth = int(best[\"x_max_depth\"]), \n",
    "                         min_child_weight = best[\"x_min_child\"],\n",
    "                         subsample = best[\"x_subsample\"], \n",
    "                         colsample_bytree = best[\"x_tree_colsample\"])\n",
    "\n",
    "model.fit(trainX, trainY)"
   ]
  },
  {
   "cell_type": "code",
   "execution_count": 10,
   "metadata": {},
   "outputs": [],
   "source": [
    "dill.dump([model, features, featurefolder], open(datapath+\"../models/AMD_random.pkl\", \"wb\"))"
   ]
  },
  {
   "cell_type": "code",
   "execution_count": 11,
   "metadata": {},
   "outputs": [
    {
     "data": {
      "text/plain": [
       "Text(0.5, 1.0, 'ROC curve (AUC = 0.901)')"
      ]
     },
     "execution_count": 11,
     "metadata": {},
     "output_type": "execute_result"
    },
    {
     "data": {
      "image/png": "[encoded data removed]",
      "text/plain": [
       "<Figure size 432x288 with 1 Axes>"
      ]
     },
     "metadata": {
      "needs_background": "light"
     },
     "output_type": "display_data"
    }
   ],
   "source": [
    "roc_auc, fpr, tpr, ROCthresholds = ROC_curve(trainingdatafolder, model, features, filter=False)\n",
    "\n",
    "fig, ax = plt.subplots()\n",
    "ax.plot(fpr, tpr)\n",
    "ax.plot([0, 1], [0, 1], 'k--')\n",
    "ax.set_xlim([0.0, 1.0])\n",
    "ax.set_ylim([0.0, 1.0])\n",
    "ax.set_xlabel('False Positive Rate')\n",
    "ax.set_ylabel('True Positive Rate')\n",
    "ax.set_title('ROC curve (AUC = {0:.3f})'.format(roc_auc))"
   ]
  },
  {
   "cell_type": "code",
   "execution_count": 12,
   "metadata": {},
   "outputs": [
    {
     "name": "stdout",
     "output_type": "stream",
     "text": [
      "Threshold 0.0008068087045103312, recall = 1.0, precision = 0.3938\n",
      "Threshold 0.002042278880253434, recall = 0.9994921279837481, precision = 0.39709443099273606\n",
      "Threshold 0.0026730389799922705, recall = 0.9994921279837481, precision = 0.39862264533117275\n",
      "Threshold 0.003631517058238387, recall = 0.9994921279837481, precision = 0.3998374644453474\n",
      "Threshold 0.004477680195122957, recall = 0.9994921279837481, precision = 0.40105971061748524\n",
      "Threshold 0.0054695080034434795, recall = 0.9994921279837481, precision = 0.40245398773006136\n",
      "Threshold 0.0060615455731749535, recall = 0.9994921279837481, precision = 0.4037751333606894\n",
      "Threshold 0.006666429806500673, recall = 0.9994921279837481, precision = 0.40510498147385754\n",
      "Threshold 0.0078071970492601395, recall = 0.9994921279837481, precision = 0.40644361833952913\n",
      "Threshold 0.008773335255682468, recall = 0.9994921279837481, precision = 0.40779113137173645\n",
      "Threshold 0.010193964466452599, recall = 0.9994921279837481, precision = 0.40923268870867124\n",
      "Threshold 0.012058327905833721, recall = 0.9994921279837481, precision = 0.41051314142678347\n",
      "Threshold 0.013041426427662373, recall = 0.9989842559674962, precision = 0.4116785265801591\n",
      "Threshold 0.01477724127471447, recall = 0.9989842559674962, precision = 0.4130617387652247\n",
      "Threshold 0.015512150712311268, recall = 0.9989842559674962, precision = 0.4144542772861357\n",
      "Threshold 0.01723807491362095, recall = 0.9984763839512443, precision = 0.41573271304715587\n",
      "Threshold 0.018750596791505814, recall = 0.9984763839512443, precision = 0.41705557912600766\n",
      "Threshold 0.020963208749890327, recall = 0.9984763839512443, precision = 0.4184759472115794\n",
      "Threshold 0.02204078435897827, recall = 0.9984763839512443, precision = 0.419816357036088\n",
      "Threshold 0.02568400278687477, recall = 0.9984763839512443, precision = 0.42116538131962294\n",
      "Threshold 0.02695169299840927, recall = 0.9984763839512443, precision = 0.42261392949269133\n",
      "Threshold 0.028765395283699036, recall = 0.9984763839512443, precision = 0.4239810222126375\n",
      "Threshold 0.03090587444603443, recall = 0.9979685119349924, precision = 0.42514063176114236\n",
      "Threshold 0.0337025411427021, recall = 0.9979685119349924, precision = 0.4266174554928354\n",
      "Threshold 0.03569607064127922, recall = 0.9979685119349924, precision = 0.42801132650838597\n",
      "Threshold 0.038357075303792953, recall = 0.9979685119349924, precision = 0.4294143356643357\n",
      "Threshold 0.041053835302591324, recall = 0.9979685119349924, precision = 0.43082657311992983\n",
      "Threshold 0.04307135194540024, recall = 0.9979685119349924, precision = 0.4322481302243731\n",
      "Threshold 0.04531608521938324, recall = 0.9974606399187405, precision = 0.43345839770470096\n",
      "Threshold 0.04666340723633766, recall = 0.9974606399187405, precision = 0.4348981399468556\n",
      "Threshold 0.048685647547245026, recall = 0.9969527679024885, precision = 0.4361253054876694\n",
      "Threshold 0.0504230260848999, recall = 0.9969527679024885, precision = 0.43758359340169417\n",
      "Threshold 0.05167040228843689, recall = 0.9969527679024885, precision = 0.43905166629389397\n",
      "Threshold 0.05414546653628349, recall = 0.9969527679024885, precision = 0.44052962298025133\n",
      "Threshold 0.05685912072658539, recall = 0.9969527679024885, precision = 0.44201756361179917\n",
      "Threshold 0.05979744717478752, recall = 0.9969527679024885, precision = 0.4435155896972436\n",
      "Threshold 0.06144115328788757, recall = 0.9969527679024885, precision = 0.44502380412604853\n",
      "Threshold 0.0627000629901886, recall = 0.9954291518537328, precision = 0.445859872611465\n",
      "Threshold 0.0638001561164856, recall = 0.9954291518537328, precision = 0.44738644145172335\n",
      "Threshold 0.06577860563993454, recall = 0.9954291518537328, precision = 0.4489234997709574\n",
      "Threshold 0.06734711676836014, recall = 0.9954291518537328, precision = 0.45047115605607907\n",
      "Threshold 0.06910243630409241, recall = 0.9954291518537328, precision = 0.45202952029520294\n",
      "Threshold 0.07114347815513611, recall = 0.9954291518537328, precision = 0.45359870400370284\n",
      "Threshold 0.07329978793859482, recall = 0.9949212798374809, precision = 0.45494658615884814\n",
      "Threshold 0.07542942464351654, recall = 0.9939055358049771, precision = 0.4560708459566535\n",
      "Threshold 0.07768406718969345, recall = 0.9933976637887253, precision = 0.45743685687558466\n",
      "Threshold 0.07938110083341599, recall = 0.9933976637887253, precision = 0.4590471720253462\n",
      "Threshold 0.0810469537973404, recall = 0.9923819197562215, precision = 0.46019783325482805\n",
      "Threshold 0.08281537890434265, recall = 0.9923819197562215, precision = 0.4618293547624675\n",
      "Threshold 0.08462174236774445, recall = 0.9918740477399696, precision = 0.46334519572953736\n",
      "Threshold 0.0859803706407547, recall = 0.9908583037074657, precision = 0.4645238095238095\n",
      "Threshold 0.0870368629693985, recall = 0.9903504316912138, precision = 0.4659498207885305\n",
      "Threshold 0.0893191248178482, recall = 0.98933468765871, precision = 0.4671462829736211\n",
      "Threshold 0.09170161932706833, recall = 0.98933468765871, precision = 0.46905851191909465\n",
      "Threshold 0.09441527724266052, recall = 0.98933468765871, precision = 0.4707588206863219\n",
      "Threshold 0.0962177962064743, recall = 0.98933468765871, precision = 0.47247150133398014\n",
      "Threshold 0.09764263033866882, recall = 0.9883189436262062, precision = 0.47370983446932813\n",
      "Threshold 0.10050260275602341, recall = 0.9883189436262062, precision = 0.4756783182595942\n",
      "Threshold 0.10184960067272186, recall = 0.9878110716099543, precision = 0.4771835132482826\n",
      "Threshold 0.1048939898610115, recall = 0.9867953275774505, precision = 0.4785714285714286\n",
      "Threshold 0.106772281229496, recall = 0.9862874555611986, precision = 0.48009888751545116\n",
      "Threshold 0.10918056219816208, recall = 0.9857795835449467, precision = 0.4816377171215881\n",
      "Threshold 0.11128401756286621, recall = 0.9857795835449467, precision = 0.48343711083437113\n",
      "Threshold 0.11353634297847748, recall = 0.9852717115286947, precision = 0.485\n",
      "Threshold 0.11542564630508423, recall = 0.9842559674961909, precision = 0.4863237139272271\n",
      "Threshold 0.117316335439682, recall = 0.983748095479939, precision = 0.48790931989924435\n",
      "Threshold 0.11934509128332138, recall = 0.9832402234636871, precision = 0.48950695322376736\n",
      "Threshold 0.12094472348690033, recall = 0.9827323514474352, precision = 0.49111675126903553\n",
      "Threshold 0.12330548465251923, recall = 0.9817166074149314, precision = 0.49248407643312103\n",
      "Threshold 0.12501876056194305, recall = 0.9817166074149314, precision = 0.49437340153452686\n",
      "Threshold 0.12711091339588165, recall = 0.9812087353986796, precision = 0.49602053915275995\n",
      "Threshold 0.12822991609573364, recall = 0.9812087353986796, precision = 0.4981949458483754\n",
      "Threshold 0.13012857735157013, recall = 0.9801929913661758, precision = 0.4996117007507119\n",
      "Threshold 0.13245996832847595, recall = 0.979177247333672, precision = 0.501039501039501\n",
      "Threshold 0.13517695665359497, recall = 0.97866937531742, precision = 0.5028705636743215\n",
      "Threshold 0.13754461705684662, recall = 0.9781615033011681, precision = 0.5045847524233691\n",
      "Threshold 0.14027118682861328, recall = 0.9781615033011681, precision = 0.5067087608524072\n",
      "Threshold 0.140755295753479, recall = 0.9781615033011681, precision = 0.508716323296355\n",
      "Threshold 0.14198648929595947, recall = 0.9776536312849162, precision = 0.5104746751524795\n",
      "Threshold 0.14418040215969086, recall = 0.9771457592686643, precision = 0.5122470713525027\n",
      "Threshold 0.1462371051311493, recall = 0.9766378872524124, precision = 0.5143086386734421\n",
      "Threshold 0.14865584671497345, recall = 0.9761300152361605, precision = 0.5161117078410311\n",
      "Threshold 0.15081706643104553, recall = 0.9761300152361605, precision = 0.518198975465085\n",
      "Threshold 0.15205037593841553, recall = 0.9761300152361605, precision = 0.520444083401029\n",
      "Threshold 0.15388859808444977, recall = 0.9756221432199086, precision = 0.522294725394236\n",
      "Threshold 0.1554887294769287, recall = 0.9746063991874048, precision = 0.5238875238875239\n",
      "Threshold 0.15779097378253937, recall = 0.9740985271711529, precision = 0.5257675438596491\n",
      "Threshold 0.16021282970905304, recall = 0.973082783138649, precision = 0.527678325530157\n",
      "Threshold 0.16260121762752533, recall = 0.973082783138649, precision = 0.5298672566371682\n",
      "Threshold 0.1654108464717865, recall = 0.973082783138649, precision = 0.5320744237711746\n",
      "Threshold 0.16885320842266083, recall = 0.9720670391061452, precision = 0.5337423312883436\n",
      "Threshold 0.17085859179496765, recall = 0.9720670391061452, precision = 0.5359843181181742\n",
      "Threshold 0.17389683425426483, recall = 0.9715591670898933, precision = 0.5379640044994376\n",
      "Threshold 0.17650733888149261, recall = 0.9705434230573895, precision = 0.5398305084745763\n",
      "Threshold 0.17866377532482147, recall = 0.9705434230573895, precision = 0.5422814982973894\n",
      "Threshold 0.18360717594623566, recall = 0.9705434230573895, precision = 0.5445996010259333\n",
      "Threshold 0.1862753927707672, recall = 0.9690198070086338, precision = 0.546078992558672\n",
      "Threshold 0.18908250331878662, recall = 0.9680040629761301, precision = 0.547858580051739\n",
      "Threshold 0.19211839139461517, recall = 0.9674961909598782, precision = 0.5499422632794457\n",
      "Threshold 0.19590844213962555, recall = 0.9674961909598782, precision = 0.5524941995359629\n",
      "Threshold 0.20056207478046417, recall = 0.9664804469273743, precision = 0.5543256626856976\n",
      "Threshold 0.20358259975910187, recall = 0.9659725749111224, precision = 0.5564657694558222\n",
      "Threshold 0.20667089521884918, recall = 0.9654647028948705, precision = 0.5586247428739347\n",
      "Threshold 0.20937561988830566, recall = 0.9649568308786186, precision = 0.5608028335301063\n",
      "Threshold 0.21290796995162964, recall = 0.9644489588623667, precision = 0.5630002964719834\n",
      "Threshold 0.21620184183120728, recall = 0.962925342813611, precision = 0.5646217986896962\n",
      "Threshold 0.2190375179052353, recall = 0.962925342813611, precision = 0.5671552497756506\n",
      "Threshold 0.2222987562417984, recall = 0.9624174707973591, precision = 0.5695822061917644\n",
      "Threshold 0.22537918388843536, recall = 0.9614017267648552, precision = 0.5715579710144928\n",
      "Threshold 0.22969408333301544, recall = 0.9593702386998476, precision = 0.572945101607522\n",
      "Threshold 0.23288825154304504, recall = 0.9578466226510919, precision = 0.5746496039000609\n",
      "Threshold 0.23619398474693298, recall = 0.9578466226510919, precision = 0.5772880318334864\n",
      "Threshold 0.2413167953491211, recall = 0.9558151345860844, precision = 0.5787207872078721\n",
      "Threshold 0.2432689517736435, recall = 0.9547993905535805, precision = 0.5807846771702193\n",
      "Threshold 0.24635076522827148, recall = 0.9537836465210767, precision = 0.5830487426265135\n",
      "Threshold 0.24989281594753265, recall = 0.9512442864398172, precision = 0.5842170929507174\n",
      "Threshold 0.25529175996780396, recall = 0.9497206703910615, precision = 0.5863907180934462\n",
      "Threshold 0.2589133083820343, recall = 0.9481970543423057, precision = 0.5882167611846251\n",
      "Threshold 0.26429715752601624, recall = 0.94667343829355, precision = 0.5900601456157012\n",
      "Threshold 0.2684882879257202, recall = 0.9441340782122905, precision = 0.5912849872773537\n",
      "Threshold 0.2731851637363434, recall = 0.9436262061960387, precision = 0.5937999360818152\n",
      "Threshold 0.27644407749176025, recall = 0.9426104621635348, precision = 0.5960179833012202\n",
      "Threshold 0.28095144033432007, recall = 0.9405789740985272, precision = 0.5976121329461116\n",
      "Threshold 0.2854929268360138, recall = 0.9390553580497715, precision = 0.5995460440985733\n",
      "Threshold 0.29115360975265503, recall = 0.9380396140172677, precision = 0.6020208604954368\n",
      "Threshold 0.2948838472366333, recall = 0.9365159979685119, precision = 0.6039960694398951\n",
      "Threshold 0.2988153398036957, recall = 0.9355002539360081, precision = 0.6063199473337723\n",
      "Threshold 0.30195730924606323, recall = 0.9344845099035043, precision = 0.6086668871981475\n",
      "Threshold 0.304964154958725, recall = 0.9334687658710005, precision = 0.6110372340425532\n",
      "Threshold 0.30936557054519653, recall = 0.9319451498222447, precision = 0.6135071882313607\n",
      "Threshold 0.3109608590602875, recall = 0.9314372778059928, precision = 0.616263440860215\n",
      "Threshold 0.31526437401771545, recall = 0.9299136617572372, precision = 0.618372171563661\n",
      "Threshold 0.3172789216041565, recall = 0.9288979177247334, precision = 0.6208418194161575\n",
      "Threshold 0.31969302892684937, recall = 0.9273743016759777, precision = 0.6229955646537018\n",
      "Threshold 0.3262176513671875, recall = 0.9248349415947181, precision = 0.6244855967078189\n",
      "Threshold 0.33056333661079407, recall = 0.9222955815134586, precision = 0.6259910375732506\n",
      "Threshold 0.334216833114624, recall = 0.920264093448451, precision = 0.6278586278586279\n",
      "Threshold 0.3402276933193207, recall = 0.9187404773996953, precision = 0.6300940438871473\n",
      "Threshold 0.34277260303497314, recall = 0.9177247333671915, precision = 0.632703081232493\n",
      "Threshold 0.34619084000587463, recall = 0.9156932453021839, precision = 0.6348591549295775\n",
      "Threshold 0.3497729003429413, recall = 0.9141696292534282, precision = 0.6373937677053825\n",
      "Threshold 0.3534095585346222, recall = 0.9126460132046724, precision = 0.6397294410822356\n",
      "Threshold 0.35699769854545593, recall = 0.9116302691721686, precision = 0.6426781238811314\n",
      "Threshold 0.36259475350379944, recall = 0.9085830370746572, precision = 0.6439884809215263\n",
      "Threshold 0.3664131164550781, recall = 0.9060436769933977, precision = 0.6456749909518639\n",
      "Threshold 0.37001967430114746, recall = 0.9035043169121382, precision = 0.6473799126637555\n",
      "Threshold 0.375093936920166, recall = 0.9014728288471305, precision = 0.6494694474935968\n",
      "Threshold 0.37906044721603394, recall = 0.8994413407821229, precision = 0.6515820456217807\n",
      "Threshold 0.3825124204158783, recall = 0.8979177247333672, precision = 0.6540880503144654\n",
      "Threshold 0.38596391677856445, recall = 0.8963941086846114, precision = 0.656866393747674\n",
      "Threshold 0.3883059620857239, recall = 0.8953783646521076, precision = 0.6600524148259079\n",
      "Threshold 0.3918634355068207, recall = 0.8938547486033519, precision = 0.6626506024096386\n",
      "Threshold 0.3945807218551636, recall = 0.8908075165058406, precision = 0.6641423703142749\n",
      "Threshold 0.3991307318210602, recall = 0.8892839004570848, precision = 0.6667936024371668\n",
      "Threshold 0.40283578634262085, recall = 0.8862366683595734, precision = 0.6683263117579471\n",
      "Threshold 0.40828782320022583, recall = 0.8831894362620619, precision = 0.6698767334360555\n",
      "Threshold 0.41307783126831055, recall = 0.8816658202133062, precision = 0.6726075164664859\n",
      "Threshold 0.4169977307319641, recall = 0.8801422041645506, precision = 0.6756335282651073\n",
      "Threshold 0.4193936586380005, recall = 0.877602844083291, precision = 0.6776470588235294\n",
      "Threshold 0.4230482280254364, recall = 0.8760792280345353, precision = 0.6804733727810651\n",
      "Threshold 0.4268989861011505, recall = 0.8740477399695277, precision = 0.682936507936508\n",
      "Threshold 0.4307314157485962, recall = 0.8710005078720162, precision = 0.6851777866560128\n",
      "Threshold 0.43392524123191833, recall = 0.8679532757745049, precision = 0.6868971061093248\n",
      "Threshold 0.4366408586502075, recall = 0.8654139156932453, precision = 0.6890416498180347\n",
      "Threshold 0.4382389485836029, recall = 0.8643981716607415, precision = 0.692432872253865\n",
      "Threshold 0.4423518478870392, recall = 0.8623666835957339, precision = 0.695047073270569\n",
      "Threshold 0.4463079571723938, recall = 0.8598273235144743, precision = 0.6975690152451587\n",
      "Threshold 0.4487014412879944, recall = 0.8572879634332148, precision = 0.6998341625207297\n",
      "Threshold 0.4526301920413971, recall = 0.8557643473844592, precision = 0.7029620358781811\n",
      "Threshold 0.4562819302082062, recall = 0.8537328593194515, precision = 0.7057094878253568\n",
      "Threshold 0.4603290259838104, recall = 0.851193499238192, precision = 0.7080692860160541\n",
      "Threshold 0.463250070810318, recall = 0.8481462671406805, precision = 0.7103360272224585\n",
      "Threshold 0.4669434726238251, recall = 0.8461147790756729, precision = 0.7134903640256959\n",
      "Threshold 0.4720686972141266, recall = 0.8435754189944135, precision = 0.715948275862069\n",
      "Threshold 0.47508111596107483, recall = 0.8400203148806501, precision = 0.7175704989154013\n",
      "Threshold 0.478906512260437, recall = 0.8374809547993906, precision = 0.7204019222367847\n",
      "Threshold 0.4834546446800232, recall = 0.834941594718131, precision = 0.7229551451187335\n",
      "Threshold 0.4866495430469513, recall = 0.8329101066531234, precision = 0.7259849490925188\n",
      "Threshold 0.48982954025268555, recall = 0.8318943626206196, precision = 0.7299465240641712\n",
      "Threshold 0.4935019910335541, recall = 0.8283392585068563, precision = 0.7317182593091073\n",
      "Threshold 0.4981047511100769, recall = 0.8257998984255968, precision = 0.7344173441734417\n",
      "Threshold 0.5024206042289734, recall = 0.8232605383443372, precision = 0.7371532514779445\n",
      "Threshold 0.5055899024009705, recall = 0.8197054342305738, precision = 0.739010989010989\n",
      "Threshold 0.5116620063781738, recall = 0.8171660741493144, precision = 0.7418165053019825\n",
      "Threshold 0.5156104564666748, recall = 0.8120873539867953, precision = 0.7423398328690808\n",
      "Threshold 0.5204912424087524, recall = 0.8105637379380396, precision = 0.7461430575035063\n",
      "Threshold 0.525639533996582, recall = 0.808532249873032, precision = 0.7495291902071564\n",
      "Threshold 0.5324292182922363, recall = 0.8049771457592687, precision = 0.7518975332068312\n",
      "Threshold 0.5377634167671204, recall = 0.8019299136617573, precision = 0.7547801147227533\n",
      "Threshold 0.5412700176239014, recall = 0.7988826815642458, precision = 0.7573423206547906\n",
      "Threshold 0.5460308194160461, recall = 0.7943118334179786, precision = 0.7588549247937895\n",
      "Threshold 0.5494800209999084, recall = 0.7902488572879635, precision = 0.7605083088954057\n",
      "Threshold 0.5560076236724854, recall = 0.7877094972067039, precision = 0.7636632200886263\n",
      "Threshold 0.5614118576049805, recall = 0.7841543930929405, precision = 0.7658730158730159\n",
      "Threshold 0.5675538778305054, recall = 0.7821229050279329, precision = 0.769615192403798\n",
      "Threshold 0.5745929479598999, recall = 0.7785678009141697, precision = 0.7719033232628398\n",
      "Threshold 0.5784602761268616, recall = 0.7745048247841544, precision = 0.7737189244038559\n",
      "Threshold 0.5845178365707397, recall = 0.7714575926866429, precision = 0.7769820971867007\n",
      "Threshold 0.5898512005805969, recall = 0.7699339766378872, precision = 0.7818463125322331\n",
      "Threshold 0.5959398746490479, recall = 0.7689182326053834, precision = 0.7869022869022869\n",
      "Threshold 0.6000586152076721, recall = 0.765871000507872, precision = 0.7899423782084861\n",
      "Threshold 0.6080892086029053, recall = 0.7597765363128491, precision = 0.7898627243928195\n",
      "Threshold 0.6157975196838379, recall = 0.7572371762315896, precision = 0.7935071846726982\n",
      "Threshold 0.6206687092781067, recall = 0.7541899441340782, precision = 0.7966738197424893\n",
      "Threshold 0.6263313293457031, recall = 0.7526663280853225, precision = 0.8015143320713899\n",
      "Threshold 0.6321441531181335, recall = 0.7496190959878111, precision = 0.8052373158756138\n",
      "Threshold 0.6361430287361145, recall = 0.7455561198577958, precision = 0.8074807480748075\n",
      "Threshold 0.6431973576545715, recall = 0.7435246317927883, precision = 0.8124306326304107\n",
      "Threshold 0.6501349210739136, recall = 0.7404773996952768, precision = 0.8158925573587017\n",
      "Threshold 0.6553210616111755, recall = 0.7369222955815135, precision = 0.8188487584650113\n",
      "Threshold 0.660919189453125, recall = 0.7333671914677501, precision = 0.8218554354012522\n",
      "Threshold 0.6649577021598816, recall = 0.728796343321483, precision = 0.8237657864523537\n",
      "Threshold 0.6720520257949829, recall = 0.7247333671914677, precision = 0.8262883613202084\n",
      "Threshold 0.6772221326828003, recall = 0.7211782630777044, precision = 0.8294392523364486\n",
      "Threshold 0.6814569234848022, recall = 0.7145759268664297, precision = 0.8295990566037735\n",
      "Threshold 0.6878644824028015, recall = 0.7094972067039106, precision = 0.8315476190476191\n",
      "Threshold 0.6957831978797913, recall = 0.7044184865413916, precision = 0.8335336538461539\n",
      "Threshold 0.6992500424385071, recall = 0.6998476383951244, precision = 0.8356579745300182\n",
      "Threshold 0.7044209837913513, recall = 0.6952767902488572, precision = 0.8378212974296205\n",
      "Threshold 0.709958016872406, recall = 0.6912138141188421, precision = 0.8406423718344658\n",
      "Threshold 0.7155755758285522, recall = 0.6876587100050787, precision = 0.8446662507797879\n",
      "Threshold 0.7206143736839294, recall = 0.6825799898425596, precision = 0.8463476070528967\n",
      "Threshold 0.7241467833518982, recall = 0.6790248857287964, precision = 0.8499682136045772\n",
      "Threshold 0.7259250283241272, recall = 0.6759776536312849, precision = 0.8548490687219011\n",
      "Threshold 0.7307102680206299, recall = 0.6703910614525139, precision = 0.8560311284046692\n",
      "Threshold 0.7332861423492432, recall = 0.6668359573387507, precision = 0.8598559266535691\n",
      "Threshold 0.73757404088974, recall = 0.6607414931437278, precision = 0.8604497354497355\n",
      "Threshold 0.7407101988792419, recall = 0.6561706449974607, precision = 0.863059452237809\n",
      "Threshold 0.7441337704658508, recall = 0.6505840528186897, precision = 0.8643724696356275\n",
      "Threshold 0.7486482262611389, recall = 0.6434738445911631, precision = 0.864256480218281\n",
      "Threshold 0.7537582516670227, recall = 0.6378872524123921, precision = 0.8662068965517241\n",
      "Threshold 0.7574008703231812, recall = 0.6333164042661249, precision = 0.8689895470383275\n",
      "Threshold 0.7618740200996399, recall = 0.6272219400711021, precision = 0.8709449929478138\n",
      "Threshold 0.7668933868408203, recall = 0.6216353478923311, precision = 0.872416250890948\n",
      "Threshold 0.7687281370162964, recall = 0.6165566277298121, precision = 0.8746397694524496\n",
      "Threshold 0.775361180305481, recall = 0.6109700355510411, precision = 0.8761835396941005\n",
      "Threshold 0.7829855680465698, recall = 0.6043676993397664, precision = 0.8782287822878229\n",
      "Threshold 0.789427638053894, recall = 0.6003047232097511, precision = 0.8834080717488789\n",
      "Threshold 0.7940391898155212, recall = 0.590655154900965, precision = 0.8830675778283978\n",
      "Threshold 0.7994126677513123, recall = 0.585068562722194, precision = 0.8854727132974635\n",
      "Threshold 0.8046389222145081, recall = 0.5789740985271712, precision = 0.8878504672897196\n",
      "Threshold 0.8075887560844421, recall = 0.5718638902996445, precision = 0.8887134964483031\n",
      "Threshold 0.8098730444908142, recall = 0.5662772981208736, precision = 0.8912869704236611\n",
      "Threshold 0.8145325183868408, recall = 0.5601828339258507, precision = 0.8931174089068826\n",
      "Threshold 0.8180270195007324, recall = 0.5540883697308279, precision = 0.8949958982772764\n",
      "Threshold 0.8212254047393799, recall = 0.5459624174707973, precision = 0.8943427620632279\n",
      "Threshold 0.8266516327857971, recall = 0.5403758252920264, precision = 0.897133220910624\n",
      "Threshold 0.8315670490264893, recall = 0.5347892331132554, precision = 0.8992314261315115\n",
      "Threshold 0.8372645378112793, recall = 0.5271711528694769, precision = 0.9002601908065915\n",
      "Threshold 0.8402571678161621, recall = 0.5231081767394616, precision = 0.9058927000879508\n",
      "Threshold 0.8439108729362488, recall = 0.515997968511935, precision = 0.9055258467023173\n",
      "Threshold 0.8486087918281555, recall = 0.5088877602844083, precision = 0.9051490514905149\n",
      "Threshold 0.8512403964996338, recall = 0.5033011681056374, precision = 0.9083409715857012\n",
      "Threshold 0.8569262027740479, recall = 0.49669883189436265, precision = 0.9089219330855018\n",
      "Threshold 0.8607922196388245, recall = 0.4906043676993398, precision = 0.9104618284637135\n",
      "Threshold 0.8653675317764282, recall = 0.4850177755205688, precision = 0.9130019120458891\n",
      "Threshold 0.8695235252380371, recall = 0.4779075672930422, precision = 0.9144800777453839\n",
      "Threshold 0.872499406337738, recall = 0.4718131030980193, precision = 0.9170779861796644\n",
      "Threshold 0.8781655430793762, recall = 0.46521076688674456, precision = 0.9187562688064193\n",
      "Threshold 0.880862832069397, recall = 0.4586084306754698, precision = 0.9195519348268839\n",
      "Threshold 0.8848040103912354, recall = 0.45149822244794313, precision = 0.9193381592554292\n",
      "Threshold 0.8865668773651123, recall = 0.4454037582529203, precision = 0.9231578947368421\n",
      "Threshold 0.8891465663909912, recall = 0.4372778059928898, precision = 0.9238197424892703\n",
      "Threshold 0.8921453356742859, recall = 0.4332148298628746, precision = 0.9302071973827699\n",
      "Threshold 0.8964616060256958, recall = 0.4271203656678517, precision = 0.9344444444444444\n",
      "Threshold 0.9012987017631531, recall = 0.42001015744032505, precision = 0.9355203619909502\n",
      "Threshold 0.9040009379386902, recall = 0.4128999492127984, precision = 0.9377162629757786\n",
      "Threshold 0.9069904685020447, recall = 0.40731335703402743, precision = 0.9424206815511164\n",
      "Threshold 0.9094425439834595, recall = 0.4007110208227527, precision = 0.94377990430622\n",
      "Threshold 0.9116753935813904, recall = 0.393600812595226, precision = 0.9439707673568819\n",
      "Threshold 0.9144738912582397, recall = 0.38750634840020315, precision = 0.9478260869565217\n",
      "Threshold 0.9186626076698303, recall = 0.3803961401726765, precision = 0.9493029150823827\n",
      "Threshold 0.9202296137809753, recall = 0.3737938039614017, precision = 0.9521345407503234\n",
      "Threshold 0.9230417609214783, recall = 0.36719146775012695, precision = 0.9538258575197889\n",
      "Threshold 0.9254240393638611, recall = 0.3600812595226003, precision = 0.9542395693135935\n",
      "Threshold 0.9284451603889465, recall = 0.35398679532757743, precision = 0.9587345254470426\n",
      "Threshold 0.9300979375839233, recall = 0.345860843067547, precision = 0.9591549295774648\n",
      "Threshold 0.9325703382492065, recall = 0.3382427628237684, precision = 0.958273381294964\n",
      "Threshold 0.9355029463768005, recall = 0.33214829862874556, precision = 0.961764705882353\n",
      "Threshold 0.9372985363006592, recall = 0.3255459624174708, precision = 0.9639097744360903\n",
      "Threshold 0.9391363263130188, recall = 0.31843575418994413, precision = 0.9661016949152542\n",
      "Threshold 0.9409891963005066, recall = 0.31132554596241746, precision = 0.9684044233807267\n",
      "Threshold 0.9432596564292908, recall = 0.3042153377348908, precision = 0.9692556634304207\n",
      "Threshold 0.9447152018547058, recall = 0.2971051295073641, precision = 0.9701492537313433\n",
      "Threshold 0.9453902244567871, recall = 0.2894870492635856, precision = 0.9710391822827938\n",
      "Threshold 0.9466682076454163, recall = 0.281868969019807, precision = 0.9702797202797203\n",
      "Threshold 0.9483320713043213, recall = 0.2732351447435246, precision = 0.9693693693693693\n",
      "Threshold 0.9502784609794617, recall = 0.26612493651599795, precision = 0.9721706864564007\n",
      "Threshold 0.9520885944366455, recall = 0.2574911122397156, precision = 0.9712643678160919\n",
      "Threshold 0.9540852904319763, recall = 0.25139664804469275, precision = 0.9763313609467456\n",
      "Threshold 0.9567763209342957, recall = 0.24428643981716608, precision = 0.9796334012219959\n",
      "Threshold 0.9592167735099792, recall = 0.2361604875571356, precision = 0.9789473684210527\n",
      "Threshold 0.9610276818275452, recall = 0.22854240731335704, precision = 0.9782608695652174\n",
      "Threshold 0.962069571018219, recall = 0.22092432706957846, precision = 0.9775280898876404\n",
      "Threshold 0.9638001322746277, recall = 0.2133062468257999, precision = 0.9767441860465116\n",
      "Threshold 0.9655348062515259, recall = 0.20568816658202133, precision = 0.9759036144578314\n",
      "Threshold 0.9669012427330017, recall = 0.19756221432199086, precision = 0.974937343358396\n",
      "Threshold 0.9688095450401306, recall = 0.18994413407821228, precision = 0.9739583333333334\n",
      "Threshold 0.9702872633934021, recall = 0.18232605383443373, precision = 0.9728997289972899\n",
      "Threshold 0.9724894165992737, recall = 0.17521584560690706, precision = 0.9745762711864406\n",
      "Threshold 0.9740293025970459, recall = 0.16607414931437278, precision = 0.9761194029850746\n",
      "Threshold 0.9755235314369202, recall = 0.1579481970543423, precision = 0.9779874213836478\n",
      "Threshold 0.9766591191291809, recall = 0.15083798882681565, precision = 0.9801980198019802\n",
      "Threshold 0.9780137538909912, recall = 0.14220416455053325, precision = 0.9790209790209791\n",
      "Threshold 0.978966236114502, recall = 0.1340782122905028, precision = 0.9777777777777777\n",
      "Threshold 0.9815505743026733, recall = 0.12696800406297612, precision = 0.9803921568627451\n",
      "Threshold 0.9835467338562012, recall = 0.11934992381919757, precision = 0.9832635983263598\n",
      "Threshold 0.9846785068511963, recall = 0.10919248349415947, precision = 0.9862385321100917\n",
      "Threshold 0.9858740568161011, recall = 0.09852717115286948, precision = 0.9847715736040609\n",
      "Threshold 0.9868279695510864, recall = 0.0914169629253428, precision = 1.0\n",
      "Threshold 0.9880391955375671, recall = 0.08227526663280853, precision = 1.0\n",
      "Threshold 0.9894804954528809, recall = 0.07160995429151853, precision = 1.0\n",
      "Threshold 0.9906569719314575, recall = 0.061960385982732354, precision = 1.0\n",
      "Threshold 0.9921180605888367, recall = 0.053326561706449976, precision = 1.0\n",
      "Threshold 0.9938026666641235, recall = 0.0452006094464195, precision = 1.0\n",
      "Threshold 0.9944241642951965, recall = 0.03605891315388522, precision = 1.0\n",
      "Threshold 0.9950157999992371, recall = 0.02488572879634332, precision = 1.0\n",
      "Threshold 0.9955385327339172, recall = 0.015236160487557136, precision = 1.0\n",
      "Threshold 0.9962946772575378, recall = 0.0025393600812595226, precision = 1.0\n"
     ]
    }
   ],
   "source": [
    "pr_auc, precision, recall, PRthresholds = PR_curve(trainingdatafolder, model, features, filter=False)\n",
    "for i in range(0,len(recall), 15):\n",
    "    print(\"Threshold {0}, recall = {1}, precision = {2}\".format(PRthresholds[i], recall[i], precision[i]))"
   ]
  },
  {
   "cell_type": "code",
   "execution_count": 13,
   "metadata": {},
   "outputs": [
    {
     "data": {
      "image/png": "[encoded data removed]",
      "text/plain": [
       "<Figure size 432x288 with 1 Axes>"
      ]
     },
     "metadata": {
      "needs_background": "light"
     },
     "output_type": "display_data"
    }
   ],
   "source": [
    "fig, ax = plt.subplots()\n",
    "ax.plot(recall, precision)\n",
    "ax.set_xlim([0.0, 1.0])\n",
    "ax.set_ylim([0.0, 1.0])\n",
    "ax.set_xlabel('Recall')\n",
    "ax.set_ylabel('Precision')\n",
    "ax.set_title(\"AUC Score (Test): {0:.4f}\".format(pr_auc))\n",
    "plt.show()"
   ]
  },
  {
   "cell_type": "code",
   "execution_count": 14,
   "metadata": {},
   "outputs": [
    {
     "data": {
      "text/plain": [
       "(0, 225.50000000000003)"
      ]
     },
     "execution_count": 14,
     "metadata": {},
     "output_type": "execute_result"
    },
    {
     "data": {
      "image/png": "[encoded data removed]",
      "text/plain": [
       "<Figure size 432x288 with 2 Axes>"
      ]
     },
     "metadata": {
      "needs_background": "light"
     },
     "output_type": "display_data"
    }
   ],
   "source": [
    "# Histogram:\n",
    "bins = 50\n",
    "Stable, Unstable = stable_unstable_hist(trainingdatafolder, model, features, filter=False)\n",
    "\n",
    "fig, ax1 = plt.subplots()\n",
    "n, bins, pathces = ax1.hist(Unstable, bins, alpha=0.5, label='No', color='blue', edgecolor = \"black\")\n",
    "#print(n)\n",
    "ax1.set_xlabel('Predicted Probability', fontsize=14)\n",
    "ax1.set_ylabel('Unstable',  fontsize=14, color='blue')\n",
    "for tl in ax1.get_yticklabels():\n",
    "    tl.set_color('blue')\n",
    "    \n",
    "\n",
    "\n",
    "ax2 = ax1.twinx()\n",
    "n, bins , patches = ax2.hist(Stable, bins, alpha=0.5, label='Yes',color='green', edgecolor = \"black\")\n",
    "#print(n.astype(int))\n",
    "ax2.set_ylabel('Stable', fontsize=14, color='green')\n",
    "for tl in ax2.get_yticklabels():\n",
    "    tl.set_color('green')\n",
    "    \n",
    "    \n",
    "#ax1.set_ylim(ax2.get_ylim())\n",
    "ax1.set_ylim([0,1.1*n[-1]]) # goes up to ~4300\n",
    "ax2.set_ylim([0,1.1*n[-1]]) # goes up to ~2100"
   ]
  },
  {
   "cell_type": "code",
   "execution_count": 15,
   "metadata": {},
   "outputs": [
    {
     "data": {
      "text/plain": [
       "Text(0, 0.5, 'Fraction actually stable')"
      ]
     },
     "execution_count": 15,
     "metadata": {},
     "output_type": "execute_result"
    },
    {
     "data": {
      "image/png": "[encoded data removed]",
      "text/plain": [
       "<Figure size 576x432 with 1 Axes>"
      ]
     },
     "metadata": {
      "needs_background": "light"
     },
     "output_type": "display_data"
    }
   ],
   "source": [
    "bincenters, fracstable, errorbars = calibration_plot(trainingdatafolder, model, features, bins=10, filter=False)\n",
    "fig, ax = plt.subplots(figsize=(8,6))\n",
    "ax.plot(np.linspace(0,1,100), np.linspace(0,1,100), '--')\n",
    "ax.errorbar(bincenters, fracstable, errorbars)\n",
    "ax.set_xlim([0,1])\n",
    "ax.set_ylim([0,1])\n",
    "ax.set_xlabel('Predicted Probability of Stability')\n",
    "ax.set_ylabel('Fraction actually stable')"
   ]
  },
  {
   "cell_type": "code",
   "execution_count": 16,
   "metadata": {},
   "outputs": [
    {
     "data": {
      "text/plain": [
       "Text(0.5, 1.0, 'Fraction of unstable systems mislabeled as stable')"
      ]
     },
     "execution_count": 16,
     "metadata": {},
     "output_type": "execute_result"
    },
    {
     "data": {
      "image/png": "[encoded data removed]",
      "text/plain": [
       "<Figure size 576x432 with 1 Axes>"
      ]
     },
     "metadata": {
      "needs_background": "light"
     },
     "output_type": "display_data"
    }
   ],
   "source": [
    "bincenters, errorfracs, errorbars = unstable_error_fraction(trainingdatafolder, model, features, bins=10, filter=False)\n",
    "fig, ax = plt.subplots(figsize=(8,6))\n",
    "ax.errorbar(bincenters, errorfracs, errorbars)\n",
    "ax.set_ylim([0,1])\n",
    "ax.set_xlabel('Log Instability Time')\n",
    "ax.set_ylabel('Error Fraction')\n",
    "ax.set_title('Fraction of unstable systems mislabeled as stable')"
   ]
  },
  {
   "cell_type": "code",
   "execution_count": 17,
   "metadata": {},
   "outputs": [
    {
     "data": {
      "image/png": "[encoded data removed]",
      "text/plain": [
       "<Figure size 864x576 with 1 Axes>"
      ]
     },
     "metadata": {
      "needs_background": "light"
     },
     "output_type": "display_data"
    }
   ],
   "source": [
    "# feature importances\n",
    "feat_imp = pd.Series(model.get_booster().get_fscore()).sort_values(ascending=False)\n",
    "feat_imp.plot(kind='bar', title='Feature Importances', figsize=(12,8))\n",
    "plt.ylabel('Feature Importance Score')\n",
    "plt.show()"
   ]
  },
  {
   "cell_type": "markdown",
   "metadata": {},
   "source": [
    "# Test how many AMD stable systems were actually stable"
   ]
  },
  {
   "cell_type": "code",
   "execution_count": 3,
   "metadata": {},
   "outputs": [],
   "source": [
    "model, features, featurefolder = dill.load(open(datapath+\"../models/AMD_random.pkl\", \"rb\")) "
   ]
  },
  {
   "cell_type": "code",
   "execution_count": 23,
   "metadata": {},
   "outputs": [],
   "source": [
    "AMDstable = (testX['C_AMDnear'] < 1) & (testX['C_AMDfar'] < 1)  & (testX['C_AMDouter'] < 1)"
   ]
  },
  {
   "cell_type": "code",
   "execution_count": 24,
   "metadata": {},
   "outputs": [
    {
     "data": {
      "text/plain": [
       "0.7628336755646817"
      ]
     },
     "execution_count": 24,
     "metadata": {},
     "output_type": "execute_result"
    }
   ],
   "source": [
    "testY[AMDstable].sum()/AMDstable.sum()"
   ]
  }
 ],
 "metadata": {
  "anaconda-cloud": {},
  "kernelspec": {
   "display_name": "Python 3",
   "language": "python",
   "name": "python3"
  },
  "language_info": {
   "codemirror_mode": {
    "name": "ipython",
    "version": 3
   },
   "file_extension": ".py",
   "mimetype": "text/x-python",
   "name": "python",
   "nbconvert_exporter": "python",
   "pygments_lexer": "ipython3",
   "version": "3.7.3"
  }
 },
 "nbformat": 4,
 "nbformat_minor": 2
}
