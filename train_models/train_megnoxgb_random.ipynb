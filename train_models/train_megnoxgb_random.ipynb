{
 "cells": [
  {
   "cell_type": "code",
   "execution_count": 17,
   "metadata": {},
   "outputs": [],
   "source": [
    "import numpy as np\n",
    "import sklearn\n",
    "import matplotlib.pyplot as plt\n",
    "%matplotlib inline\n",
    "import pandas as pd\n",
    "from sklearn import metrics\n",
    "from sklearn.model_selection import cross_val_score\n",
    "from matplotlib import rc\n",
    "from matplotlib import cm\n",
    "from mpl_toolkits.mplot3d import axes3d\n",
    "from matplotlib.ticker import MaxNLocator\n",
    "import scipy.signal\n",
    "import xgboost as xgb\n",
    "from xgboost.sklearn import XGBClassifier\n",
    "from hyperopt import hp, fmin, tpe, STATUS_OK, Trials\n",
    "import dill\n",
    "import sys\n",
    "sys.path.append('../')\n",
    "from modelfitting import train_test_split, ROC_curve, PR_curve, stable_unstable_hist, calibration_plot, unstable_error_fraction"
   ]
  },
  {
   "cell_type": "code",
   "execution_count": 18,
   "metadata": {},
   "outputs": [],
   "source": [
    "datapath = '/mnt/ssd/Dropbox/Dropbox (Princeton)/workspace/stability/MLstability/training_data/'\n",
    "dset = 'random/'\n",
    "featurefolder = 'spock_featuresv2Norbits10000.0Nout1000/'\n",
    "features = ['MEGNO']"
   ]
  },
  {
   "cell_type": "code",
   "execution_count": 19,
   "metadata": {
    "scrolled": true
   },
   "outputs": [],
   "source": [
    "trainingdatafolder = datapath+dset+featurefolder\n",
    "trainX, trainY, testX, testY = train_test_split(trainingdatafolder, features)"
   ]
  },
  {
   "cell_type": "markdown",
   "metadata": {},
   "source": [
    "# Fraction not chaotic over 1e4 orbits"
   ]
  },
  {
   "cell_type": "code",
   "execution_count": 20,
   "metadata": {},
   "outputs": [
    {
     "data": {
      "text/plain": [
       "0.4766"
      ]
     },
     "execution_count": 20,
     "metadata": {},
     "output_type": "execute_result"
    }
   ],
   "source": [
    "(testX['MEGNO']<2.5).sum()/testX['MEGNO'].shape[0]"
   ]
  },
  {
   "cell_type": "markdown",
   "metadata": {},
   "source": [
    "# Fraction not chaotic over 1e4 orbits that were stable"
   ]
  },
  {
   "cell_type": "code",
   "execution_count": 21,
   "metadata": {},
   "outputs": [
    {
     "data": {
      "text/plain": [
       "0.3818"
      ]
     },
     "execution_count": 21,
     "metadata": {},
     "output_type": "execute_result"
    }
   ],
   "source": [
    "regular = testX['MEGNO'] < 2.5\n",
    "testY[regular].sum()/testY.shape[0]"
   ]
  },
  {
   "cell_type": "markdown",
   "metadata": {},
   "source": [
    "# Fraction chaotic over 1e4 orbits that were stable"
   ]
  },
  {
   "cell_type": "code",
   "execution_count": 22,
   "metadata": {},
   "outputs": [
    {
     "data": {
      "text/plain": [
       "0.011"
      ]
     },
     "execution_count": 22,
     "metadata": {},
     "output_type": "execute_result"
    }
   ],
   "source": [
    "chaotic = testX['MEGNO'] > 2.5\n",
    "testY[chaotic].sum()/testY.shape[0]"
   ]
  },
  {
   "cell_type": "code",
   "execution_count": 10,
   "metadata": {},
   "outputs": [
    {
     "name": "stderr",
     "output_type": "stream",
     "text": [
      "/home/dtamayo/miniconda3/envs/ml/lib/python3.7/site-packages/xgboost/core.py:587: FutureWarning: Series.base is deprecated and will be removed in a future version\n",
      "  if getattr(data, 'base', None) is not None and \\\n",
      "/home/dtamayo/miniconda3/envs/ml/lib/python3.7/site-packages/xgboost/core.py:588: FutureWarning: Series.base is deprecated and will be removed in a future version\n",
      "  data.base is not None and isinstance(data, np.ndarray) \\\n"
     ]
    }
   ],
   "source": [
    "space ={\n",
    "        'max_depth': hp.randint('x_max_depth',  20),\n",
    "        'min_child_weight': hp.quniform ('x_min_child', 1, 10, 1),\n",
    "        'subsample': hp.uniform ('x_subsample', 0.8, 1),\n",
    "        'scale_pos_weight': hp.uniform(\"x_pos_weight\", 1, 15),\n",
    "        \"learning_rate\":hp.uniform(\"x_learning_rate\",0.01,0.2),\n",
    "        'colsample_bytree': hp.uniform ('x_tree_colsample', 0.5,1),\n",
    "}\n",
    "\n",
    "dtrain = xgb.DMatrix(trainX, trainY)\n",
    "dtest = xgb.DMatrix(testX, testY)\n",
    "def objective(space):\n",
    "\n",
    "    clf = XGBClassifier(n_estimators = 100, \n",
    "                            max_depth = space['max_depth'], \n",
    "                            min_child_weight =space['min_child_weight'],\n",
    "                            subsample = space['subsample'],\n",
    "                            colsample_bytree =space['colsample_bytree'],\n",
    "                            learning_rate = space['learning_rate'], seed = 0)\n",
    "    \n",
    "    params = clf.get_xgb_params()\n",
    "    #dtest\n",
    "    score = xgb.cv(params, dtrain, nfold = 5, metrics = \"auc\", early_stopping_rounds=10)\n",
    "    #print score\n",
    "    #score = cross_val_score(clf, trainX, trainY, cv = 5, scoring=\"average_precision\")\n",
    "    avg_score =  np.mean(score[\"test-auc-mean\"])\n",
    "    error = np.mean(score[\"test-auc-std\"])\n",
    "    \n",
    "    bst = xgb.train(params, dtrain)\n",
    "    preds = bst.predict(dtest)\n",
    "    test_score = metrics.roc_auc_score(testY, preds)\n",
    "    \n",
    "    print(\"SCORE:\", avg_score, \"ERROR\", error, \"HOLDOUT SCORE\", test_score)\n",
    "\n",
    "    return{'loss':1-test_score, 'status': STATUS_OK, \"cv_score\":avg_score , \"cv_error\":error, \"holdout\":test_score }"
   ]
  },
  {
   "cell_type": "code",
   "execution_count": 11,
   "metadata": {
    "scrolled": true
   },
   "outputs": [
    {
     "name": "stdout",
     "output_type": "stream",
     "text": [
      "SCORE:                                              \n",
      "0.9528215                                           \n",
      "ERROR                                               \n",
      "0.0025991739066281785                               \n",
      "HOLDOUT SCORE                                       \n",
      "0.9595243931884492                                  \n",
      "SCORE:                                                                         \n",
      "0.9523955399999998                                                             \n",
      "ERROR                                                                          \n",
      "0.0028075982161086923                                                          \n",
      "HOLDOUT SCORE                                                                  \n",
      "0.9575014506440056                                                             \n",
      "SCORE:                                                                         \n",
      "0.95186696                                                                     \n",
      "ERROR                                                                          \n",
      "0.0028397728238833075                                                          \n",
      "HOLDOUT SCORE                                                                  \n",
      "0.9569835250741492                                                             \n",
      "SCORE:                                                                         \n",
      "0.95240478                                                                     \n",
      "ERROR                                                                          \n",
      "0.002834376077021957                                                           \n",
      "HOLDOUT SCORE                                                                  \n",
      "0.959160705886808                                                              \n",
      "SCORE:                                                                         \n",
      "0.9515575000000001                                                             \n",
      "ERROR                                                                          \n",
      "0.003028914284399032                                                           \n",
      "HOLDOUT SCORE                                                                  \n",
      "0.9582819415221651                                                             \n",
      "SCORE:                                                                         \n",
      "0.9521378                                                                      \n",
      "ERROR                                                                          \n",
      "0.00297141067762974                                                            \n",
      "HOLDOUT SCORE                                                                  \n",
      "0.9580515475853961                                                             \n",
      "SCORE:                                                                         \n",
      "0.95275982                                                                     \n",
      "ERROR                                                                          \n",
      "0.0029616069230052776                                                          \n",
      "HOLDOUT SCORE                                                                  \n",
      "0.9589955762688547                                                             \n",
      "SCORE:                                                                         \n",
      "0.5                                                                            \n",
      "ERROR                                                                          \n",
      "0.0                                                                            \n",
      "HOLDOUT SCORE                                                                  \n",
      "0.5                                                                            \n",
      "SCORE:                                                                         \n",
      "0.95296956                                                                     \n",
      "ERROR                                                                          \n",
      "0.002975617318064719                                                           \n",
      "HOLDOUT SCORE                                                                  \n",
      "0.9595548051881029                                                             \n",
      "SCORE:                                                                         \n",
      "0.9522382000000003                                                            \n",
      "ERROR                                                                         \n",
      "0.0029286312470872605                                                         \n",
      "HOLDOUT SCORE                                                                 \n",
      "0.9572820318365882                                                            \n",
      "SCORE:                                                                         \n",
      "0.9526075                                                                      \n",
      "ERROR                                                                          \n",
      "0.002601556691964207                                                           \n",
      "HOLDOUT SCORE                                                                  \n",
      "0.9608003567000819                                                             \n",
      "SCORE:                                                                         \n",
      "0.9524848199999999                                                            \n",
      "ERROR                                                                         \n",
      "0.002842016551967117                                                          \n",
      "HOLDOUT SCORE                                                                 \n",
      "0.9581888623717104                                                            \n",
      "SCORE:                                                                        \n",
      "0.9525883399999999                                                            \n",
      "ERROR                                                                         \n",
      "0.002591764212195602                                                          \n",
      "HOLDOUT SCORE                                                                 \n",
      "0.9582697096986129                                                            \n",
      "SCORE:                                                                        \n",
      "0.9516081200000001                                                            \n",
      "ERROR                                                                         \n",
      "0.0032335301995642203                                                         \n",
      "HOLDOUT SCORE                                                                 \n",
      "0.9578553357308823                                                            \n",
      "SCORE:                                                                        \n",
      "0.9516253599999999                                                            \n",
      "ERROR                                                                         \n",
      "0.002807206235342706                                                          \n",
      "HOLDOUT SCORE                                                                 \n",
      "0.9599546015031069                                                            \n",
      "SCORE:                                                                        \n",
      "0.9536591399999998                                                            \n",
      "ERROR                                                                         \n",
      "0.0027429808214309037                                                         \n",
      "HOLDOUT SCORE                                                                 \n",
      "0.960034694813489                                                             \n",
      "SCORE:                                                                        \n",
      "0.9528792999999999                                                            \n",
      "ERROR                                                                         \n",
      "0.002857590365846132                                                          \n",
      "HOLDOUT SCORE                                                                 \n",
      "0.9588695717303456                                                            \n",
      "SCORE:                                                                        \n",
      "0.9524844599999998                                                            \n",
      "ERROR                                                                         \n",
      "0.003031472301286746                                                          \n",
      "HOLDOUT SCORE                                                                 \n",
      "0.9586856754789975                                                            \n",
      "SCORE:                                                                        \n",
      "0.9524697400000001                                                            \n",
      "ERROR                                                                         \n",
      "0.002797338136234432                                                          \n",
      "HOLDOUT SCORE                                                                 \n",
      "0.9593901782478298                                                            \n",
      "SCORE:                                                                        \n",
      "0.9517079200000002                                                            \n",
      "ERROR                                                                         \n",
      "0.003084176571297511                                                          \n",
      "HOLDOUT SCORE                                                                 \n",
      "0.9579285591129683                                                            \n",
      "SCORE:                                                                        \n",
      "0.9534636400000001                                                            \n",
      "ERROR                                                                         \n",
      "0.0028571786828477663                                                         \n",
      "HOLDOUT SCORE                                                                 \n",
      "0.9599245246219068                                                            \n",
      "SCORE:                                                                        \n",
      "0.9418470999999998                                                            \n",
      "ERROR                                                                         \n",
      "0.003431034658748079                                                          \n",
      "HOLDOUT SCORE                                                                 \n",
      "0.9547073167584863                                                            \n",
      "SCORE:                                                                        \n",
      "0.95334304                                                                    \n",
      "ERROR                                                                         \n",
      "0.0027537431406216327                                                         \n",
      "HOLDOUT SCORE                                                                 \n",
      "0.9603882447819124                                                            \n",
      "SCORE:                                                                        \n",
      "0.95254244                                                                    \n",
      "ERROR                                                                         \n",
      "0.002716845025755314                                                          \n",
      "HOLDOUT SCORE                                                                 \n",
      "0.9600832032096305                                                            \n",
      "SCORE:                                                                        \n",
      "0.9534467799999999                                                            \n",
      "ERROR                                                                         \n",
      "0.0028009388048868353                                                         \n",
      "HOLDOUT SCORE                                                                 \n",
      "0.9603120053337453                                                            \n",
      "SCORE:                                                                        \n",
      "0.9508735199999998                                                            \n",
      "ERROR                                                                         \n",
      "0.0034795902931504573                                                         \n",
      "HOLDOUT SCORE                                                                 \n",
      "0.95998425948624                                                              \n",
      "SCORE:                                                                        \n",
      "0.95331636                                                                    \n",
      "ERROR                                                                         \n",
      "0.0027787708231963013                                                         \n",
      "HOLDOUT SCORE                                                                 \n",
      "0.9598383153997486                                                            \n",
      "SCORE:                                                                        \n",
      "0.9055331400000002                                                            \n",
      "ERROR                                                                         \n",
      "0.0045353162361466155                                                         \n",
      "HOLDOUT SCORE                                                                 \n",
      "0.9197367845618972                                                            \n",
      "SCORE:                                                                        \n",
      "0.95263758                                                                    \n",
      "ERROR                                                                         \n",
      "0.0028633717272229823                                                         \n",
      "HOLDOUT SCORE                                                                 \n",
      "0.9589433815697249                                                            \n",
      "SCORE:                                                                        \n",
      "0.9524112399999998                                                            \n",
      "ERROR                                                                         \n",
      "0.0028335433217041325                                                         \n",
      "HOLDOUT SCORE                                                                 \n",
      "0.9582320926522095                                                            \n",
      "SCORE:                                                                        \n",
      "0.95336288                                                                    \n",
      "ERROR                                                                         \n",
      "0.0026959677682397262                                                         \n",
      "HOLDOUT SCORE                                                                 \n",
      "0.9605609983446823                                                            \n",
      "SCORE:                                                                        \n",
      "0.95315218                                                                    \n",
      "ERROR                                                                         \n",
      "0.00269133131298283                                                           \n",
      "HOLDOUT SCORE                                                                 \n",
      "0.9604628086378122                                                            \n",
      "SCORE:                                                                        \n",
      "0.9524248200000001                                                            \n",
      "ERROR                                                                         \n",
      "0.0028510358381581666                                                         \n",
      "HOLDOUT SCORE                                                                 \n",
      "0.9588612775486219                                                            \n",
      "SCORE:                                                                        \n",
      "0.9525640799999999                                                            \n",
      "ERROR                                                                         \n",
      "0.002900885430721484                                                          \n",
      "HOLDOUT SCORE                                                                 \n",
      "0.9584719536852891                                                            \n",
      "SCORE:                                                                        \n",
      "0.9519939000000001                                                            \n",
      "ERROR                                                                         \n"
     ]
    },
    {
     "name": "stdout",
     "output_type": "stream",
     "text": [
      "0.002953313652325598                                                          \n",
      "HOLDOUT SCORE                                                                 \n",
      "0.9576152233589628                                                            \n",
      "SCORE:                                                                        \n",
      "0.9516697000000001                                                            \n",
      "ERROR                                                                         \n",
      "0.0028795006586561974                                                         \n",
      "HOLDOUT SCORE                                                                 \n",
      "0.9586153843833797                                                            \n",
      "SCORE:                                                                        \n",
      "0.5                                                                           \n",
      "ERROR                                                                         \n",
      "0.0                                                                           \n",
      "HOLDOUT SCORE                                                                 \n",
      "0.5                                                                           \n",
      "SCORE:                                                                        \n",
      "0.9073431600000001                                                            \n",
      "ERROR                                                                         \n",
      "0.005160984934534563                                                          \n",
      "HOLDOUT SCORE                                                                 \n",
      "0.9234385029990587                                                            \n",
      "SCORE:                                                                        \n",
      "0.9530087400000001                                                            \n",
      "ERROR                                                                         \n",
      "0.0029360533222484077                                                         \n",
      "HOLDOUT SCORE                                                                 \n",
      "0.9589215150906353                                                            \n",
      "SCORE:                                                                        \n",
      "0.95273158                                                                    \n",
      "ERROR                                                                         \n",
      "0.0028182109537648846                                                         \n",
      "HOLDOUT SCORE                                                                 \n",
      "0.959154589975032                                                             \n",
      "SCORE:                                                                        \n",
      "0.938834                                                                      \n",
      "ERROR                                                                         \n",
      "0.003885309729930943                                                          \n",
      "HOLDOUT SCORE                                                                 \n",
      "0.9530387619785997                                                            \n",
      "SCORE:                                                                        \n",
      "0.95266222                                                                    \n",
      "ERROR                                                                         \n",
      "0.00261397244785908                                                           \n",
      "HOLDOUT SCORE                                                                 \n",
      "0.9598001118960515                                                            \n",
      "SCORE:                                                                        \n",
      "0.95281406                                                                    \n",
      "ERROR                                                                         \n",
      "0.0025926482692680214                                                         \n",
      "HOLDOUT SCORE                                                                 \n",
      "0.9604597087921175                                                            \n",
      "SCORE:                                                                        \n",
      "0.9529074000000002                                                            \n",
      "ERROR                                                                         \n",
      "0.002974007817554416                                                          \n",
      "HOLDOUT SCORE                                                                 \n",
      "0.958931149746173                                                             \n",
      "SCORE:                                                                        \n",
      "0.9531121199999999                                                            \n",
      "ERROR                                                                         \n",
      "0.0029476253075651645                                                         \n",
      "HOLDOUT SCORE                                                                 \n",
      "0.9594549398889651                                                            \n",
      "SCORE:                                                                        \n",
      "0.9530198799999999                                                            \n",
      "ERROR                                                                         \n",
      "0.00249635700230665                                                           \n",
      "HOLDOUT SCORE                                                                 \n",
      "0.9601856656767827                                                            \n",
      "SCORE:                                                                        \n",
      "0.9518392199999999                                                            \n",
      "ERROR                                                                         \n",
      "0.002845631249588804                                                          \n",
      "HOLDOUT SCORE                                                                 \n",
      "0.9571516707581837                                                            \n",
      "SCORE:                                                                        \n",
      "0.9501736599999999                                                            \n",
      "ERROR                                                                         \n",
      "0.0035270624685563904                                                         \n",
      "HOLDOUT SCORE                                                                 \n",
      "0.958982925547236                                                             \n",
      "SCORE:                                                                        \n",
      "0.9530102000000001                                                            \n",
      "ERROR                                                                         \n",
      "0.002625140415686094                                                          \n",
      "HOLDOUT SCORE                                                                 \n",
      "0.9589544404786899                                                            \n",
      "SCORE:                                                                        \n",
      "0.9524220399999999                                                            \n",
      "ERROR                                                                         \n",
      "0.002638106179495831                                                          \n",
      "HOLDOUT SCORE                                                                 \n",
      "0.9602780745903302                                                            \n",
      "100%|██████████| 50/50 [00:29<00:00,  1.72it/s, best loss: 0.0391996432999181]\n",
      "Optimization Time: %f seconds 29.132785320281982\n",
      "CPU times: user 28.7 s, sys: 698 ms, total: 29.4 s\n",
      "Wall time: 29.1 s\n"
     ]
    }
   ],
   "source": [
    "%%time\n",
    "trials = Trials()\n",
    "import time\n",
    "start = time.time()\n",
    "best = fmin(fn=objective, space = space, algo = tpe.suggest, max_evals = 50, trials = trials)\n",
    "end = time.time()\n",
    "print(\"Optimization Time: %f seconds\", (end  -start))"
   ]
  },
  {
   "cell_type": "code",
   "execution_count": 12,
   "metadata": {},
   "outputs": [
    {
     "data": {
      "text/plain": [
       "{'x_learning_rate': 0.07285315508649765,\n",
       " 'x_max_depth': 5,\n",
       " 'x_min_child': 7.0,\n",
       " 'x_pos_weight': 8.408813524987588,\n",
       " 'x_subsample': 0.8066151411631557,\n",
       " 'x_tree_colsample': 0.8663106094288152}"
      ]
     },
     "execution_count": 12,
     "metadata": {},
     "output_type": "execute_result"
    }
   ],
   "source": [
    "best"
   ]
  },
  {
   "cell_type": "code",
   "execution_count": 13,
   "metadata": {},
   "outputs": [
    {
     "name": "stdout",
     "output_type": "stream",
     "text": [
      "[0]\ttrain-auc:0.948302+0.00101217\ttest-auc:0.945585+0.00446574\n",
      "[1]\ttrain-auc:0.949268+0.0013429\ttest-auc:0.946502+0.00374203\n",
      "[2]\ttrain-auc:0.950802+0.00122636\ttest-auc:0.948133+0.00349553\n",
      "[3]\ttrain-auc:0.951165+0.000957824\ttest-auc:0.948637+0.00367562\n",
      "[4]\ttrain-auc:0.952394+0.00186574\ttest-auc:0.950214+0.00248638\n",
      "[5]\ttrain-auc:0.953015+0.00210915\ttest-auc:0.950827+0.00194526\n",
      "[6]\ttrain-auc:0.954398+0.00163057\ttest-auc:0.952087+0.00316139\n",
      "[7]\ttrain-auc:0.955128+0.000937351\ttest-auc:0.952604+0.00292382\n",
      "[8]\ttrain-auc:0.955737+0.000761637\ttest-auc:0.953039+0.0028663\n",
      "[9]\ttrain-auc:0.955877+0.000692745\ttest-auc:0.953269+0.0029463\n",
      "   train-auc-mean  train-auc-std  test-auc-mean  test-auc-std\n",
      "0        0.948302       0.001012       0.945585      0.004466\n",
      "1        0.949268       0.001343       0.946502      0.003742\n",
      "2        0.950802       0.001226       0.948133      0.003496\n",
      "3        0.951165       0.000958       0.948637      0.003676\n",
      "4        0.952394       0.001866       0.950214      0.002486\n",
      "5        0.953015       0.002109       0.950827      0.001945\n",
      "6        0.954398       0.001631       0.952087      0.003161\n",
      "7        0.955128       0.000937       0.952604      0.002924\n",
      "8        0.955737       0.000762       0.953039      0.002866\n",
      "9        0.955877       0.000693       0.953269      0.002946\n",
      "0.9020261623996094\n"
     ]
    },
    {
     "name": "stderr",
     "output_type": "stream",
     "text": [
      "/home/dtamayo/miniconda3/envs/ml/lib/python3.7/site-packages/xgboost/core.py:587: FutureWarning: Series.base is deprecated and will be removed in a future version\n",
      "  if getattr(data, 'base', None) is not None and \\\n",
      "/home/dtamayo/miniconda3/envs/ml/lib/python3.7/site-packages/xgboost/core.py:588: FutureWarning: Series.base is deprecated and will be removed in a future version\n",
      "  data.base is not None and isinstance(data, np.ndarray) \\\n"
     ]
    }
   ],
   "source": [
    "best_xgbc = XGBClassifier(n_estimators=100, scale_pos_weight=best[\"x_pos_weight\"],\n",
    "                         learning_rate = best[\"x_learning_rate\"], \n",
    "                         max_depth = int(best[\"x_max_depth\"]), \n",
    "                         min_child_weight = best[\"x_min_child\"],\n",
    "                         subsample = best[\"x_subsample\"], \n",
    "                         colsample_bytree = best[\"x_tree_colsample\"])\n",
    "params = best_xgbc.get_xgb_params()\n",
    "score = xgb.cv(params, dtrain, nfold = 5, metrics = \"auc\", verbose_eval=True)\n",
    "print(score)\n",
    "d_Train = xgb.DMatrix(trainX, trainY)\n",
    "d_Test = xgb.DMatrix(testX)\n",
    "bst = xgb.train(params, d_Train)\n",
    "preds = bst.predict(d_Test)\n",
    "score = metrics.average_precision_score(testY, preds)\n",
    "print(score)"
   ]
  },
  {
   "cell_type": "code",
   "execution_count": 14,
   "metadata": {},
   "outputs": [
    {
     "data": {
      "text/plain": [
       "XGBClassifier(base_score=0.5, booster='gbtree', colsample_bylevel=1,\n",
       "              colsample_bytree=0.8663106094288152, gamma=0,\n",
       "              learning_rate=0.07285315508649765, max_delta_step=0, max_depth=5,\n",
       "              min_child_weight=7.0, missing=None, n_estimators=100, n_jobs=1,\n",
       "              nthread=None, objective='binary:logistic', random_state=0,\n",
       "              reg_alpha=0, reg_lambda=1, scale_pos_weight=8.408813524987588,\n",
       "              seed=None, silent=True, subsample=0.8066151411631557)"
      ]
     },
     "execution_count": 14,
     "metadata": {},
     "output_type": "execute_result"
    }
   ],
   "source": [
    "model = XGBClassifier(n_estimators=100, scale_pos_weight=best[\"x_pos_weight\"],\n",
    "                         learning_rate = best[\"x_learning_rate\"], \n",
    "                         max_depth = int(best[\"x_max_depth\"]), \n",
    "                         min_child_weight = best[\"x_min_child\"],\n",
    "                         subsample = best[\"x_subsample\"], \n",
    "                         colsample_bytree = best[\"x_tree_colsample\"])\n",
    "\n",
    "model.fit(trainX, trainY)"
   ]
  },
  {
   "cell_type": "code",
   "execution_count": 15,
   "metadata": {},
   "outputs": [
    {
     "data": {
      "text/plain": [
       "Text(0.5, 1.0, 'ROC curve (AUC = 0.961)')"
      ]
     },
     "execution_count": 15,
     "metadata": {},
     "output_type": "execute_result"
    },
    {
     "data": {
      "image/png": "[encoded data removed]",
      "text/plain": [
       "<Figure size 432x288 with 1 Axes>"
      ]
     },
     "metadata": {
      "needs_background": "light"
     },
     "output_type": "display_data"
    }
   ],
   "source": [
    "roc_auc, fpr, tpr, ROCthresholds = ROC_curve(trainingdatafolder, model, features)\n",
    "\n",
    "fig, ax = plt.subplots()\n",
    "ax.plot(fpr, tpr)\n",
    "ax.plot([0, 1], [0, 1], 'k--')\n",
    "ax.set_xlim([0.0, 1.0])\n",
    "ax.set_ylim([0.0, 1.0])\n",
    "ax.set_xlabel('False Positive Rate')\n",
    "ax.set_ylabel('True Positive Rate')\n",
    "ax.set_title('ROC curve (AUC = {0:.3f})'.format(roc_auc))"
   ]
  },
  {
   "cell_type": "code",
   "execution_count": 16,
   "metadata": {},
   "outputs": [
    {
     "name": "stdout",
     "output_type": "stream",
     "text": [
      "Threshold 0.006097455509006977, recall = 1.0, precision = 0.3938\n",
      "Threshold 0.02513366937637329, recall = 0.9949212798374809, precision = 0.5881116781747223\n",
      "Threshold 0.031938277184963226, recall = 0.9933976637887253, precision = 0.6193793540215327\n",
      "Threshold 0.039417002350091934, recall = 0.9928897917724734, precision = 0.6462809917355372\n",
      "Threshold 0.058503974229097366, recall = 0.9923819197562215, precision = 0.6616999661361328\n",
      "Threshold 0.08436315506696701, recall = 0.9908583037074657, precision = 0.6812150837988827\n",
      "Threshold 0.10027322918176651, recall = 0.9867953275774505, precision = 0.7001801801801801\n",
      "Threshold 0.11562831699848175, recall = 0.983748095479939, precision = 0.7144964957580229\n",
      "Threshold 0.13599535822868347, recall = 0.9807008633824277, precision = 0.7297808012093726\n",
      "Threshold 0.15750257670879364, recall = 0.97866937531742, precision = 0.7411538461538462\n",
      "Threshold 0.18258869647979736, recall = 0.9771457592686643, precision = 0.7521501172791243\n",
      "Threshold 0.21760223805904388, recall = 0.9766378872524124, precision = 0.7667464114832536\n",
      "Threshold 0.2677629590034485, recall = 0.973590655154901, precision = 0.7805374592833876\n",
      "Threshold 0.3245089650154114, recall = 0.9690198070086338, precision = 0.7933471933471934\n",
      "Threshold 0.43303805589675903, recall = 0.9624174707973591, precision = 0.8026260059296908\n",
      "Threshold 0.4786677360534668, recall = 0.9542915185373286, precision = 0.8088678433060698\n",
      "Threshold 0.5431885719299316, recall = 0.9481970543423057, precision = 0.8163533012680367\n",
      "Threshold 0.5793918371200562, recall = 0.9400711020822753, precision = 0.8252340615247437\n",
      "Threshold 0.6011434197425842, recall = 0.925850685627222, precision = 0.8370064279155188\n",
      "Threshold 0.6405472159385681, recall = 0.9177247333671915, precision = 0.844392523364486\n",
      "Threshold 0.6589162945747375, recall = 0.9040121889283901, precision = 0.8516746411483254\n",
      "Threshold 0.6838697195053101, recall = 0.8928390045708482, precision = 0.860078277886497\n",
      "Threshold 0.7226725220680237, recall = 0.8735398679532758, precision = 0.8678102926337034\n",
      "Threshold 0.7514868974685669, recall = 0.8501777552056882, precision = 0.8792016806722689\n",
      "Threshold 0.7786129713058472, recall = 0.8329101066531234, precision = 0.8898534997287032\n",
      "Threshold 0.8059138059616089, recall = 0.8014220416455053, precision = 0.8996579247434435\n",
      "Threshold 0.8229792714118958, recall = 0.7750126968004063, precision = 0.9056379821958457\n",
      "Threshold 0.8565869927406311, recall = 0.739461655662773, precision = 0.9157232704402516\n",
      "Threshold 0.8714908957481384, recall = 0.718638902996445, precision = 0.9248366013071896\n",
      "Threshold 0.8850238919258118, recall = 0.681056373793804, precision = 0.9299583911234397\n",
      "Threshold 0.9039444327354431, recall = 0.6389029964448959, precision = 0.9374068554396423\n",
      "Threshold 0.927975058555603, recall = 0.5810055865921788, precision = 0.942339373970346\n",
      "Threshold 0.944464385509491, recall = 0.5022854240731336, precision = 0.9564796905222437\n",
      "Threshold 0.961870014667511, recall = 0.37887252412392075, precision = 0.9726205997392438\n",
      "Threshold 0.9748400449752808, recall = 0.18943626206196038, precision = 0.9764397905759162\n"
     ]
    }
   ],
   "source": [
    "pr_auc, precision, recall, PRthresholds = PR_curve(trainingdatafolder, model, features)\n",
    "for i in range(0,len(recall), 15):\n",
    "    print(\"Threshold {0}, recall = {1}, precision = {2}\".format(PRthresholds[i], recall[i], precision[i]))"
   ]
  },
  {
   "cell_type": "code",
   "execution_count": 17,
   "metadata": {},
   "outputs": [
    {
     "data": {
      "image/png": "[encoded data removed]",
      "text/plain": [
       "<Figure size 432x288 with 1 Axes>"
      ]
     },
     "metadata": {
      "needs_background": "light"
     },
     "output_type": "display_data"
    }
   ],
   "source": [
    "fig, ax = plt.subplots()\n",
    "ax.plot(recall, precision)\n",
    "ax.set_xlim([0.0, 1.0])\n",
    "ax.set_ylim([0.0, 1.0])\n",
    "ax.set_xlabel('Recall')\n",
    "ax.set_ylabel('Precision')\n",
    "ax.set_title(\"AUC Score (Test): {0:.4f}\".format(pr_auc))\n",
    "plt.show()"
   ]
  },
  {
   "cell_type": "code",
   "execution_count": 19,
   "metadata": {},
   "outputs": [
    {
     "data": {
      "text/plain": [
       "(0, 819.5000000000001)"
      ]
     },
     "execution_count": 19,
     "metadata": {},
     "output_type": "execute_result"
    },
    {
     "data": {
      "image/png": "[encoded data removed]",
      "text/plain": [
       "<Figure size 432x288 with 2 Axes>"
      ]
     },
     "metadata": {
      "needs_background": "light"
     },
     "output_type": "display_data"
    }
   ],
   "source": [
    "# Histogram:\n",
    "bins = 50\n",
    "Stable, Unstable = stable_unstable_hist(trainingdatafolder, model, features)\n",
    "\n",
    "fig, ax1 = plt.subplots()\n",
    "n, bins, pathces = ax1.hist(Unstable, bins, alpha=0.5, label='No', color='blue', edgecolor = \"black\")\n",
    "ax1.set_xlabel('Predicted Probability', fontsize=14)\n",
    "ax1.set_ylabel('Unstable',  fontsize=14, color='blue')\n",
    "for tl in ax1.get_yticklabels():\n",
    "    tl.set_color('blue')\n",
    "    \n",
    "\n",
    "\n",
    "ax2 = ax1.twinx()\n",
    "n, bins , patches = ax2.hist(Stable, bins, alpha=0.5, label='Yes',color='green', edgecolor = \"black\")\n",
    "#print(n.astype(int))\n",
    "ax2.set_ylabel('Stable', fontsize=14, color='green')\n",
    "for tl in ax2.get_yticklabels():\n",
    "    tl.set_color('green')\n",
    "    \n",
    "    \n",
    "#ax1.set_ylim(ax2.get_ylim())\n",
    "ax1.set_ylim([0,1.1*n[-1]]) # goes up to ~4300\n",
    "ax2.set_ylim([0,1.1*n[-1]]) # goes up to ~2100"
   ]
  },
  {
   "cell_type": "code",
   "execution_count": 20,
   "metadata": {},
   "outputs": [
    {
     "data": {
      "text/plain": [
       "Text(0, 0.5, 'Fraction actually stable')"
      ]
     },
     "execution_count": 20,
     "metadata": {},
     "output_type": "execute_result"
    },
    {
     "data": {
      "image/png": "[encoded data removed]",
      "text/plain": [
       "<Figure size 576x432 with 1 Axes>"
      ]
     },
     "metadata": {
      "needs_background": "light"
     },
     "output_type": "display_data"
    }
   ],
   "source": [
    "bincenters, fracstable, errorbars = calibration_plot(trainingdatafolder, model, features, bins=10)\n",
    "fig, ax = plt.subplots(figsize=(8,6))\n",
    "ax.plot(np.linspace(0,1,100), np.linspace(0,1,100), '--')\n",
    "ax.errorbar(bincenters, fracstable, errorbars)\n",
    "ax.set_xlim([0,1])\n",
    "ax.set_ylim([0,1])\n",
    "ax.set_xlabel('Predicted Probability of Stability')\n",
    "ax.set_ylabel('Fraction actually stable')"
   ]
  },
  {
   "cell_type": "code",
   "execution_count": 21,
   "metadata": {},
   "outputs": [
    {
     "name": "stderr",
     "output_type": "stream",
     "text": [
      "../modelfitting.py:99: RuntimeWarning: divide by zero encountered in true_divide\n",
      "  errorbars.append(np.sqrt(1./Nerrors + 1./hist[i])*errorfracs[-1]) # see calibration plot comment\n",
      "../modelfitting.py:99: RuntimeWarning: invalid value encountered in double_scalars\n",
      "  errorbars.append(np.sqrt(1./Nerrors + 1./hist[i])*errorfracs[-1]) # see calibration plot comment\n"
     ]
    },
    {
     "data": {
      "text/plain": [
       "Text(0.5, 1.0, 'Fraction of unstable systems mislabeled as stable')"
      ]
     },
     "execution_count": 21,
     "metadata": {},
     "output_type": "execute_result"
    },
    {
     "data": {
      "image/png": "[encoded data removed]",
      "text/plain": [
       "<Figure size 576x432 with 1 Axes>"
      ]
     },
     "metadata": {
      "needs_background": "light"
     },
     "output_type": "display_data"
    }
   ],
   "source": [
    "bincenters, errorfracs, errorbars = unstable_error_fraction(trainingdatafolder, model, features, bins=10)\n",
    "fig, ax = plt.subplots(figsize=(8,6))\n",
    "ax.errorbar(bincenters, errorfracs, errorbars)\n",
    "ax.set_ylim([0,1])\n",
    "ax.set_xlabel('Log Instability Time')\n",
    "ax.set_ylabel('Error Fraction')\n",
    "ax.set_title('Fraction of unstable systems mislabeled as stable')"
   ]
  },
  {
   "cell_type": "code",
   "execution_count": 22,
   "metadata": {},
   "outputs": [
    {
     "data": {
      "image/png": "[encoded data removed]",
      "text/plain": [
       "<Figure size 864x576 with 1 Axes>"
      ]
     },
     "metadata": {
      "needs_background": "light"
     },
     "output_type": "display_data"
    }
   ],
   "source": [
    "# feature importances\n",
    "feat_imp = pd.Series(model.get_booster().get_fscore()).sort_values(ascending=False)\n",
    "feat_imp.plot(kind='bar', title='Feature Importances', figsize=(12,8))\n",
    "plt.ylabel('Feature Importance Score')\n",
    "plt.show()"
   ]
  },
  {
   "cell_type": "code",
   "execution_count": 16,
   "metadata": {},
   "outputs": [],
   "source": [
    "dill.dump([model, features, featurefolder], open(datapath+\"../models/megnov2_random.pkl\", \"wb\"))"
   ]
  },
  {
   "cell_type": "markdown",
   "metadata": {},
   "source": [
    "# Test how many nonchaotic systems were unstable"
   ]
  },
  {
   "cell_type": "code",
   "execution_count": 8,
   "metadata": {},
   "outputs": [],
   "source": [
    "model, features, featurefolder = dill.load(open(datapath+\"../models/megnoxgb_random.pkl\", \"rb\")) "
   ]
  },
  {
   "cell_type": "code",
   "execution_count": 18,
   "metadata": {},
   "outputs": [],
   "source": [
    "trainingdatafolder = datapath+dset+featurefolder\n",
    "trainX, trainY, testX, testY = train_test_split(trainingdatafolder, features, labelname='instability_time')"
   ]
  },
  {
   "cell_type": "code",
   "execution_count": 19,
   "metadata": {},
   "outputs": [
    {
     "data": {
      "text/plain": [
       "1507"
      ]
     },
     "execution_count": 19,
     "metadata": {},
     "output_type": "execute_result"
    }
   ],
   "source": [
    "(testY < 1e4).sum()"
   ]
  },
  {
   "cell_type": "code",
   "execution_count": 20,
   "metadata": {},
   "outputs": [
    {
     "data": {
      "text/plain": [
       "0.3014"
      ]
     },
     "execution_count": 20,
     "metadata": {},
     "output_type": "execute_result"
    }
   ],
   "source": [
    "(testY < 1e4).sum()/testY.shape[0]"
   ]
  },
  {
   "cell_type": "code",
   "execution_count": 21,
   "metadata": {},
   "outputs": [],
   "source": [
    "longterm = testY > 1e4"
   ]
  },
  {
   "cell_type": "code",
   "execution_count": 22,
   "metadata": {},
   "outputs": [
    {
     "data": {
      "text/plain": [
       "3493"
      ]
     },
     "execution_count": 22,
     "metadata": {},
     "output_type": "execute_result"
    }
   ],
   "source": [
    "longterm.sum()"
   ]
  },
  {
   "cell_type": "code",
   "execution_count": 35,
   "metadata": {},
   "outputs": [],
   "source": [
    "chaotic = (testX['megno'] > 2.5) & longterm\n",
    "nonchaotic = (~chaotic) & longterm & ~testX['megno'].isnull()"
   ]
  },
  {
   "cell_type": "code",
   "execution_count": 36,
   "metadata": {},
   "outputs": [
    {
     "data": {
      "text/plain": [
       "1033"
      ]
     },
     "execution_count": 36,
     "metadata": {},
     "output_type": "execute_result"
    }
   ],
   "source": [
    "chaotic.sum()"
   ]
  },
  {
   "cell_type": "code",
   "execution_count": 37,
   "metadata": {},
   "outputs": [
    {
     "data": {
      "text/plain": [
       "2373"
      ]
     },
     "execution_count": 37,
     "metadata": {},
     "output_type": "execute_result"
    }
   ],
   "source": [
    "nonchaotic.sum()"
   ]
  },
  {
   "cell_type": "code",
   "execution_count": 38,
   "metadata": {},
   "outputs": [],
   "source": [
    "trainingdatafolder = datapath+dset+featurefolder\n",
    "trainX, trainY, testX, testY = train_test_split(trainingdatafolder, features)"
   ]
  },
  {
   "cell_type": "code",
   "execution_count": 39,
   "metadata": {},
   "outputs": [],
   "source": [
    "stable = testY\n",
    "unstable = ~testY"
   ]
  },
  {
   "cell_type": "markdown",
   "metadata": {},
   "source": [
    "# Out of the nonchaotic systems living > 1e4, 20% were unstable"
   ]
  },
  {
   "cell_type": "code",
   "execution_count": 40,
   "metadata": {},
   "outputs": [
    {
     "data": {
      "text/plain": [
       "0.19848293299620734"
      ]
     },
     "execution_count": 40,
     "metadata": {},
     "output_type": "execute_result"
    }
   ],
   "source": [
    "unstable[nonchaotic].sum()/nonchaotic.sum()"
   ]
  },
  {
   "cell_type": "markdown",
   "metadata": {},
   "source": [
    "# Out of the chaotic systems living > 1e4, 6% were stable"
   ]
  },
  {
   "cell_type": "code",
   "execution_count": 41,
   "metadata": {},
   "outputs": [
    {
     "data": {
      "text/plain": [
       "0.060019361084220714"
      ]
     },
     "execution_count": 41,
     "metadata": {},
     "output_type": "execute_result"
    }
   ],
   "source": [
    "stable[chaotic].sum()/chaotic.sum()"
   ]
  },
  {
   "cell_type": "code",
   "execution_count": 16,
   "metadata": {},
   "outputs": [
    {
     "data": {
      "text/plain": [
       "<matplotlib.axes._subplots.AxesSubplot at 0x7f140af60cc0>"
      ]
     },
     "execution_count": 16,
     "metadata": {},
     "output_type": "execute_result"
    },
    {
     "data": {
      "image/png": "[encoded data removed]",
      "text/plain": [
       "<Figure size 432x288 with 1 Axes>"
      ]
     },
     "metadata": {
      "needs_background": "light"
     },
     "output_type": "display_data"
    }
   ],
   "source": [
    "testX[nonchaotic]['megno'].hist()"
   ]
  },
  {
   "cell_type": "code",
   "execution_count": null,
   "metadata": {},
   "outputs": [],
   "source": []
  }
 ],
 "metadata": {
  "anaconda-cloud": {},
  "kernelspec": {
   "display_name": "Python 3",
   "language": "python",
   "name": "python3"
  },
  "language_info": {
   "codemirror_mode": {
    "name": "ipython",
    "version": 3
   },
   "file_extension": ".py",
   "mimetype": "text/x-python",
   "name": "python",
   "nbconvert_exporter": "python",
   "pygments_lexer": "ipython3",
   "version": "3.7.3"
  }
 },
 "nbformat": 4,
 "nbformat_minor": 2
}
