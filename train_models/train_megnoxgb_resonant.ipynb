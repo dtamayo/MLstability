{
 "cells": [
  {
   "cell_type": "code",
   "execution_count": 19,
   "metadata": {},
   "outputs": [],
   "source": [
    "import numpy as np\n",
    "import sklearn\n",
    "import matplotlib.pyplot as plt\n",
    "%matplotlib inline\n",
    "import pandas as pd\n",
    "from sklearn import metrics\n",
    "from sklearn.model_selection import cross_val_score\n",
    "from matplotlib import rc\n",
    "from matplotlib import cm\n",
    "from mpl_toolkits.mplot3d import axes3d\n",
    "from matplotlib.ticker import MaxNLocator\n",
    "import scipy.signal\n",
    "import xgboost as xgb\n",
    "from xgboost.sklearn import XGBClassifier\n",
    "from hyperopt import hp, fmin, tpe, STATUS_OK, Trials\n",
    "import dill\n",
    "import sys\n",
    "sys.path.append('../')\n",
    "from modelfitting import train_test_split, ROC_curve, PR_curve, stable_unstable_hist, calibration_plot, unstable_error_fraction"
   ]
  },
  {
   "cell_type": "code",
   "execution_count": 20,
   "metadata": {},
   "outputs": [],
   "source": [
    "datapath = '/mnt/ssd/Dropbox/Dropbox (Princeton)/workspace/stability/MLstability/training_data/'\n",
    "dset = 'resonant/'\n",
    "featurefolder = 'spock_featuresv2Norbits10000.0Nout1000/'\n",
    "features = ['MEGNO']"
   ]
  },
  {
   "cell_type": "code",
   "execution_count": 21,
   "metadata": {
    "scrolled": true
   },
   "outputs": [],
   "source": [
    "trainingdatafolder = datapath+dset+featurefolder\n",
    "trainX, trainY, testX, testY = train_test_split(trainingdatafolder, features)"
   ]
  },
  {
   "cell_type": "markdown",
   "metadata": {},
   "source": [
    "# Fraction not chaotic over 1e4 orbits"
   ]
  },
  {
   "cell_type": "code",
   "execution_count": 22,
   "metadata": {},
   "outputs": [
    {
     "data": {
      "text/plain": [
       "0.515"
      ]
     },
     "execution_count": 22,
     "metadata": {},
     "output_type": "execute_result"
    }
   ],
   "source": [
    "(testX['MEGNO']<2.5).sum()/testX['MEGNO'].shape[0]"
   ]
  },
  {
   "cell_type": "markdown",
   "metadata": {},
   "source": [
    "# Fraction not chaotic over 1e4 orbits that were stable"
   ]
  },
  {
   "cell_type": "code",
   "execution_count": 26,
   "metadata": {},
   "outputs": [
    {
     "data": {
      "text/plain": [
       "0.5"
      ]
     },
     "execution_count": 26,
     "metadata": {},
     "output_type": "execute_result"
    }
   ],
   "source": [
    "regular = testX['MEGNO'] < 2.5\n",
    "testY[regular].sum()/testY[regular].shape[0]"
   ]
  },
  {
   "cell_type": "markdown",
   "metadata": {},
   "source": [
    "# Fraction chaotic over 1e4 orbits that were stable"
   ]
  },
  {
   "cell_type": "code",
   "execution_count": 28,
   "metadata": {},
   "outputs": [
    {
     "data": {
      "text/plain": [
       "0.029714285714285714"
      ]
     },
     "execution_count": 28,
     "metadata": {},
     "output_type": "execute_result"
    }
   ],
   "source": [
    "chaotic = testX['MEGNO'] > 2.5\n",
    "testY[chaotic].sum()/testY[chaotic].shape[0]"
   ]
  },
  {
   "cell_type": "code",
   "execution_count": 10,
   "metadata": {},
   "outputs": [
    {
     "name": "stderr",
     "output_type": "stream",
     "text": [
      "/home/dtamayo/miniconda3/envs/ml/lib/python3.7/site-packages/xgboost/core.py:587: FutureWarning: Series.base is deprecated and will be removed in a future version\n",
      "  if getattr(data, 'base', None) is not None and \\\n",
      "/home/dtamayo/miniconda3/envs/ml/lib/python3.7/site-packages/xgboost/core.py:588: FutureWarning: Series.base is deprecated and will be removed in a future version\n",
      "  data.base is not None and isinstance(data, np.ndarray) \\\n"
     ]
    }
   ],
   "source": [
    "space ={\n",
    "        'max_depth': hp.randint('x_max_depth',  20),\n",
    "        'min_child_weight': hp.quniform ('x_min_child', 1, 10, 1),\n",
    "        'subsample': hp.uniform ('x_subsample', 0.8, 1),\n",
    "        'scale_pos_weight': hp.uniform(\"x_pos_weight\", 1, 15),\n",
    "        \"learning_rate\":hp.uniform(\"x_learning_rate\",0.01,0.2),\n",
    "        'colsample_bytree': hp.uniform ('x_tree_colsample', 0.5,1),\n",
    "}\n",
    "\n",
    "dtrain = xgb.DMatrix(trainX, trainY)\n",
    "dtest = xgb.DMatrix(testX, testY)\n",
    "def objective(space):\n",
    "\n",
    "    clf = XGBClassifier(n_estimators = 100, \n",
    "                            max_depth = space['max_depth'], \n",
    "                            min_child_weight =space['min_child_weight'],\n",
    "                            subsample = space['subsample'],\n",
    "                            colsample_bytree =space['colsample_bytree'],\n",
    "                            learning_rate = space['learning_rate'], seed = 0)\n",
    "    \n",
    "    params = clf.get_xgb_params()\n",
    "    #dtest\n",
    "    score = xgb.cv(params, dtrain, nfold = 5, metrics = \"auc\", early_stopping_rounds=10)\n",
    "    #print score\n",
    "    #score = cross_val_score(clf, trainX, trainY, cv = 5, scoring=\"average_precision\")\n",
    "    avg_score =  np.mean(score[\"test-auc-mean\"])\n",
    "    error = np.mean(score[\"test-auc-std\"])\n",
    "    \n",
    "    bst = xgb.train(params, dtrain)\n",
    "    preds = bst.predict(dtest)\n",
    "    test_score = metrics.roc_auc_score(testY, preds)\n",
    "    \n",
    "    print(\"SCORE:\", avg_score, \"ERROR\", error, \"HOLDOUT SCORE\", test_score)\n",
    "\n",
    "    return{'loss':1-test_score, 'status': STATUS_OK, \"cv_score\":avg_score , \"cv_error\":error, \"holdout\":test_score }"
   ]
  },
  {
   "cell_type": "code",
   "execution_count": 11,
   "metadata": {
    "scrolled": true
   },
   "outputs": [
    {
     "name": "stdout",
     "output_type": "stream",
     "text": [
      "SCORE:                                              \n",
      "0.83911546                                          \n",
      "ERROR                                               \n",
      "0.007397955303322839                                \n",
      "HOLDOUT SCORE                                       \n",
      "0.8420967948320008                                  \n",
      "SCORE:                                                                        \n",
      "0.84805268                                                                    \n",
      "ERROR                                                                         \n",
      "0.009003239698780446                                                          \n",
      "HOLDOUT SCORE                                                                 \n",
      "0.8504552658684259                                                            \n",
      "SCORE:                                                                        \n",
      "0.81485558                                                                   \n",
      "ERROR                                                                        \n",
      "0.005651478216239835                                                         \n",
      "HOLDOUT SCORE                                                                \n",
      "0.825095430364656                                                            \n",
      "SCORE:                                                                       \n",
      "0.8495328799999999                                                           \n",
      "ERROR                                                                        \n",
      "0.009251707531025204                                                         \n",
      "HOLDOUT SCORE                                                                \n",
      "0.8542275049758082                                                           \n",
      "SCORE:                                                                        \n",
      "0.85070838                                                                    \n",
      "ERROR                                                                         \n",
      "0.00906286393217507                                                           \n",
      "HOLDOUT SCORE                                                                 \n",
      "0.8558719605127965                                                            \n",
      "SCORE:                                                                        \n",
      "0.8482004999999999                                                            \n",
      "ERROR                                                                         \n",
      "0.010225973115998512                                                          \n",
      "HOLDOUT SCORE                                                                 \n",
      "0.8542047005076527                                                            \n",
      "SCORE:                                                                        \n",
      "0.85013472                                                                    \n",
      "ERROR                                                                         \n",
      "0.009137556484690603                                                          \n",
      "HOLDOUT SCORE                                                                 \n",
      "0.8592375199380733                                                            \n",
      "SCORE:                                                                        \n",
      "0.84002184                                                                   \n",
      "ERROR                                                                        \n",
      "0.00973905108370392                                                          \n",
      "HOLDOUT SCORE                                                                \n",
      "0.8413619841914359                                                           \n",
      "SCORE:                                                                       \n",
      "0.8447819800000002                                                           \n",
      "ERROR                                                                        \n",
      "0.008149832961413937                                                         \n",
      "HOLDOUT SCORE                                                                \n",
      "0.8528668383758657                                                           \n",
      "SCORE:                                                                       \n",
      "0.8451530799999999                                                           \n",
      "ERROR                                                                        \n",
      "0.008165345618302912                                                         \n",
      "HOLDOUT SCORE                                                                \n",
      "0.8493068075138188                                                           \n",
      "SCORE:                                                                        \n",
      "0.8499169199999999                                                            \n",
      "ERROR                                                                         \n",
      "0.009291008885495559                                                          \n",
      "HOLDOUT SCORE                                                                 \n",
      "0.8599077179188643                                                            \n",
      "SCORE:                                                                         \n",
      "0.84676268                                                                     \n",
      "ERROR                                                                          \n",
      "0.00683809276484771                                                            \n",
      "HOLDOUT SCORE                                                                  \n",
      "0.8504482978364896                                                             \n",
      "SCORE:                                                                         \n",
      "0.8508110400000002                                                             \n",
      "ERROR                                                                          \n",
      "0.009496724221041733                                                           \n",
      "HOLDOUT SCORE                                                                  \n",
      "0.8551909937553764                                                             \n",
      "SCORE:                                                                         \n",
      "0.8499689400000001                                                             \n",
      "ERROR                                                                          \n",
      "0.009984496059681535                                                           \n",
      "HOLDOUT SCORE                                                                  \n",
      "0.8586813442980594                                                             \n",
      "SCORE:                                                                         \n",
      "0.8421721000000002                                                             \n",
      "ERROR                                                                          \n",
      "0.009550839427547825                                                           \n",
      "HOLDOUT SCORE                                                                  \n",
      "0.8447566826593558                                                             \n",
      "SCORE:                                                                         \n",
      "0.85120948                                                                     \n",
      "ERROR                                                                          \n",
      "0.012000629240320497                                                           \n",
      "HOLDOUT SCORE                                                                  \n",
      "0.8611936365398527                                                             \n",
      "SCORE:                                                                         \n",
      "0.84869822                                                                    \n",
      "ERROR                                                                         \n",
      "0.009621859175377497                                                          \n",
      "HOLDOUT SCORE                                                                 \n",
      "0.8594072865343416                                                            \n",
      "SCORE:                                                                        \n",
      "0.83987108                                                                    \n",
      "ERROR                                                                         \n",
      "0.009369662134679007                                                          \n",
      "HOLDOUT SCORE                                                                 \n",
      "0.8398758930166385                                                            \n",
      "SCORE:                                                                        \n",
      "0.8163965999999998                                                            \n",
      "ERROR                                                                         \n",
      "0.0052799397052123165                                                         \n",
      "HOLDOUT SCORE                                                                 \n",
      "0.8271155261687606                                                            \n",
      "SCORE:                                                                        \n",
      "0.5                                                                           \n",
      "ERROR                                                                         \n",
      "0.0                                                                           \n",
      "HOLDOUT SCORE                                                                 \n",
      "0.5                                                                           \n",
      "SCORE:                                                                        \n",
      "0.8510631200000001                                                            \n",
      "ERROR                                                                         \n",
      "0.010853455103357204                                                          \n",
      "HOLDOUT SCORE                                                                 \n",
      "0.8598849134507087                                                            \n",
      "SCORE:                                                                        \n",
      "0.8502974                                                                     \n",
      "ERROR                                                                         \n",
      "0.009021440535753494                                                          \n",
      "HOLDOUT SCORE                                                                 \n",
      "0.85908042249078                                                              \n",
      "SCORE:                                                                        \n",
      "0.8515282599999999                                                            \n",
      "ERROR                                                                         \n",
      "0.010769057196176407                                                          \n",
      "HOLDOUT SCORE                                                                 \n",
      "0.8598918814826452                                                            \n",
      "SCORE:                                                                        \n",
      "0.8419703000000001                                                            \n",
      "ERROR                                                                         \n",
      "0.008639096186523563                                                          \n",
      "HOLDOUT SCORE                                                                 \n",
      "0.8435765514323105                                                            \n",
      "SCORE:                                                                        \n",
      "0.84335898                                                                    \n",
      "ERROR                                                                         \n",
      "0.008184759185255356                                                          \n",
      "HOLDOUT SCORE                                                                 \n",
      "0.8451221876072919                                                            \n",
      "SCORE:                                                                        \n",
      "0.8514463400000001                                                            \n",
      "ERROR                                                                         \n",
      "0.009291056537214602                                                          \n",
      "HOLDOUT SCORE                                                                 \n",
      "0.8580548548812331                                                            \n",
      "SCORE:                                                                        \n",
      "0.84499788                                                                    \n",
      "ERROR                                                                         \n",
      "0.008608757733013828                                                          \n",
      "HOLDOUT SCORE                                                                 \n",
      "0.8495177488442569                                                            \n",
      "SCORE:                                                                        \n",
      "0.85210244                                                                    \n",
      "ERROR                                                                         \n",
      "0.010383039544110307                                                          \n",
      "HOLDOUT SCORE                                                                 \n",
      "0.8605810831868991                                                            \n",
      "SCORE:                                                                        \n",
      "0.8393510000000001                                                            \n",
      "ERROR                                                                         \n",
      "0.006907891241586361                                                          \n",
      "HOLDOUT SCORE                                                                 \n",
      "0.8412061536590403                                                            \n",
      "SCORE:                                                                        \n",
      "0.8519927800000001                                                            \n",
      "ERROR                                                                         \n",
      "0.009847337031569443                                                          \n",
      "HOLDOUT SCORE                                                                 \n",
      "0.8611030521246796                                                            \n",
      "SCORE:                                                                        \n",
      "0.8444676799999999                                                            \n",
      "ERROR                                                                         \n",
      "0.008675960877477558                                                          \n",
      "HOLDOUT SCORE                                                                 \n",
      "0.8455592732469381                                                            \n",
      "SCORE:                                                                        \n",
      "0.8524519799999999                                                            \n",
      "ERROR                                                                         \n",
      "0.010504759816587788                                                          \n",
      "HOLDOUT SCORE                                                                 \n",
      "0.8608287650493653                                                            \n",
      "SCORE:                                                                        \n",
      "0.8460411999999999                                                            \n",
      "ERROR                                                                         \n",
      "0.008903098868478877                                                          \n",
      "HOLDOUT SCORE                                                                 \n",
      "0.8462117344191639                                                            \n",
      "SCORE:                                                                        \n",
      "0.8524956999999999                                                            \n",
      "ERROR                                                                         \n",
      "0.01036204702646806                                                           \n",
      "HOLDOUT SCORE                                                                 \n",
      "0.8620646405319016                                                            \n",
      "SCORE:                                                                         \n",
      "0.84697762                                                                     \n",
      "ERROR                                                                          \n",
      "0.010007651863934288                                                           \n"
     ]
    },
    {
     "name": "stdout",
     "output_type": "stream",
     "text": [
      "HOLDOUT SCORE                                                                  \n",
      "0.8559942178004076                                                             \n",
      "SCORE:                                                                         \n",
      "0.5                                                                            \n",
      "ERROR                                                                          \n",
      "0.0                                                                            \n",
      "HOLDOUT SCORE                                                                  \n",
      "0.5                                                                            \n",
      "SCORE:                                                                         \n",
      "0.8411352200000002                                                             \n",
      "ERROR                                                                          \n",
      "0.008595777717075308                                                           \n",
      "HOLDOUT SCORE                                                                  \n",
      "0.8425744217483679                                                             \n",
      "SCORE:                                                                         \n",
      "0.84533608                                                                     \n",
      "ERROR                                                                          \n",
      "0.009481465205689541                                                           \n",
      "HOLDOUT SCORE                                                                  \n",
      "0.8500067779947018                                                             \n",
      "SCORE:                                                                         \n",
      "0.8518321                                                                      \n",
      "ERROR                                                                          \n",
      "0.010877904884748019                                                           \n",
      "HOLDOUT SCORE                                                                  \n",
      "0.8580371180726677                                                             \n",
      "SCORE:                                                                         \n",
      "0.84108504                                                                     \n",
      "ERROR                                                                          \n",
      "0.009813682582546546                                                           \n",
      "HOLDOUT SCORE                                                                  \n",
      "0.8427631920680992                                                             \n",
      "SCORE:                                                                         \n",
      "0.8433922199999999                                                             \n",
      "ERROR                                                                          \n",
      "0.008822687210853098                                                           \n",
      "HOLDOUT SCORE                                                                  \n",
      "0.8454066100017863                                                             \n",
      "SCORE:                                                                         \n",
      "0.84705674                                                                     \n",
      "ERROR                                                                          \n",
      "0.00930535707132952                                                            \n",
      "HOLDOUT SCORE                                                                  \n",
      "0.8504083900172174                                                             \n",
      "SCORE:                                                                         \n",
      "0.84078018                                                                     \n",
      "ERROR                                                                          \n",
      "0.008982607546001902                                                           \n",
      "HOLDOUT SCORE                                                                  \n",
      "0.8419485657889902                                                             \n",
      "SCORE:                                                                         \n",
      "0.84773584                                                                     \n",
      "ERROR                                                                          \n",
      "0.00843201567538175                                                            \n",
      "HOLDOUT SCORE                                                                  \n",
      "0.8503779840596767                                                             \n",
      "SCORE:                                                                         \n",
      "0.8522000000000001                                                             \n",
      "ERROR                                                                          \n",
      "0.010018858514797047                                                           \n",
      "HOLDOUT SCORE                                                                  \n",
      "0.8603745760586023                                                             \n",
      "SCORE:                                                                         \n",
      "0.84848216                                                                     \n",
      "ERROR                                                                          \n",
      "0.009725314920858225                                                           \n",
      "HOLDOUT SCORE                                                                  \n",
      "0.8549882873717725                                                             \n",
      "SCORE:                                                                         \n",
      "0.84658916                                                                     \n",
      "ERROR                                                                          \n",
      "0.008627619969146409                                                           \n",
      "HOLDOUT SCORE                                                                  \n",
      "0.847813748307085                                                              \n",
      "SCORE:                                                                         \n",
      "0.84374258                                                                     \n",
      "ERROR                                                                          \n",
      "0.008574101630461494                                                           \n",
      "HOLDOUT SCORE                                                                  \n",
      "0.84527675122479                                                               \n",
      "SCORE:                                                                         \n",
      "0.85212686                                                                     \n",
      "ERROR                                                                          \n",
      "0.011124279916642716                                                           \n",
      "HOLDOUT SCORE                                                                  \n",
      "0.8606868705808425                                                             \n",
      "SCORE:                                                                         \n",
      "0.8453153600000001                                                             \n",
      "ERROR                                                                          \n",
      "0.00736337744844164                                                            \n",
      "HOLDOUT SCORE                                                                  \n",
      "0.8478669587327811                                                             \n",
      "100%|██████████| 50/50 [00:14<00:00,  3.40it/s, best loss: 0.13793535946809843]\n",
      "Optimization Time: %f seconds 14.294877290725708\n",
      "CPU times: user 13.8 s, sys: 768 ms, total: 14.5 s\n",
      "Wall time: 14.3 s\n"
     ]
    }
   ],
   "source": [
    "%%time\n",
    "trials = Trials()\n",
    "import time\n",
    "start = time.time()\n",
    "best = fmin(fn=objective, space = space, algo = tpe.suggest, max_evals = 50, trials = trials)\n",
    "end = time.time()\n",
    "print(\"Optimization Time: %f seconds\", (end  -start))"
   ]
  },
  {
   "cell_type": "code",
   "execution_count": 12,
   "metadata": {},
   "outputs": [
    {
     "data": {
      "text/plain": [
       "{'x_learning_rate': 0.15863212986365377,\n",
       " 'x_max_depth': 4,\n",
       " 'x_min_child': 3.0,\n",
       " 'x_pos_weight': 5.560186342752907,\n",
       " 'x_subsample': 0.8876820051714283,\n",
       " 'x_tree_colsample': 0.8980348921337582}"
      ]
     },
     "execution_count": 12,
     "metadata": {},
     "output_type": "execute_result"
    }
   ],
   "source": [
    "best"
   ]
  },
  {
   "cell_type": "code",
   "execution_count": 13,
   "metadata": {},
   "outputs": [
    {
     "name": "stdout",
     "output_type": "stream",
     "text": [
      "[0]\ttrain-auc:0.855606+0.00338722\ttest-auc:0.846805+0.0134767\n",
      "[1]\ttrain-auc:0.858883+0.00380681\ttest-auc:0.84951+0.0140119\n",
      "[2]\ttrain-auc:0.861209+0.00288483\ttest-auc:0.852582+0.0121558\n",
      "[3]\ttrain-auc:0.862314+0.0024286\ttest-auc:0.852613+0.0120227\n",
      "[4]\ttrain-auc:0.863258+0.00222221\ttest-auc:0.852954+0.0119838\n",
      "[5]\ttrain-auc:0.863762+0.00191697\ttest-auc:0.85365+0.0124561\n",
      "[6]\ttrain-auc:0.86433+0.00205575\ttest-auc:0.853068+0.0130048\n",
      "[7]\ttrain-auc:0.864766+0.00251031\ttest-auc:0.854206+0.0110308\n",
      "[8]\ttrain-auc:0.864948+0.00258275\ttest-auc:0.854296+0.010943\n",
      "[9]\ttrain-auc:0.865269+0.00261607\ttest-auc:0.854641+0.0107464\n",
      "   train-auc-mean  train-auc-std  test-auc-mean  test-auc-std\n",
      "0        0.855606       0.003387       0.846805      0.013477\n",
      "1        0.858883       0.003807       0.849510      0.014012\n",
      "2        0.861209       0.002885       0.852582      0.012156\n",
      "3        0.862314       0.002429       0.852613      0.012023\n",
      "4        0.863258       0.002222       0.852954      0.011984\n",
      "5        0.863762       0.001917       0.853650      0.012456\n",
      "6        0.864330       0.002056       0.853068      0.013005\n",
      "7        0.864766       0.002510       0.854206      0.011031\n",
      "8        0.864948       0.002583       0.854296      0.010943\n",
      "9        0.865269       0.002616       0.854641      0.010746\n",
      "0.6023999852818013\n"
     ]
    },
    {
     "name": "stderr",
     "output_type": "stream",
     "text": [
      "/home/dtamayo/miniconda3/envs/ml/lib/python3.7/site-packages/xgboost/core.py:587: FutureWarning: Series.base is deprecated and will be removed in a future version\n",
      "  if getattr(data, 'base', None) is not None and \\\n",
      "/home/dtamayo/miniconda3/envs/ml/lib/python3.7/site-packages/xgboost/core.py:588: FutureWarning: Series.base is deprecated and will be removed in a future version\n",
      "  data.base is not None and isinstance(data, np.ndarray) \\\n"
     ]
    }
   ],
   "source": [
    "best_xgbc = XGBClassifier(n_estimators=100, scale_pos_weight=best[\"x_pos_weight\"],\n",
    "                         learning_rate = best[\"x_learning_rate\"], \n",
    "                         max_depth = int(best[\"x_max_depth\"]), \n",
    "                         min_child_weight = best[\"x_min_child\"],\n",
    "                         subsample = best[\"x_subsample\"], \n",
    "                         colsample_bytree = best[\"x_tree_colsample\"])\n",
    "params = best_xgbc.get_xgb_params()\n",
    "score = xgb.cv(params, dtrain, nfold = 5, metrics = \"auc\", verbose_eval=True)\n",
    "print(score)\n",
    "d_Train = xgb.DMatrix(trainX, trainY)\n",
    "d_Test = xgb.DMatrix(testX)\n",
    "bst = xgb.train(params, d_Train)\n",
    "preds = bst.predict(d_Test)\n",
    "score = metrics.average_precision_score(testY, preds)\n",
    "print(score)"
   ]
  },
  {
   "cell_type": "code",
   "execution_count": 14,
   "metadata": {},
   "outputs": [
    {
     "data": {
      "text/plain": [
       "XGBClassifier(base_score=0.5, booster='gbtree', colsample_bylevel=1,\n",
       "              colsample_bytree=0.8980348921337582, gamma=0,\n",
       "              learning_rate=0.15863212986365377, max_delta_step=0, max_depth=4,\n",
       "              min_child_weight=3.0, missing=None, n_estimators=100, n_jobs=1,\n",
       "              nthread=None, objective='binary:logistic', random_state=0,\n",
       "              reg_alpha=0, reg_lambda=1, scale_pos_weight=5.560186342752907,\n",
       "              seed=None, silent=True, subsample=0.8876820051714283)"
      ]
     },
     "execution_count": 14,
     "metadata": {},
     "output_type": "execute_result"
    }
   ],
   "source": [
    "model = XGBClassifier(n_estimators=100, scale_pos_weight=best[\"x_pos_weight\"],\n",
    "                         learning_rate = best[\"x_learning_rate\"], \n",
    "                         max_depth = int(best[\"x_max_depth\"]), \n",
    "                         min_child_weight = best[\"x_min_child\"],\n",
    "                         subsample = best[\"x_subsample\"], \n",
    "                         colsample_bytree = best[\"x_tree_colsample\"])\n",
    "\n",
    "model.fit(trainX, trainY)"
   ]
  },
  {
   "cell_type": "code",
   "execution_count": 15,
   "metadata": {},
   "outputs": [
    {
     "data": {
      "text/plain": [
       "Text(0.5, 1.0, 'ROC curve (AUC = 0.855)')"
      ]
     },
     "execution_count": 15,
     "metadata": {},
     "output_type": "execute_result"
    },
    {
     "data": {
      "image/png": "[encoded data removed]",
      "text/plain": [
       "<Figure size 432x288 with 1 Axes>"
      ]
     },
     "metadata": {
      "needs_background": "light"
     },
     "output_type": "display_data"
    }
   ],
   "source": [
    "roc_auc, fpr, tpr, ROCthresholds = ROC_curve(trainingdatafolder, model, features)\n",
    "\n",
    "fig, ax = plt.subplots()\n",
    "ax.plot(fpr, tpr)\n",
    "ax.plot([0, 1], [0, 1], 'k--')\n",
    "ax.set_xlim([0.0, 1.0])\n",
    "ax.set_ylim([0.0, 1.0])\n",
    "ax.set_xlabel('False Positive Rate')\n",
    "ax.set_ylabel('True Positive Rate')\n",
    "ax.set_title('ROC curve (AUC = {0:.3f})'.format(roc_auc))"
   ]
  },
  {
   "cell_type": "code",
   "execution_count": 16,
   "metadata": {},
   "outputs": [
    {
     "name": "stdout",
     "output_type": "stream",
     "text": [
      "Threshold 0.00947501603513956, recall = 1.0, precision = 0.2883795309168444\n",
      "Threshold 0.076960988342762, recall = 0.9944547134935305, precision = 0.361316319677636\n",
      "Threshold 0.12016501277685165, recall = 0.9833641404805915, precision = 0.4120836560805577\n",
      "Threshold 0.16170251369476318, recall = 0.977818853974122, precision = 0.440466278101582\n",
      "Threshold 0.20741595327854156, recall = 0.9704251386321626, precision = 0.46093064091308167\n",
      "Threshold 0.3032134771347046, recall = 0.9630314232902033, precision = 0.47710622710622713\n",
      "Threshold 0.4080152213573456, recall = 0.955637707948244, precision = 0.4895833333333333\n",
      "Threshold 0.5109516978263855, recall = 0.9463955637707948, precision = 0.512\n",
      "Threshold 0.5915945768356323, recall = 0.922365988909427, precision = 0.5247108307045215\n",
      "Threshold 0.637490451335907, recall = 0.9094269870609981, precision = 0.5330444203683641\n",
      "Threshold 0.6782559156417847, recall = 0.8761552680221811, precision = 0.5435779816513762\n",
      "Threshold 0.7200483679771423, recall = 0.8650646950092421, precision = 0.5571428571428572\n",
      "Threshold 0.7620310187339783, recall = 0.8280961182994455, precision = 0.5628140703517588\n",
      "Threshold 0.7945648431777954, recall = 0.7818853974121996, precision = 0.5677852348993289\n",
      "Threshold 0.8249142169952393, recall = 0.7079482439926063, precision = 0.5716417910447761\n",
      "Threshold 0.8457713723182678, recall = 0.634011090573013, precision = 0.5934256055363322\n",
      "Threshold 0.8651469945907593, recall = 0.5859519408502772, precision = 0.6143410852713178\n",
      "Threshold 0.8738338351249695, recall = 0.4713493530499076, precision = 0.6189320388349514\n",
      "Threshold 0.8848932981491089, recall = 0.3807763401109057, precision = 0.6186186186186187\n",
      "Threshold 0.8980588912963867, recall = 0.3290203327171904, precision = 0.6223776223776224\n",
      "Threshold 0.9085127711296082, recall = 0.11460258780036968, precision = 0.6019417475728155\n",
      "Threshold 0.9282333254814148, recall = 0.0036968576709796672, precision = 0.6666666666666666\n"
     ]
    }
   ],
   "source": [
    "pr_auc, precision, recall, PRthresholds = PR_curve(trainingdatafolder, model, features)\n",
    "for i in range(0,len(recall), 15):\n",
    "    print(\"Threshold {0}, recall = {1}, precision = {2}\".format(PRthresholds[i], recall[i], precision[i]))"
   ]
  },
  {
   "cell_type": "code",
   "execution_count": 17,
   "metadata": {},
   "outputs": [
    {
     "data": {
      "image/png": "[encoded data removed]",
      "text/plain": [
       "<Figure size 432x288 with 1 Axes>"
      ]
     },
     "metadata": {
      "needs_background": "light"
     },
     "output_type": "display_data"
    }
   ],
   "source": [
    "fig, ax = plt.subplots()\n",
    "ax.plot(recall, precision)\n",
    "ax.set_xlim([0.0, 1.0])\n",
    "ax.set_ylim([0.0, 1.0])\n",
    "ax.set_xlabel('Recall')\n",
    "ax.set_ylabel('Precision')\n",
    "ax.set_title(\"AUC Score (Test): {0:.4f}\".format(pr_auc))\n",
    "plt.show()"
   ]
  },
  {
   "cell_type": "code",
   "execution_count": 16,
   "metadata": {},
   "outputs": [
    {
     "data": {
      "text/plain": [
       "(0, 18.700000000000003)"
      ]
     },
     "execution_count": 16,
     "metadata": {},
     "output_type": "execute_result"
    },
    {
     "data": {
      "image/png": "[encoded data removed]",
      "text/plain": [
       "<Figure size 432x288 with 2 Axes>"
      ]
     },
     "metadata": {
      "needs_background": "light"
     },
     "output_type": "display_data"
    }
   ],
   "source": [
    "# Histogram:\n",
    "bins = 50\n",
    "Stable, Unstable = stable_unstable_hist(trainingdatafolder, model, features)\n",
    "\n",
    "fig, ax1 = plt.subplots()\n",
    "n, bins, pathces = ax1.hist(Unstable, bins, alpha=0.5, label='No', color='blue', edgecolor = \"black\")\n",
    "#print(n)\n",
    "ax1.set_xlabel('Predicted Probability', fontsize=14)\n",
    "ax1.set_ylabel('Unstable',  fontsize=14, color='blue')\n",
    "for tl in ax1.get_yticklabels():\n",
    "    tl.set_color('blue')\n",
    "    \n",
    "\n",
    "\n",
    "ax2 = ax1.twinx()\n",
    "n, bins , patches = ax2.hist(Stable, bins, alpha=0.5, label='Yes',color='green', edgecolor = \"black\")\n",
    "#print(n.astype(int))\n",
    "ax2.set_ylabel('Stable', fontsize=14, color='green')\n",
    "for tl in ax2.get_yticklabels():\n",
    "    tl.set_color('green')\n",
    "    \n",
    "    \n",
    "#ax1.set_ylim(ax2.get_ylim())\n",
    "ax1.set_ylim([0,1.1*n[-1]]) # goes up to ~4300\n",
    "ax2.set_ylim([0,1.1*n[-1]]) # goes up to ~2100"
   ]
  },
  {
   "cell_type": "code",
   "execution_count": 17,
   "metadata": {},
   "outputs": [
    {
     "data": {
      "text/plain": [
       "Text(0, 0.5, 'Fraction actually stable')"
      ]
     },
     "execution_count": 17,
     "metadata": {},
     "output_type": "execute_result"
    },
    {
     "data": {
      "image/png": "[encoded data removed]",
      "text/plain": [
       "<Figure size 576x432 with 1 Axes>"
      ]
     },
     "metadata": {
      "needs_background": "light"
     },
     "output_type": "display_data"
    }
   ],
   "source": [
    "bincenters, fracstable, errorbars = calibration_plot(trainingdatafolder, model, features, bins=10)\n",
    "fig, ax = plt.subplots(figsize=(8,6))\n",
    "ax.plot(np.linspace(0,1,100), np.linspace(0,1,100), '--')\n",
    "ax.errorbar(bincenters, fracstable, errorbars)\n",
    "ax.set_xlim([0,1])\n",
    "ax.set_ylim([0,1])\n",
    "ax.set_xlabel('Predicted Probability of Stability')\n",
    "ax.set_ylabel('Fraction actually stable')"
   ]
  },
  {
   "cell_type": "code",
   "execution_count": 18,
   "metadata": {},
   "outputs": [
    {
     "data": {
      "text/plain": [
       "Text(0.5, 1.0, 'Fraction of unstable systems mislabeled as stable')"
      ]
     },
     "execution_count": 18,
     "metadata": {},
     "output_type": "execute_result"
    },
    {
     "data": {
      "image/png": "[encoded data removed]",
      "text/plain": [
       "<Figure size 576x432 with 1 Axes>"
      ]
     },
     "metadata": {
      "needs_background": "light"
     },
     "output_type": "display_data"
    }
   ],
   "source": [
    "bincenters, errorfracs, errorbars = unstable_error_fraction(trainingdatafolder, model, features, bins=10)\n",
    "fig, ax = plt.subplots(figsize=(8,6))\n",
    "ax.errorbar(bincenters, errorfracs, errorbars)\n",
    "ax.set_ylim([0,1])\n",
    "ax.set_xlabel('Log Instability Time')\n",
    "ax.set_ylabel('Error Fraction')\n",
    "ax.set_title('Fraction of unstable systems mislabeled as stable')"
   ]
  },
  {
   "cell_type": "code",
   "execution_count": 19,
   "metadata": {},
   "outputs": [
    {
     "data": {
      "image/png": "[encoded data removed]",
      "text/plain": [
       "<Figure size 864x576 with 1 Axes>"
      ]
     },
     "metadata": {
      "needs_background": "light"
     },
     "output_type": "display_data"
    }
   ],
   "source": [
    "# feature importances\n",
    "feat_imp = pd.Series(model.get_booster().get_fscore()).sort_values(ascending=False)\n",
    "feat_imp.plot(kind='bar', title='Feature Importances', figsize=(12,8))\n",
    "plt.ylabel('Feature Importance Score')\n",
    "plt.show()"
   ]
  },
  {
   "cell_type": "code",
   "execution_count": 18,
   "metadata": {},
   "outputs": [],
   "source": [
    "dill.dump([model, features, featurefolder], open(datapath+\"../models/megnov2_resonant.pkl\", \"wb\"))"
   ]
  },
  {
   "cell_type": "markdown",
   "metadata": {},
   "source": [
    "# Test how many non-chaotic systems were unstable"
   ]
  },
  {
   "cell_type": "code",
   "execution_count": 5,
   "metadata": {},
   "outputs": [],
   "source": [
    "model, features, featurefolder = dill.load(open(datapath+\"../models/megnoxgb_resonant.pkl\", \"rb\")) "
   ]
  },
  {
   "cell_type": "code",
   "execution_count": 8,
   "metadata": {},
   "outputs": [],
   "source": [
    "chaotic = testX['megno'] > 2.5\n",
    "nonchaotic = ~chaotic\n",
    "stable = testY\n",
    "unstable = ~testY"
   ]
  },
  {
   "cell_type": "code",
   "execution_count": 9,
   "metadata": {},
   "outputs": [
    {
     "data": {
      "text/plain": [
       "0.5394853593611357"
      ]
     },
     "execution_count": 9,
     "metadata": {},
     "output_type": "execute_result"
    }
   ],
   "source": [
    "unstable[nonchaotic].sum()/nonchaotic.sum()"
   ]
  },
  {
   "cell_type": "code",
   "execution_count": 7,
   "metadata": {},
   "outputs": [
    {
     "data": {
      "text/plain": [
       "0.025200458190148912"
      ]
     },
     "execution_count": 7,
     "metadata": {},
     "output_type": "execute_result"
    }
   ],
   "source": [
    "stable[chaotic].sum()/chaotic.sum()"
   ]
  },
  {
   "cell_type": "code",
   "execution_count": null,
   "metadata": {},
   "outputs": [],
   "source": [
    "unstable = ~testY\n",
    "unstable[~chaotic].sum()/(~)"
   ]
  },
  {
   "cell_type": "code",
   "execution_count": 10,
   "metadata": {},
   "outputs": [
    {
     "data": {
      "text/plain": [
       "1127"
      ]
     },
     "execution_count": 10,
     "metadata": {},
     "output_type": "execute_result"
    }
   ],
   "source": [
    "nonchaotic.sum()"
   ]
  },
  {
   "cell_type": "code",
   "execution_count": 11,
   "metadata": {},
   "outputs": [
    {
     "data": {
      "text/plain": [
       "873"
      ]
     },
     "execution_count": 11,
     "metadata": {},
     "output_type": "execute_result"
    }
   ],
   "source": [
    "chaotic.sum()"
   ]
  },
  {
   "cell_type": "code",
   "execution_count": null,
   "metadata": {},
   "outputs": [],
   "source": []
  }
 ],
 "metadata": {
  "anaconda-cloud": {},
  "kernelspec": {
   "display_name": "Python 3",
   "language": "python",
   "name": "python3"
  },
  "language_info": {
   "codemirror_mode": {
    "name": "ipython",
    "version": 3
   },
   "file_extension": ".py",
   "mimetype": "text/x-python",
   "name": "python",
   "nbconvert_exporter": "python",
   "pygments_lexer": "ipython3",
   "version": "3.7.3"
  }
 },
 "nbformat": 4,
 "nbformat_minor": 2
}
