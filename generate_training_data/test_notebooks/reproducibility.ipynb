{
 "cells": [
  {
   "cell_type": "markdown",
   "metadata": {},
   "source": [
    "- For resonant, Naireen resonant systems, and Ari TTV systems use REBOUND commit 6fb912f615ca542b670ab591375191d1ed914672\n",
    "- For random and Naireen random systems use REBOUND commit 4992313d213b0be717a0b82002e0b89a143c9828 on the oldMLstability branch\n",
    "\n",
    "The resonant and Ari TTV systems use different REBOUND commits (a675e6f92cba32bae86f94739faec3b1b3098e81 for resonant). The problem is that this version doesn't have a __del__ function for the simulation archives and you get an error of too many open files when you run this. There was also a bug with keep_unsynchronized=1 and using MEGNO, so we now use the patch 06c95e2a69d319de3b077d92f2541cdcdf68a8fa. I test below that an integration that initializes MEGNO gives the same result as the original sim archives that don't. I then fixed something with collisions so the commit to use is 6fb912f615ca542b670ab591375191d1ed914672. Can see details in REBOUND repo pull requests.\n",
    "\n",
    "The same commit 4992313d213b0be717a0b82002e0b89a143c9828 works for the random and Naireen distribution systems. I had to branch from the old commit used to run the long integrations db3ae2cea8f3462463d3e0c5788a34625bb49a9c (actually it's not the exact one but close to it), and add the patches to calculate megno/lyap correctly with keep_unsynchronized=1 (which we need to match bit by bit). Had to update from 48feb327f90611a5569682578980b5604aa6102a to also keep pos/vel unsynchronized when using megno so that collisions are caught at the same time. In general I don't think  we want that in there (in our training dataset we are catching collisions with unsynchronized states, which is not correct, but statistically fine).\n",
    "I also had to add jacobi_masses to sim.calculate_orbits in order for celmech to work correctly. This is the latest patch on top of the last, which was 361adacb48ff55ea8331adbf37a943e63ca02984.\n",
    "\n",
    "Depending on which you load above, that pair will give the same results below, the other two will not (or won't work). But the same testsim function can work on all which lets us always use the same function in generatedata/training_data_functions.py. \n",
    "\n",
    "When we ran the resonant integrations (with the new simarchive), we did with safe_mode = 0 so we don't repeat kepler half steps. This means the sim will be in an unsynchronized state (see simarchiverestart ipython_example) when we load any snapshot but the first one, so we have to synchronize before comparing output. \n",
    "\n",
    "We need to use sim.ri_whfast.keep_unsynchronized = 1 for reproducibility. A value of 1 means that even if you synchronize, you'll keep integrating from the unsynchronized state if you keep going. So when integrating through a list of times, we need to set this if we want to match the sim archives. "
   ]
  },
  {
   "cell_type": "markdown",
   "metadata": {},
   "source": [
    "# When comparing reruns to label instability times, note that instability sim.t has been divided by P0 = sim.particles[1].P at t=0"
   ]
  },
  {
   "cell_type": "code",
   "execution_count": 1,
   "metadata": {},
   "outputs": [],
   "source": [
    "import numpy as np\n",
    "import matplotlib.pyplot as plt\n",
    "import pandas as pd\n",
    "import dask.dataframe as dd\n",
    "import rebound\n",
    "%matplotlib inline\n",
    "\n",
    "datafolder = '/mnt/ssd/Dropbox/Dropbox (Princeton)/workspace/stability/stabilitydataset/data/'\n",
    "Nout = 1729"
   ]
  },
  {
   "cell_type": "code",
   "execution_count": 2,
   "metadata": {},
   "outputs": [],
   "source": [
    "import sys\n",
    "sys.path.append('../')\n",
    "from training_data_functions import spock_featuresv2\n",
    "from training_data_spock import spock_features_clean\n",
    "from training_data_spock import spock_find_strongest_MMR as fclean\n",
    "sys.path.append('../../../../spock/spock')\n",
    "from featurefunctions import spock_find_strongest_MMR as f"
   ]
  },
  {
   "cell_type": "code",
   "execution_count": 3,
   "metadata": {},
   "outputs": [
    {
     "name": "stderr",
     "output_type": "stream",
     "text": [
      "/mnt/ssd/Dropbox/Dropbox (Princeton)/workspace/rebound/rebound/simulationarchive.py:89: RuntimeWarning: Binary file was saved with a different version of REBOUND. Binary format might have changed.\n",
      "  warnings.warn(message, RuntimeWarning)\n",
      "/mnt/ssd/Dropbox/Dropbox (Princeton)/workspace/rebound/rebound/simulationarchive.py:138: RuntimeWarning: Binary file was saved with a different version of REBOUND. Binary format might have changed.\n",
      "  warnings.warn(message, RuntimeWarning)\n",
      "/mnt/ssd/Dropbox/Dropbox (Princeton)/workspace/rebound/rebound/simulationarchive.py:138: RuntimeWarning: You have to reset function pointers after creating a reb_simulation struct with a binary file.\n",
      "  warnings.warn(message, RuntimeWarning)\n",
      "/mnt/ssd/Dropbox/Dropbox (Princeton)/workspace/rebound/rebound/simulationarchive.py:138: RuntimeWarning: Encountered unkown field in file. File might have been saved with a different version of REBOUND.\n",
      "  warnings.warn(message, RuntimeWarning)\n"
     ]
    }
   ],
   "source": [
    "sa = rebound.SimulationArchive(datafolder+'random/simulation_archives/runs/sa0003131.bin')\n",
    "sim = sa[0]"
   ]
  },
  {
   "cell_type": "code",
   "execution_count": 4,
   "metadata": {},
   "outputs": [
    {
     "name": "stdout",
     "output_type": "stream",
     "text": [
      "CPU times: user 18.5 ms, sys: 4.94 ms, total: 23.4 ms\n",
      "Wall time: 21.9 ms\n"
     ]
    },
    {
     "data": {
      "text/plain": [
       "[EMfracstdnear                        NaN\n",
       " EPstdnear                            NaN\n",
       " AMDcritnear                 6.588638e-08\n",
       " AMDtriofracnear                      NaN\n",
       " EMcrossnear                 5.805183e-02\n",
       " MMRstrengthnear                      NaN\n",
       " MMRstrengthfiltnear                  NaN\n",
       " jnear                       1.200000e+01\n",
       " knear                       1.000000e+00\n",
       " EMfracstdfar                         NaN\n",
       " EPstdfar                             NaN\n",
       " AMDcritfar                  1.020329e-06\n",
       " AMDtriofracfar                       NaN\n",
       " EMcrossfar                  5.232731e-01\n",
       " MMRstrengthfar                       NaN\n",
       " MMRstrengthfiltfar                   NaN\n",
       " jfar                                 NaN\n",
       " kfar                                 NaN\n",
       " MEGNO                                NaN\n",
       " MEGNOstd                             NaN\n",
       " stableinshortintegration    0.000000e+00\n",
       " dtype: float64]"
      ]
     },
     "execution_count": 4,
     "metadata": {},
     "output_type": "execute_result"
    }
   ],
   "source": [
    "%%time\n",
    "spock_features_clean(sim, (10000, 1000, [[1,2,3]]))"
   ]
  },
  {
   "cell_type": "code",
   "execution_count": 5,
   "metadata": {},
   "outputs": [],
   "source": [
    "sa = rebound.SimulationArchive(datafolder+'random/simulation_archives/runs/'+'sa0003131.bin')\n",
    "sim = sa[0]\n",
    "sim.init_megno()"
   ]
  },
  {
   "cell_type": "code",
   "execution_count": 7,
   "metadata": {},
   "outputs": [
    {
     "data": {
      "text/plain": [
       "0.034722222222222224"
      ]
     },
     "execution_count": 7,
     "metadata": {},
     "output_type": "execute_result"
    }
   ],
   "source": [
    "0.3*1e4/24/3600"
   ]
  },
  {
   "cell_type": "code",
   "execution_count": 7,
   "metadata": {},
   "outputs": [],
   "source": [
    "from celmech import Poincare\n",
    "\n",
    "ps = Poincare.from_Simulation(sim=sim)"
   ]
  },
  {
   "cell_type": "code",
   "execution_count": 9,
   "metadata": {},
   "outputs": [
    {
     "data": {
      "text/plain": [
       "4"
      ]
     },
     "execution_count": 9,
     "metadata": {},
     "output_type": "execute_result"
    }
   ],
   "source": [
    "len(ps.particles)"
   ]
  },
  {
   "cell_type": "code",
   "execution_count": null,
   "metadata": {},
   "outputs": [],
   "source": [
    "def collision(reb_sim, col):\n",
    "    reb_sim.contents._status = 5\n",
    "    return 0\n",
    "\n",
    "def testsim(sim, times):\n",
    "    sim.collision_resolve = collision\n",
    "    sim.ri_whfast.keep_unsynchronized = 1\n",
    "    sim.init_megno()\n",
    "    val = np.zeros((Nout, 19))\n",
    "    for i, time in enumerate(times):\n",
    "        sim.integrate(time, exact_finish_time=0)\n",
    "        orbits = sim.calculate_orbits()\n",
    "        for j, o in enumerate(orbits):\n",
    "            val[i,0] = sim.t\n",
    "            val[i,6*j+1] = o.a\n",
    "            val[i,6*j+2] = o.e\n",
    "            val[i,6*j+3] = o.inc\n",
    "            val[i,6*j+4] = o.Omega\n",
    "            val[i,6*j+5] = o.pomega\n",
    "            val[i,6*j+6] = o.M\n",
    "    return sim, val"
   ]
  },
  {
   "cell_type": "markdown",
   "metadata": {},
   "source": [
    "# Random"
   ]
  },
  {
   "cell_type": "code",
   "execution_count": null,
   "metadata": {},
   "outputs": [],
   "source": [
    "%%time\n",
    "sa = rebound.SimulationArchive(datafolder+'random/simulation_archives/runs/sa0000000.bin')\n",
    "tmax = sa[1].t\n",
    "sim = sa[0]\n",
    "\n",
    "times = np.linspace(0, tmax, Nout)\n",
    "sim, val = testsim(sim, times) # one of the data generation functions we run over short period\n",
    "sim.status()"
   ]
  },
  {
   "cell_type": "code",
   "execution_count": null,
   "metadata": {},
   "outputs": [],
   "source": [
    "sim = sa[1]\n",
    "sim.integrator_synchronize()\n",
    "sim.status()"
   ]
  },
  {
   "cell_type": "markdown",
   "metadata": {},
   "source": [
    "# Naireen"
   ]
  },
  {
   "cell_type": "code",
   "execution_count": 5,
   "metadata": {},
   "outputs": [
    {
     "name": "stdout",
     "output_type": "stream",
     "text": [
      "---------------------------------\n",
      "REBOUND version:     \t3.4.0\n",
      "REBOUND built on:    \tJul 15 2019 09:59:19\n",
      "Number of particles: \t8\n",
      "Selected integrator: \twhfast\n",
      "Simulation time:     \t1.0000000999712122e+05\n",
      "Current timestep:    \t0.034641\n",
      "---------------------------------\n",
      "<rebound.Particle object, m=1.0 x=-9.173480652651816e-06 y=-4.354427286039064e-05 z=5.542083599589504e-07 vx=0.00019654769538463409 vy=2.6979549413033457e-05 vz=4.954382605171793e-06>\n",
      "<rebound.Particle object, m=2.5298381201802596e-07 x=0.8470725506233061 y=0.41095563040632466 z=0.03976918629748858 vx=-3.197193747693299 vy=5.8395491651175195 vz=-0.03451638541126706>\n",
      "<rebound.Particle object, m=3.485789928918549e-05 x=-0.6897739638334781 y=0.9504282798666671 z=-0.005880691556774625 vx=-4.833846067332019 vy=-3.2673866283777704 vz=-0.19088740917165398>\n",
      "<rebound.Particle object, m=1.9557973661340233e-05 x=1.6874578595236527 y=0.5271698723569521 z=-0.01837004039421574 vx=-1.392840495636032 vy=4.368416416186001 vz=0.08734460919345712>\n",
      "<rebound.Particle object, m=0.0 x=4.75554140962606e+127 y=1.808834151923641e+128 z=3.8305391826186476e+126 vx=-1.0714920659293436e+129 vy=1.7765246325440152e+128 vz=-3.49610417878863e+127>\n",
      "<rebound.Particle object, m=0.0 x=2.1481745330799632e+134 y=-3.9522002583178324e+134 z=2.0452920530582556e+132 vx=2.7389254270784348e+135 vy=1.346708511173514e+135 vz=1.2910890594965756e+134>\n",
      "<rebound.Particle object, m=0.0 x=-3.009295949405923e+132 y=-2.151276929627683e+132 z=-1.2153556406767447e+131 vx=1.0326127782042031e+133 vy=-1.496480515586459e+133 vz=7.095567055178559e+130>\n",
      "<rebound.Particle object, m=0.0 x=1.5323585487527996e+131 y=-3.021863112102154e+131 z=-5.700514403827688e+129 vx=9.531226804496354e+131 vy=1.6840982477263444e+131 vz=-8.936867686406543e+129>\n",
      "---------------------------------\n",
      "CPU times: user 6.37 s, sys: 0 ns, total: 6.37 s\n",
      "Wall time: 6.38 s\n"
     ]
    }
   ],
   "source": [
    "%%time\n",
    "sa = rebound.SimulationArchive(datafolder+'distributions/Sys_1_1e8/simulation_archives/sa0000000.bin')\n",
    "tmax = sa[1].t\n",
    "sim = sa[0]\n",
    "times = np.linspace(0, tmax, Nout)\n",
    "sim, val = testsim(sim, times) # one of the data generation functions we run over short period\n",
    "sim.status()"
   ]
  },
  {
   "cell_type": "code",
   "execution_count": 6,
   "metadata": {},
   "outputs": [
    {
     "name": "stdout",
     "output_type": "stream",
     "text": [
      "---------------------------------\n",
      "REBOUND version:     \t3.4.0\n",
      "REBOUND built on:    \tJul 15 2019 09:59:19\n",
      "Number of particles: \t8\n",
      "Selected integrator: \twhfast\n",
      "Simulation time:     \t1.0000000999712122e+05\n",
      "Current timestep:    \t0.034641\n",
      "---------------------------------\n",
      "<rebound.Particle object, m=1.0 x=-9.173480652651816e-06 y=-4.354427286039064e-05 z=5.542083599589504e-07 vx=0.00019654769538463409 vy=2.6979549413033457e-05 vz=4.954382605171793e-06>\n",
      "<rebound.Particle object, m=2.5298381201802596e-07 x=0.8470725506233061 y=0.41095563040632466 z=0.03976918629748858 vx=-3.197193747693299 vy=5.8395491651175195 vz=-0.03451638541126706>\n",
      "<rebound.Particle object, m=3.485789928918549e-05 x=-0.6897739638334781 y=0.9504282798666671 z=-0.005880691556774625 vx=-4.833846067332019 vy=-3.2673866283777704 vz=-0.19088740917165398>\n",
      "<rebound.Particle object, m=1.9557973661340233e-05 x=1.6874578595236527 y=0.5271698723569521 z=-0.01837004039421574 vx=-1.392840495636032 vy=4.368416416186001 vz=0.08734460919345712>\n",
      "<rebound.Particle object, m=200000.02004561835 x=15.127389045651759 y=1.0000000258318145 z=6.716446683706645e-06 vx=3.986721346762383e-06 vy=2.9550244486274844e-06 vz=-7.371600271528733e-05>\n",
      "<rebound.Particle object, m=1.3551786295404944e-20 x=15.143370500262057 y=1.000618892075125 z=0.3645596905902085 vx=0.9480287875220863 vy=0.04858238379341492 vz=-5.759198254946525>\n",
      "<rebound.Particle object, m=3.0189357745944174 x=15.249457247393675 y=0.9990476281355728 z=-0.8312568830819071 vx=-0.7074360868691655 vy=-0.09255626344518994 vz=4.1613358215012095>\n",
      "<rebound.Particle object, m=-4.653484826932039 x=15.009553267253445 y=1.0003686117227593 z=1.1334095601934349 vx=1.044749264050221 vy=0.01324277806757939 vz=-3.573091954230042>\n",
      "---------------------------------\n"
     ]
    }
   ],
   "source": [
    "sim = sa[1]\n",
    "sim.integrator_synchronize() # need this step with new sim archive because we used safe_mode = 0\n",
    "sim.status()"
   ]
  },
  {
   "cell_type": "markdown",
   "metadata": {},
   "source": [
    "# Resonant"
   ]
  },
  {
   "cell_type": "code",
   "execution_count": 176,
   "metadata": {},
   "outputs": [
    {
     "data": {
      "text/plain": [
       "50400.0"
      ]
     },
     "execution_count": 176,
     "metadata": {},
     "output_type": "execute_result"
    }
   ],
   "source": [
    "7*3600/0.5"
   ]
  },
  {
   "cell_type": "code",
   "execution_count": 20,
   "metadata": {},
   "outputs": [
    {
     "name": "stdout",
     "output_type": "stream",
     "text": [
      "CPU times: user 2.33 ms, sys: 0 ns, total: 2.33 ms\n",
      "Wall time: 1.22 ms\n"
     ]
    }
   ],
   "source": [
    "%%time\n",
    "import time\n",
    "sa = rebound.SimulationArchive(datafolder+'resonant/simulation_archives/runs/sa0000000.bin')\n",
    "tmax = sa[1].t\n",
    "sim = sa[0]\n",
    "sim.dt*=2"
   ]
  },
  {
   "cell_type": "code",
   "execution_count": 9,
   "metadata": {},
   "outputs": [
    {
     "name": "stdout",
     "output_type": "stream",
     "text": [
      "CPU times: user 2.56 s, sys: 780 µs, total: 2.56 s\n",
      "Wall time: 2.56 s\n"
     ]
    }
   ],
   "source": [
    "%%time\n",
    "sim.integrate(1e5*sim.particles[1].P)"
   ]
  },
  {
   "cell_type": "code",
   "execution_count": 22,
   "metadata": {},
   "outputs": [
    {
     "data": {
      "text/plain": [
       "55555.555555555555"
      ]
     },
     "execution_count": 22,
     "metadata": {},
     "output_type": "execute_result"
    }
   ],
   "source": [
    "25000/0.45"
   ]
  },
  {
   "cell_type": "code",
   "execution_count": 21,
   "metadata": {},
   "outputs": [
    {
     "name": "stdout",
     "output_type": "stream",
     "text": [
      "CPU times: user 457 ms, sys: 2.48 ms, total: 459 ms\n",
      "Wall time: 457 ms\n"
     ]
    },
    {
     "data": {
      "text/plain": [
       "[EMfracstdnear               1.619608e-02\n",
       " EPstdnear                   2.839916e-04\n",
       " AMDcritnear                 3.184811e-09\n",
       " AMDtriofracnear             2.737720e+01\n",
       " EMcrossnear                 6.023365e-02\n",
       " MMRstrengthnear             4.909226e-01\n",
       " MMRstrengthfiltnear                  NaN\n",
       " jnear                       1.200000e+01\n",
       " knear                       1.000000e+00\n",
       " EMfracstdfar                8.875846e-04\n",
       " EPstdfar                    3.299441e-04\n",
       " AMDcritfar                  2.034865e-06\n",
       " AMDtriofracfar              4.284865e-02\n",
       " EMcrossfar                  5.040627e-01\n",
       " MMRstrengthfar                       NaN\n",
       " MMRstrengthfiltfar                   NaN\n",
       " jfar                                 NaN\n",
       " kfar                                 NaN\n",
       " MEGNO                       2.019081e+00\n",
       " MEGNOstd                    2.253887e-01\n",
       " stableinshortintegration    1.000000e+00\n",
       " dtype: float64]"
      ]
     },
     "execution_count": 21,
     "metadata": {},
     "output_type": "execute_result"
    }
   ],
   "source": [
    "%%time\n",
    "spock_features_clean(sim, (10000, 80, [[1,2,3]]))"
   ]
  },
  {
   "cell_type": "code",
   "execution_count": 23,
   "metadata": {},
   "outputs": [
    {
     "data": {
      "text/plain": [
       "11.25"
      ]
     },
     "execution_count": 23,
     "metadata": {},
     "output_type": "execute_result"
    }
   ],
   "source": [
    "1500*0.45/60"
   ]
  },
  {
   "cell_type": "code",
   "execution_count": 24,
   "metadata": {},
   "outputs": [
    {
     "data": {
      "text/plain": [
       "10500"
      ]
     },
     "execution_count": 24,
     "metadata": {},
     "output_type": "execute_result"
    }
   ],
   "source": [
    "1500*7"
   ]
  },
  {
   "cell_type": "code",
   "execution_count": 5,
   "metadata": {},
   "outputs": [
    {
     "data": {
      "text/plain": [
       "(12, 1, 0.6710843718003976)"
      ]
     },
     "execution_count": 5,
     "metadata": {},
     "output_type": "execute_result"
    }
   ],
   "source": [
    "f(sim, 2, 3)"
   ]
  },
  {
   "cell_type": "code",
   "execution_count": 4,
   "metadata": {},
   "outputs": [
    {
     "data": {
      "text/plain": [
       "(12, 1, 0.3111432866895512)"
      ]
     },
     "execution_count": 4,
     "metadata": {},
     "output_type": "execute_result"
    }
   ],
   "source": [
    "fclean(sim, 2,3)"
   ]
  },
  {
   "cell_type": "code",
   "execution_count": 4,
   "metadata": {},
   "outputs": [
    {
     "data": {
      "text/plain": [
       "(12, 1, 0.3217118793359343)"
      ]
     },
     "execution_count": 4,
     "metadata": {},
     "output_type": "execute_result"
    }
   ],
   "source": [
    "fclean(sim, 2,3)"
   ]
  },
  {
   "cell_type": "code",
   "execution_count": 8,
   "metadata": {},
   "outputs": [
    {
     "data": {
      "text/plain": [
       "(133, 2)"
      ]
     },
     "execution_count": 8,
     "metadata": {},
     "output_type": "execute_result"
    }
   ],
   "source": [
    "from celmech.resonances import resonant_period_ratios\n",
    "resonant_period_ratios(0.97, 0.99, 2).shape"
   ]
  },
  {
   "cell_type": "code",
   "execution_count": 10,
   "metadata": {},
   "outputs": [
    {
     "data": {
      "text/plain": [
       "0.01624556091764473"
      ]
     },
     "execution_count": 10,
     "metadata": {},
     "output_type": "execute_result"
    }
   ],
   "source": [
    "(1.e-7)**(1/3)*3.5"
   ]
  },
  {
   "cell_type": "code",
   "execution_count": 4,
   "metadata": {},
   "outputs": [
    {
     "data": {
      "text/plain": [
       "(12, 1, 0.3111432866895512)"
      ]
     },
     "execution_count": 4,
     "metadata": {},
     "output_type": "execute_result"
    }
   ],
   "source": [
    "fclean(sim, 2,3)"
   ]
  },
  {
   "cell_type": "code",
   "execution_count": 201,
   "metadata": {},
   "outputs": [
    {
     "name": "stdout",
     "output_type": "stream",
     "text": [
      "CPU times: user 328 ms, sys: 0 ns, total: 328 ms\n",
      "Wall time: 327 ms\n"
     ]
    }
   ],
   "source": [
    "%%time\n",
    "sim.init_megno()\n",
    "sim.integrate(10000)"
   ]
  },
  {
   "cell_type": "code",
   "execution_count": 181,
   "metadata": {},
   "outputs": [
    {
     "data": {
      "text/plain": [
       "12.5"
      ]
     },
     "execution_count": 181,
     "metadata": {},
     "output_type": "execute_result"
    }
   ],
   "source": [
    "1500*0.5/60"
   ]
  },
  {
   "cell_type": "code",
   "execution_count": 28,
   "metadata": {},
   "outputs": [],
   "source": [
    "def profile(basesim, Nouts, tmax):\n",
    "    runt = []\n",
    "    for Nout in Nouts:\n",
    "        sim = basesim.copy()\n",
    "        t0 = time.time()\n",
    "        spock_features_clean(sim, (tmax, int(Nout), [[1,2,3]]))\n",
    "        print(sim.t)\n",
    "        t = time.time()\n",
    "        runt.append(t-t0)\n",
    "    return np.array(runt)"
   ]
  },
  {
   "cell_type": "markdown",
   "metadata": {},
   "source": [
    "# With 3x sim.dt and tmax=1e4, we are limited by Nout and feature generation down to reasonable numbers for Nout"
   ]
  },
  {
   "cell_type": "code",
   "execution_count": 29,
   "metadata": {},
   "outputs": [
    {
     "name": "stdout",
     "output_type": "stream",
     "text": [
      "10000.09926054601\n",
      "10000.09926054601\n",
      "10000.09926054601\n",
      "10000.09926054601\n",
      "10000.09926054601\n",
      "10000.09926054601\n",
      "10000.09926054601\n",
      "10000.09926054601\n",
      "10000.09926054601\n",
      "10000.09926054601\n",
      "CPU times: user 12.3 s, sys: 11.8 ms, total: 12.4 s\n",
      "Wall time: 12.4 s\n"
     ]
    }
   ],
   "source": [
    "%%time\n",
    "Nouts = np.logspace(np.log10(30), 3, 10)\n",
    "runts = profile(sim, Nouts, 10000)"
   ]
  },
  {
   "cell_type": "code",
   "execution_count": 30,
   "metadata": {},
   "outputs": [
    {
     "data": {
      "text/plain": [
       "[<matplotlib.lines.Line2D at 0x7fa17cec9f98>]"
      ]
     },
     "execution_count": 30,
     "metadata": {},
     "output_type": "execute_result"
    },
    {
     "data": {
      "image/png": "[encoded data removed]",
      "text/plain": [
       "<Figure size 432x288 with 1 Axes>"
      ]
     },
     "metadata": {
      "needs_background": "light"
     },
     "output_type": "display_data"
    }
   ],
   "source": [
    "fig, ax = plt.subplots()\n",
    "ax.plot(Nouts, runts, '.')\n",
    "ax.plot(Nouts, runts[-1]*Nouts/Nouts[-1], 'r--')"
   ]
  },
  {
   "cell_type": "code",
   "execution_count": 12,
   "metadata": {},
   "outputs": [
    {
     "data": {
      "text/plain": [
       "[<matplotlib.lines.Line2D at 0x7f350c5e4e48>]"
      ]
     },
     "execution_count": 12,
     "metadata": {},
     "output_type": "execute_result"
    },
    {
     "data": {
      "image/png": "[encoded data removed]",
      "text/plain": [
       "<Figure size 432x288 with 1 Axes>"
      ]
     },
     "metadata": {
      "needs_background": "light"
     },
     "output_type": "display_data"
    }
   ],
   "source": [
    "fig, ax = plt.subplots()\n",
    "ax.plot(Nouts, runts, '.')\n",
    "ax.plot(Nouts, runts[-1]*Nouts/Nouts[-1], 'r--')"
   ]
  },
  {
   "cell_type": "code",
   "execution_count": 24,
   "metadata": {},
   "outputs": [
    {
     "name": "stdout",
     "output_type": "stream",
     "text": [
      "1000.1554183225936\n",
      "1000.1554183225936\n",
      "1000.1554183225936\n",
      "1000.1554183225936\n",
      "1000.1554183225936\n",
      "1000.1554183225936\n",
      "1000.1554183225936\n",
      "1000.1554183225936\n",
      "1000.1554183225936\n",
      "1000.1554183225936\n",
      "CPU times: user 10.9 s, sys: 19.7 ms, total: 11 s\n",
      "Wall time: 11 s\n"
     ]
    }
   ],
   "source": [
    "%%time\n",
    "Nouts = np.logspace(np.log10(30), 3, 10)\n",
    "runts = profile(sim, Nouts, 1000)"
   ]
  },
  {
   "cell_type": "code",
   "execution_count": 16,
   "metadata": {},
   "outputs": [
    {
     "data": {
      "text/plain": [
       "[<matplotlib.lines.Line2D at 0x7fa17cfa7208>]"
      ]
     },
     "execution_count": 16,
     "metadata": {},
     "output_type": "execute_result"
    },
    {
     "data": {
      "image/png": "[encoded data removed]",
      "text/plain": [
       "<Figure size 432x288 with 1 Axes>"
      ]
     },
     "metadata": {
      "needs_background": "light"
     },
     "output_type": "display_data"
    }
   ],
   "source": [
    "fig, ax = plt.subplots()\n",
    "ax.plot(Nouts, runts, '.')\n",
    "ax.plot(Nouts, runts[-1]*Nouts/Nouts[-1], 'r--')"
   ]
  },
  {
   "cell_type": "code",
   "execution_count": 169,
   "metadata": {},
   "outputs": [
    {
     "name": "stdout",
     "output_type": "stream",
     "text": [
      "CPU times: user 26.7 s, sys: 17.3 ms, total: 26.7 s\n",
      "Wall time: 26.7 s\n"
     ]
    }
   ],
   "source": [
    "%%time\n",
    "Nouts = np.logspace(np.log10(30), 3, 10)\n",
    "runts = profile(sim, Nouts, 100000)"
   ]
  },
  {
   "cell_type": "code",
   "execution_count": 170,
   "metadata": {},
   "outputs": [
    {
     "data": {
      "text/plain": [
       "[<matplotlib.lines.Line2D at 0x7fabc45d3710>]"
      ]
     },
     "execution_count": 170,
     "metadata": {},
     "output_type": "execute_result"
    },
    {
     "data": {
      "image/png": "[encoded data removed]",
      "text/plain": [
       "<Figure size 432x288 with 1 Axes>"
      ]
     },
     "metadata": {
      "needs_background": "light"
     },
     "output_type": "display_data"
    }
   ],
   "source": [
    "fig, ax = plt.subplots()\n",
    "ax.plot(Nouts, runts, '.')\n",
    "ax.plot(Nouts, runts[-1]*Nouts/Nouts[-1], 'r--')"
   ]
  },
  {
   "cell_type": "code",
   "execution_count": 156,
   "metadata": {},
   "outputs": [
    {
     "data": {
      "text/plain": [
       "[0.3721449375152588,\n",
       " 0.28960704803466797,\n",
       " 0.31757402420043945,\n",
       " 0.3527336120605469,\n",
       " 0.4084053039550781,\n",
       " 0.49315476417541504,\n",
       " 0.6093640327453613,\n",
       " 0.8269805908203125,\n",
       " 1.0596766471862793,\n",
       " 1.4260423183441162]"
      ]
     },
     "execution_count": 156,
     "metadata": {},
     "output_type": "execute_result"
    }
   ],
   "source": [
    "runts"
   ]
  },
  {
   "cell_type": "code",
   "execution_count": 119,
   "metadata": {},
   "outputs": [
    {
     "name": "stdout",
     "output_type": "stream",
     "text": [
      "CPU times: user 133 ms, sys: 0 ns, total: 133 ms\n",
      "Wall time: 130 ms\n"
     ]
    }
   ],
   "source": [
    "%%time\n",
    "sim.integrate(10000)"
   ]
  },
  {
   "cell_type": "code",
   "execution_count": 144,
   "metadata": {},
   "outputs": [
    {
     "name": "stdout",
     "output_type": "stream",
     "text": [
      "0.5733091831207275\n"
     ]
    }
   ],
   "source": [
    "t0 = time.time()\n",
    "spock_features_clean(sim, (10000, 80, [[1,2,3]]))\n",
    "t = time.time()\n",
    "print(t-t0)"
   ]
  },
  {
   "cell_type": "code",
   "execution_count": 124,
   "metadata": {},
   "outputs": [
    {
     "name": "stdout",
     "output_type": "stream",
     "text": [
      "CPU times: user 240 ms, sys: 61 µs, total: 240 ms\n",
      "Wall time: 237 ms\n"
     ]
    },
    {
     "data": {
      "text/plain": [
       "[EMfracstdnear               2.916555e-02\n",
       " EPstdnear                   1.659531e-05\n",
       " AMDcritnear                 3.184811e-09\n",
       " AMDtriofracnear             2.737575e+01\n",
       " EMcrossnear                 6.023365e-02\n",
       " MMRstrengthnear             4.631644e-01\n",
       " MMRstrengthfiltnear         4.631644e-01\n",
       " jnear                       1.200000e+01\n",
       " knear                       1.000000e+00\n",
       " EMfracstdfar                8.011764e-04\n",
       " EPstdfar                    2.964420e-04\n",
       " AMDcritfar                  2.034865e-06\n",
       " AMDtriofracfar              4.284639e-02\n",
       " EMcrossfar                  5.040627e-01\n",
       " MMRstrengthfar                       NaN\n",
       " MMRstrengthfiltfar                   NaN\n",
       " jfar                                 NaN\n",
       " kfar                                 NaN\n",
       " MEGNO                       2.040202e+00\n",
       " MEGNOstd                    1.783049e-01\n",
       " stableinshortintegration    1.000000e+00\n",
       " dtype: float64]"
      ]
     },
     "execution_count": 124,
     "metadata": {},
     "output_type": "execute_result"
    }
   ],
   "source": [
    "%%time\n",
    "spock_features_clean(sim, (1000, 150, [[1,2,3]]))"
   ]
  },
  {
   "cell_type": "code",
   "execution_count": 109,
   "metadata": {},
   "outputs": [
    {
     "name": "stdout",
     "output_type": "stream",
     "text": [
      "CPU times: user 495 ms, sys: 3.87 ms, total: 498 ms\n",
      "Wall time: 497 ms\n"
     ]
    },
    {
     "data": {
      "text/plain": [
       "[EMfracstdnear               3.085650e-02\n",
       " EPstdnear                   2.815017e-04\n",
       " AMDcritnear                 3.184811e-09\n",
       " AMDtriofracnear             2.737790e+01\n",
       " EMcrossnear                 6.023365e-02\n",
       " MMRstrengthnear             4.586633e-01\n",
       " MMRstrengthfiltnear         4.586633e-01\n",
       " jnear                       1.200000e+01\n",
       " knear                       1.000000e+00\n",
       " EMfracstdfar                8.803085e-04\n",
       " EPstdfar                    3.308028e-04\n",
       " AMDcritfar                  2.034865e-06\n",
       " AMDtriofracfar              4.284976e-02\n",
       " EMcrossfar                  5.040627e-01\n",
       " MMRstrengthfar                       NaN\n",
       " MMRstrengthfiltfar                   NaN\n",
       " jfar                                 NaN\n",
       " kfar                                 NaN\n",
       " MEGNO                       2.007121e+00\n",
       " MEGNOstd                    1.653323e-01\n",
       " stableinshortintegration    1.000000e+00\n",
       " dtype: float64]"
      ]
     },
     "execution_count": 109,
     "metadata": {},
     "output_type": "execute_result"
    }
   ],
   "source": [
    "%%time\n",
    "spock_features_clean(sim, (10000, 150, [[1,2,3]]))"
   ]
  },
  {
   "cell_type": "code",
   "execution_count": 111,
   "metadata": {},
   "outputs": [
    {
     "name": "stdout",
     "output_type": "stream",
     "text": [
      "CPU times: user 917 ms, sys: 0 ns, total: 917 ms\n",
      "Wall time: 915 ms\n"
     ]
    },
    {
     "data": {
      "text/plain": [
       "[EMfracstdnear               3.085298e-02\n",
       " EPstdnear                   2.815830e-04\n",
       " AMDcritnear                 3.184811e-09\n",
       " AMDtriofracnear             2.737712e+01\n",
       " EMcrossnear                 6.023365e-02\n",
       " MMRstrengthnear             4.697672e-01\n",
       " MMRstrengthfiltnear         4.697672e-01\n",
       " jnear                       1.200000e+01\n",
       " knear                       1.000000e+00\n",
       " EMfracstdfar                8.802214e-04\n",
       " EPstdfar                    3.307286e-04\n",
       " AMDcritfar                  2.034865e-06\n",
       " AMDtriofracfar              4.284853e-02\n",
       " EMcrossfar                  5.040627e-01\n",
       " MMRstrengthfar                       NaN\n",
       " MMRstrengthfiltfar                   NaN\n",
       " jfar                                 NaN\n",
       " kfar                                 NaN\n",
       " MEGNO                       2.005623e+00\n",
       " MEGNOstd                    1.652588e-01\n",
       " stableinshortintegration    1.000000e+00\n",
       " dtype: float64]"
      ]
     },
     "execution_count": 111,
     "metadata": {},
     "output_type": "execute_result"
    }
   ],
   "source": [
    "%%time\n",
    "spock_features_clean(sim, (10000, 150, [[1,2,3]]))"
   ]
  },
  {
   "cell_type": "code",
   "execution_count": 69,
   "metadata": {},
   "outputs": [
    {
     "name": "stdout",
     "output_type": "stream",
     "text": [
      "CPU times: user 1.21 s, sys: 3.43 ms, total: 1.22 s\n",
      "Wall time: 1.22 s\n"
     ]
    },
    {
     "data": {
      "text/plain": [
       "[EMfracstdnear               2.913242e-02\n",
       " EPstdnear                   1.684715e-05\n",
       " AMDcritnear                 3.184811e-09\n",
       " AMDtriofracnear             2.737784e+01\n",
       " EMcrossnear                 6.023365e-02\n",
       " MMRstrengthnear             4.731487e-01\n",
       " MMRstrengthfiltnear         4.731487e-01\n",
       " jnear                       1.200000e+01\n",
       " knear                       1.000000e+00\n",
       " EMfracstdfar                7.971547e-04\n",
       " EPstdfar                    2.963379e-04\n",
       " AMDcritfar                  2.034865e-06\n",
       " AMDtriofracfar              4.284966e-02\n",
       " EMcrossfar                  5.040627e-01\n",
       " MMRstrengthfar                       NaN\n",
       " MMRstrengthfiltfar                   NaN\n",
       " jfar                                 NaN\n",
       " kfar                                 NaN\n",
       " MEGNO                       2.040023e+00\n",
       " MEGNOstd                    1.012494e-01\n",
       " stableinshortintegration    1.000000e+00\n",
       " dtype: float64]"
      ]
     },
     "execution_count": 69,
     "metadata": {},
     "output_type": "execute_result"
    }
   ],
   "source": [
    "%%time\n",
    "spock_features_clean(sim, (1000, 1000, [[1,2,3]]))"
   ]
  },
  {
   "cell_type": "code",
   "execution_count": 73,
   "metadata": {},
   "outputs": [
    {
     "name": "stdout",
     "output_type": "stream",
     "text": [
      "CPU times: user 66.9 ms, sys: 96 µs, total: 67 ms\n",
      "Wall time: 63.9 ms\n"
     ]
    },
    {
     "data": {
      "text/plain": [
       "[EMfracstdnear               1.271185e-02\n",
       " EPstdnear                   1.180596e-05\n",
       " AMDcritnear                 3.184811e-09\n",
       " AMDtriofracnear             2.738015e+01\n",
       " EMcrossnear                 6.023365e-02\n",
       " MMRstrengthnear             3.595591e-01\n",
       " MMRstrengthfiltnear         3.595591e-01\n",
       " jnear                       1.200000e+01\n",
       " knear                       1.000000e+00\n",
       " EMfracstdfar                2.881520e-04\n",
       " EPstdfar                    7.505182e-05\n",
       " AMDcritfar                  2.034865e-06\n",
       " AMDtriofracfar              4.285327e-02\n",
       " EMcrossfar                  5.040627e-01\n",
       " MMRstrengthfar                       NaN\n",
       " MMRstrengthfiltfar                   NaN\n",
       " jfar                                 NaN\n",
       " kfar                                 NaN\n",
       " MEGNO                       2.116626e+00\n",
       " MEGNOstd                    3.988173e-01\n",
       " stableinshortintegration    1.000000e+00\n",
       " dtype: float64]"
      ]
     },
     "execution_count": 73,
     "metadata": {},
     "output_type": "execute_result"
    }
   ],
   "source": [
    "%%time\n",
    "spock_features_clean(sim, (100, 30, [[1,2,3]]))"
   ]
  },
  {
   "cell_type": "code",
   "execution_count": 5,
   "metadata": {},
   "outputs": [],
   "source": [
    "import sys\n",
    "sys.path.append('../')\n",
    "sys.path.append('../../../../spock/spock')\n",
    "from training_data_functions import spock_featuresv2\n",
    "from featurefunctions import spock_features"
   ]
  },
  {
   "cell_type": "code",
   "execution_count": 6,
   "metadata": {},
   "outputs": [
    {
     "name": "stderr",
     "output_type": "stream",
     "text": [
      "/mnt/ssd/Dropbox/Dropbox (Princeton)/workspace/rebound/rebound/simulationarchive.py:89: RuntimeWarning: Binary file was saved with a different version of REBOUND. Binary format might have changed.\n",
      "  warnings.warn(message, RuntimeWarning)\n",
      "/mnt/ssd/Dropbox/Dropbox (Princeton)/workspace/rebound/rebound/simulationarchive.py:138: RuntimeWarning: Binary file was saved with a different version of REBOUND. Binary format might have changed.\n",
      "  warnings.warn(message, RuntimeWarning)\n",
      "/mnt/ssd/Dropbox/Dropbox (Princeton)/workspace/rebound/rebound/simulationarchive.py:138: RuntimeWarning: Encountered unkown field in file. File might have been saved with a different version of REBOUND.\n",
      "  warnings.warn(message, RuntimeWarning)\n"
     ]
    }
   ],
   "source": [
    "sa = rebound.SimulationArchive(datafolder+'resonant/simulation_archives/runs/sa0000000.bin')\n",
    "tmax = sa[1].t\n",
    "sim = sa[0]\n",
    "f = spock_features(sim, (10000,1000,1,2,3))"
   ]
  },
  {
   "cell_type": "code",
   "execution_count": 7,
   "metadata": {},
   "outputs": [
    {
     "name": "stderr",
     "output_type": "stream",
     "text": [
      "/home/dtamayo/miniconda3/envs/ml/lib/python3.7/site-packages/numpy/lib/function_base.py:3405: RuntimeWarning: Invalid value encountered in median\n",
      "  r = func(a, **kwargs)\n"
     ]
    }
   ],
   "source": [
    "sa = rebound.SimulationArchive(datafolder+'resonant/simulation_archives/runs/sa0000000.bin')\n",
    "tmax = sa[1].t\n",
    "sim = sa[0]\n",
    "f2 = spock_featuresv2(sim, (10000,1000))"
   ]
  },
  {
   "cell_type": "code",
   "execution_count": 8,
   "metadata": {},
   "outputs": [
    {
     "data": {
      "text/plain": [
       "EMfracstdnear                          NaN\n",
       "EMfracstdEnear                1.702492e-02\n",
       "EPstdEnear                    2.799711e-04\n",
       "EMfreestdEmednear             1.778849e-01\n",
       "AMDcritnear                   3.184811e-09\n",
       "AMDfracnear                   2.737852e+01\n",
       "AMDstdnear                    1.818672e-02\n",
       "EMcrossnear                   6.023365e-02\n",
       "MMRhalfwidthmednear           5.764813e-03\n",
       "MMRstrengthmednear            7.688791e-01\n",
       "jnear                         1.200000e+01\n",
       "knear                         1.000000e+00\n",
       "EMfracstdfar                           NaN\n",
       "EMfracstdEfar                 8.763452e-04\n",
       "EPstdEfar                     3.309716e-04\n",
       "EMfreestdEmedfar                       NaN\n",
       "AMDcritfar                    2.034865e-06\n",
       "AMDfracfar                    4.285072e-02\n",
       "AMDstdfar                     2.846444e-05\n",
       "EMcrossfar                    5.040627e-01\n",
       "MMRhalfwidthmedfar                     NaN\n",
       "MMRstrengthmedfar                      NaN\n",
       "jfar                                   NaN\n",
       "kfar                                   NaN\n",
       "MEGNO                         1.989521e+00\n",
       "MEGNOstd                      6.376432e-02\n",
       "unstableinshortintegration    0.000000e+00\n",
       "dtype: float64"
      ]
     },
     "execution_count": 8,
     "metadata": {},
     "output_type": "execute_result"
    }
   ],
   "source": [
    "f"
   ]
  },
  {
   "cell_type": "code",
   "execution_count": 9,
   "metadata": {},
   "outputs": [
    {
     "data": {
      "text/plain": [
       "EMfracstdnear                 3.073820e-02\n",
       "EPstdnear                     2.801152e-04\n",
       "EMfreestdmednear              3.211681e-01\n",
       "EMfreestd0near                3.231254e-01\n",
       "EMfracstdEnear                1.702492e-02\n",
       "EPstdEnear                    2.799711e-04\n",
       "EMfreestdEmednear             1.778849e-01\n",
       "EMfreestdE0near               1.789690e-01\n",
       "AMDcritnear                   3.184811e-09\n",
       "AMDfracnear                   2.737852e+01\n",
       "AMDstdnear                    1.818672e-02\n",
       "EMcrossnear                   6.023365e-02\n",
       "MMRhalfwidthmednear           5.764813e-03\n",
       "MMRhalfwidth0near             5.729894e-03\n",
       "MMRstrengthmednear            7.688791e-01\n",
       "MMRstrength0near              6.710844e-01\n",
       "jnear                         1.200000e+01\n",
       "knear                         1.000000e+00\n",
       "EMfracstdfar                  8.763452e-04\n",
       "EPstdfar                      3.309716e-04\n",
       "EMfreestdmedfar                        NaN\n",
       "EMfreestd0far                          NaN\n",
       "EMfracstdEfar                 8.763452e-04\n",
       "EPstdEfar                     3.309716e-04\n",
       "EMfreestdEmedfar                       NaN\n",
       "EMfreestdE0far                         NaN\n",
       "AMDcritfar                    2.034865e-06\n",
       "AMDfracfar                    4.285072e-02\n",
       "AMDstdfar                     2.846444e-05\n",
       "EMcrossfar                    5.040627e-01\n",
       "MMRhalfwidthmedfar                     NaN\n",
       "MMRhalfwidth0far                       NaN\n",
       "MMRstrengthmedfar                      NaN\n",
       "MMRstrength0far                        NaN\n",
       "jfar                                   NaN\n",
       "kfar                                   NaN\n",
       "MEGNOmed                      2.005718e+00\n",
       "MEGNO                         2.005017e+00\n",
       "MEGNOstd                      6.420183e-02\n",
       "unstableinshortintegration    0.000000e+00\n",
       "dtype: float64"
      ]
     },
     "execution_count": 9,
     "metadata": {},
     "output_type": "execute_result"
    }
   ],
   "source": [
    "f2"
   ]
  },
  {
   "cell_type": "code",
   "execution_count": 15,
   "metadata": {},
   "outputs": [
    {
     "data": {
      "text/plain": [
       "0.034641191137229535"
      ]
     },
     "execution_count": 15,
     "metadata": {},
     "output_type": "execute_result"
    }
   ],
   "source": [
    "sim.dt/sim.particles[1].P"
   ]
  },
  {
   "cell_type": "code",
   "execution_count": 13,
   "metadata": {},
   "outputs": [
    {
     "name": "stdout",
     "output_type": "stream",
     "text": [
      "CPU times: user 24.6 s, sys: 110 ms, total: 24.7 s\n",
      "Wall time: 24.7 s\n"
     ]
    }
   ],
   "source": [
    "%%time\n",
    "sim.integrate(tmax, exact_finish_time=0)"
   ]
  },
  {
   "cell_type": "code",
   "execution_count": 17,
   "metadata": {},
   "outputs": [
    {
     "data": {
      "text/plain": [
       "6.861111111111111"
      ]
     },
     "execution_count": 17,
     "metadata": {},
     "output_type": "execute_result"
    }
   ],
   "source": [
    "24.7/3.6"
   ]
  },
  {
   "cell_type": "code",
   "execution_count": 6,
   "metadata": {},
   "outputs": [
    {
     "name": "stdout",
     "output_type": "stream",
     "text": [
      "---------------------------------\n",
      "REBOUND version:     \t3.8.3\n",
      "REBOUND built on:    \tNov 23 2019 10:22:08\n",
      "Number of particles: \t8\n",
      "Selected integrator: \twhfast\n",
      "Simulation time:     \t1.0000000173176938e+06\n",
      "Current timestep:    \t0.034641\n",
      "---------------------------------\n",
      "<rebound.Particle object, m=0.9999960150799597 x=-3.658542143467641e-06 y=-1.949623323935794e-05 z=9.470806349629878e-08 vx=6.872767724455177e-05 vy=-3.73442855666929e-06 vz=3.496108378488267e-07>\n",
      "<rebound.Particle object, m=3.984920040268468e-06 x=-0.8738958364059268 y=0.4817517647367535 z=-0.003159573737010137 vx=-2.9307195320280233 vy=-5.572709926922893 vz=0.0012280114770667806>\n",
      "<rebound.Particle object, m=1.2444171101394952e-05 x=0.6063431581766432 y=1.4011530424916374 z=-0.007375445763490789 vx=-4.553768175624738 vy=2.174789434522493 vz=-0.026555396336484776>\n",
      "<rebound.Particle object, m=2.531702420746453e-07 x=-1.5977605108526833 y=0.5538766686714539 z=0.03817301570906049 vx=-1.5043238809838 vy=-4.4327274873988936 vz=-0.09496801973501136>\n",
      "<rebound.Particle object, m=0.0 x=-1227839990.7303185 y=2736812867.494354 z=-31193600.880793 vx=-13647020228.676476 vy=-1510521669.9350643 vz=9849391.189090833>\n",
      "<rebound.Particle object, m=0.0 x=-219874056695447.47 y=-418418943008628.44 z=108757002162.12744 vx=2604230127802628.0 vy=-1436923345876754.8 vz=9517577628668.91>\n",
      "<rebound.Particle object, m=0.0 x=170812727430571.16 y=-82976928448406.45 z=1678132743417.5918 vx=248445474428163.38 vy=584488282560564.2 vz=-5363885016778.591>\n",
      "<rebound.Particle object, m=0.0 x=-85461228767213.55 y=-146102890073652.4 z=37333534847963.39 vx=701579403548779.2 vy=-145877757846830.16 vz=74941526079138.94>\n",
      "---------------------------------\n"
     ]
    }
   ],
   "source": [
    "def collision(reb_sim, col):\n",
    "    reb_sim.contents._status = 5\n",
    "    return 0\n",
    "\n",
    "\n",
    "com = sim.calculate_com()\n",
    "if com.x**2 + com.y**2 + com.z**2 + com.vx**2 + com.vy**2 + com.vz**2 > 1.e-16:\n",
    "    print(\"nonzero com\")\n",
    "    sim.move_to_com()\n",
    "\n",
    "###############################\n",
    "try: \n",
    "    sim.collision = 'line' # use line if using newer version of REBOUND\n",
    "except:\n",
    "    sim.collision = 'direct'# fall back for older versions\n",
    "sim.collision_resolve = collision\n",
    "sim.ri_whfast.keep_unsynchronized = 1\n",
    "sim.ri_whfast.safe_mode = 0\n",
    "##############################\n",
    "ps = sim.particles\n",
    "sim.init_megno()\n",
    "\n",
    "P0 = ps[1].P\n",
    "times = np.linspace(0, tmax, Nout)\n",
    "\n",
    "if sim.integrator != \"whfast\":\n",
    "    sim.integrator = \"whfast\"\n",
    "    sim.dt = 2*np.sqrt(3)/100.*P0\n",
    "    \n",
    "for i, time in enumerate(times):\n",
    "    sim.integrate(time, exact_finish_time=0)\n",
    "sim.status()"
   ]
  },
  {
   "cell_type": "code",
   "execution_count": 3,
   "metadata": {},
   "outputs": [
    {
     "name": "stderr",
     "output_type": "stream",
     "text": [
      "/mnt/ssd/Dropbox/Dropbox (Princeton)/workspace/rebound/rebound/simulationarchive.py:89: RuntimeWarning: Binary file was saved with a different version of REBOUND. Binary format might have changed.\n",
      "  warnings.warn(message, RuntimeWarning)\n",
      "/mnt/ssd/Dropbox/Dropbox (Princeton)/workspace/rebound/rebound/simulationarchive.py:138: RuntimeWarning: Binary file was saved with a different version of REBOUND. Binary format might have changed.\n",
      "  warnings.warn(message, RuntimeWarning)\n",
      "/mnt/ssd/Dropbox/Dropbox (Princeton)/workspace/rebound/rebound/simulationarchive.py:138: RuntimeWarning: Encountered unkown field in file. File might have been saved with a different version of REBOUND.\n",
      "  warnings.warn(message, RuntimeWarning)\n"
     ]
    },
    {
     "name": "stdout",
     "output_type": "stream",
     "text": [
      "---------------------------------\n",
      "REBOUND version:     \t3.8.3\n",
      "REBOUND built on:    \tAug 10 2019 12:36:18\n",
      "Number of particles: \t8\n",
      "Selected integrator: \twhfast\n",
      "Simulation time:     \t1.0000000173176938e+06\n",
      "Current timestep:    \t0.034641\n",
      "---------------------------------\n",
      "<rebound.Particle object, m=0.9999960150799597 x=-3.658542143467641e-06 y=-1.949623323935794e-05 z=9.470806349629878e-08 vx=6.872767724455177e-05 vy=-3.73442855666929e-06 vz=3.496108378488267e-07>\n",
      "<rebound.Particle object, m=3.984920040268468e-06 x=-0.8738958364059268 y=0.4817517647367535 z=-0.003159573737010137 vx=-2.9307195320280233 vy=-5.572709926922893 vz=0.0012280114770667806>\n",
      "<rebound.Particle object, m=1.2444171101394952e-05 x=0.6063431581766432 y=1.4011530424916374 z=-0.007375445763490789 vx=-4.553768175624738 vy=2.174789434522493 vz=-0.026555396336484776>\n",
      "<rebound.Particle object, m=2.531702420746453e-07 x=-1.5977605108526833 y=0.5538766686714539 z=0.03817301570906049 vx=-1.5043238809838 vy=-4.4327274873988936 vz=-0.09496801973501136>\n",
      "<rebound.Particle object, m=0.0 x=2868000091.228402 y=-6393005894.748299 z=71950949.29419656 vx=31875639547.08178 vy=3528157384.307537 vz=-23005426.43904063>\n",
      "<rebound.Particle object, m=0.0 x=513564583490392.1 y=977310162065555.9 z=-254026978410.24664 vx=-6082756559354702.0 vy=3356252895094234.5 vz=-22230411587551.863>\n",
      "<rebound.Particle object, m=0.0 x=-398970960179018.6 y=193810994173225.44 z=-3919651374368.95 vx=-580299440091728.6 vy=-1365201847970847.2 vz=12528540487609.527>\n",
      "<rebound.Particle object, m=0.0 x=199613586839808.34 y=341255613437936.56 z=-87200723279221.53 vx=-1638693732183809.0 vy=340729763897603.1 vz=-175042507139138.25>\n",
      "---------------------------------\n",
      "CPU times: user 1min 6s, sys: 10.5 ms, total: 1min 6s\n",
      "Wall time: 1min 6s\n"
     ]
    }
   ],
   "source": [
    "times = np.linspace(0, tmax, Nout)\n",
    "sim, val = testsim(sim, times) # one of the data generation functions we run over short period\n",
    "sim.status()"
   ]
  },
  {
   "cell_type": "code",
   "execution_count": 7,
   "metadata": {},
   "outputs": [
    {
     "name": "stdout",
     "output_type": "stream",
     "text": [
      "---------------------------------\n",
      "REBOUND version:     \t3.8.3\n",
      "REBOUND built on:    \tNov 23 2019 10:22:08\n",
      "Number of particles: \t4\n",
      "Selected integrator: \twhfast\n",
      "Simulation time:     \t1.0000000173176938e+06\n",
      "Current timestep:    \t0.034641\n",
      "---------------------------------\n",
      "<rebound.Particle object, m=0.9999960150799597 x=-3.658542143467641e-06 y=-1.949623323935794e-05 z=9.470806349629878e-08 vx=6.872767724455177e-05 vy=-3.73442855666929e-06 vz=3.496108378488267e-07>\n",
      "<rebound.Particle object, m=3.984920040268468e-06 x=-0.8738958364059268 y=0.4817517647367535 z=-0.003159573737010137 vx=-2.9307195320280233 vy=-5.572709926922893 vz=0.0012280114770667806>\n",
      "<rebound.Particle object, m=1.2444171101394952e-05 x=0.6063431581766432 y=1.4011530424916374 z=-0.007375445763490789 vx=-4.553768175624738 vy=2.174789434522493 vz=-0.026555396336484776>\n",
      "<rebound.Particle object, m=2.531702420746453e-07 x=-1.5977605108526833 y=0.5538766686714539 z=0.03817301570906049 vx=-1.5043238809838 vy=-4.4327274873988936 vz=-0.09496801973501136>\n",
      "---------------------------------\n"
     ]
    }
   ],
   "source": [
    "sim = sa[1]\n",
    "sim.integrator_synchronize()\n",
    "sim.status()"
   ]
  },
  {
   "cell_type": "markdown",
   "metadata": {},
   "source": [
    "# Ari"
   ]
  },
  {
   "cell_type": "code",
   "execution_count": 7,
   "metadata": {},
   "outputs": [],
   "source": [
    "sa = rebound.SimulationArchive(datafolder+'nonressystems/LP-358-499/simulation_archives/runs/sa0000000.bin')"
   ]
  },
  {
   "cell_type": "markdown",
   "metadata": {},
   "source": [
    "# The innermost planet now has a different orbital period, but the timestep is still the same fraction to close to machine precision:"
   ]
  },
  {
   "cell_type": "code",
   "execution_count": 8,
   "metadata": {},
   "outputs": [
    {
     "name": "stderr",
     "output_type": "stream",
     "text": [
      "/mnt/ssd/Dropbox/Dropbox (Princeton)/workspace/rebound/rebound/simulationarchive.py:138: RuntimeWarning: You have to reset function pointers after creating a reb_simulation struct with a binary file.\n",
      "  warnings.warn(message, RuntimeWarning)\n"
     ]
    },
    {
     "data": {
      "text/plain": [
       "0.034641016151377546"
      ]
     },
     "execution_count": 8,
     "metadata": {},
     "output_type": "execute_result"
    }
   ],
   "source": [
    "sim = sa[0]\n",
    "sim.dt/sim.particles[1].P"
   ]
  },
  {
   "cell_type": "code",
   "execution_count": 9,
   "metadata": {},
   "outputs": [
    {
     "name": "stdout",
     "output_type": "stream",
     "text": [
      "---------------------------------\n",
      "REBOUND version:     \t3.8.3\n",
      "REBOUND built on:    \tMay 30 2019 11:47:14\n",
      "Number of particles: \t8\n",
      "Selected integrator: \twhfast\n",
      "Simulation time:     \t5.2867929037495232e+04\n",
      "Current timestep:    \t0.001831\n",
      "---------------------------------\n",
      "<rebound.Particle object, m=0.51 x=-9.243438619388608e-06 y=-5.843309887933348e-06 z=-5.364867056784226e-09 vx=0.00025812578933250956 vy=-0.0004070578950174552 vz=3.717095432586538e-07>\n",
      "<rebound.Particle object, m=6.606794029325489e-06 x=0.029415138260382036 y=-0.011719099624968315 z=-2.0293887473444915e-05 vx=1.555005645878225 vy=3.789031687122423 vz=-0.000406892740939987>\n",
      "<rebound.Particle object, m=2.110761752620521e-05 x=0.018112352912284243 y=0.04141347641253959 z=2.7088584243370827e-05 vx=-3.0000505678412064 vy=1.485960978933363 vz=-0.004054656657424565>\n",
      "<rebound.Particle object, m=6.33670720508826e-05 x=0.0652942480233223 y=0.034455969465934946 z=3.627095560720546e-05 vx=-1.2402945581572582 vy=2.3861143277678045 vz=-0.0015986136857349866>\n",
      "<rebound.Particle object, m=0.0 x=-6964.56133531914 y=-15448.810036328403 z=15338.598035399193 vx=20875.737082734966 vy=3442.238476548123 vz=-4.390958421501111>\n",
      "<rebound.Particle object, m=0.0 x=4243520.83715198 y=10330147.586164009 z=14218.259481028997 vx=-1290299206.7070162 vy=512917394.51541513 vz=887503.6159047964>\n",
      "<rebound.Particle object, m=0.0 x=-3260827.8950461373 y=1598766.150200023 z=10948.093128477518 vx=-108237424.4911227 vy=-247856846.9808536 vz=-161926.37070238357>\n",
      "<rebound.Particle object, m=0.0 x=31334.295975784047 y=-89669.26069284673 z=15388.659207249788 vx=2566214.519443117 vy=1374403.1658857944 vz=1415.3878633767888>\n",
      "---------------------------------\n",
      "CPU times: user 1min 4s, sys: 12 ms, total: 1min 4s\n",
      "Wall time: 1min 4s\n"
     ]
    }
   ],
   "source": [
    "%%time\n",
    "tmax = sa[1].t\n",
    "sim = sa[0]\n",
    "times = np.linspace(0, tmax, Nout)\n",
    "sim, val = testsim(sim, times) # one of the data generation functions we run over short period\n",
    "sim.status()"
   ]
  },
  {
   "cell_type": "code",
   "execution_count": 8,
   "metadata": {},
   "outputs": [
    {
     "name": "stdout",
     "output_type": "stream",
     "text": [
      "---------------------------------\n",
      "REBOUND version:     \t3.8.2\n",
      "REBOUND built on:    \tMay  7 2019 13:37:40\n",
      "Number of particles: \t4\n",
      "Selected integrator: \twhfast\n",
      "Simulation time:     \t5.2867929037495232e+04\n",
      "Current timestep:    \t0.001831\n",
      "---------------------------------\n",
      "<rebound.Particle object, m=0.51 x=-9.243438619388608e-06 y=-5.843309887933348e-06 z=-5.364867056784226e-09 vx=0.00025812578933250956 vy=-0.0004070578950174552 vz=3.717095432586538e-07>\n",
      "<rebound.Particle object, m=6.606794029325489e-06 x=0.029415138260382036 y=-0.011719099624968315 z=-2.0293887473444915e-05 vx=1.555005645878225 vy=3.789031687122423 vz=-0.000406892740939987>\n",
      "<rebound.Particle object, m=2.110761752620521e-05 x=0.018112352912284243 y=0.04141347641253959 z=2.7088584243370827e-05 vx=-3.0000505678412064 vy=1.485960978933363 vz=-0.004054656657424565>\n",
      "<rebound.Particle object, m=6.33670720508826e-05 x=0.0652942480233223 y=0.034455969465934946 z=3.627095560720546e-05 vx=-1.2402945581572582 vy=2.3861143277678045 vz=-0.0015986136857349866>\n",
      "---------------------------------\n"
     ]
    }
   ],
   "source": [
    "sim = sa[1]\n",
    "sim.integrator_synchronize() # need this step with new sim archive because we used safe_mode = 0\n",
    "sim.status()"
   ]
  },
  {
   "cell_type": "markdown",
   "metadata": {},
   "source": [
    "# Test to show that even though I'm not reproducible when using newest REBOUND on old (random) integrations, I can still load the binary and get the latest time and masses, so I can always use same commit for generate_data/generate_metadata.py\n"
   ]
  },
  {
   "cell_type": "code",
   "execution_count": 10,
   "metadata": {},
   "outputs": [
    {
     "name": "stderr",
     "output_type": "stream",
     "text": [
      "/mnt/ssd/Dropbox/Dropbox (Princeton)/workspace/rebound/rebound/simulation.py:352: RuntimeWarning: Binary file was saved with a different version of REBOUND. Binary format might have changed.\n",
      "  warnings.warn(message, RuntimeWarning)\n",
      "/mnt/ssd/Dropbox/Dropbox (Princeton)/workspace/rebound/rebound/simulation.py:352: RuntimeWarning: You have to reset function pointers after creating a reb_simulation struct with a binary file.\n",
      "  warnings.warn(message, RuntimeWarning)\n",
      "/mnt/ssd/Dropbox/Dropbox (Princeton)/workspace/rebound/rebound/simulation.py:352: RuntimeWarning: Encountered unkown field in file. File might have been saved with a different version of REBOUND.\n",
      "  warnings.warn(message, RuntimeWarning)\n"
     ]
    },
    {
     "data": {
      "text/plain": [
       "12356442.121674882"
      ]
     },
     "execution_count": 10,
     "metadata": {},
     "output_type": "execute_result"
    }
   ],
   "source": [
    "sim = rebound.Simulation(datafolder+'random/final_conditions/runs/fc0000000.bin')\n",
    "sim.t"
   ]
  },
  {
   "cell_type": "code",
   "execution_count": 12,
   "metadata": {},
   "outputs": [],
   "source": [
    "sa = rebound.SimulationArchive(datafolder+'random/simulation_archives/runs/sa0000000.bin')\n",
    "sim = sa[0]"
   ]
  },
  {
   "cell_type": "code",
   "execution_count": 13,
   "metadata": {},
   "outputs": [
    {
     "data": {
      "text/plain": [
       "3.4140160192072926e-05"
      ]
     },
     "execution_count": 13,
     "metadata": {},
     "output_type": "execute_result"
    }
   ],
   "source": [
    "sim.particles[1].m"
   ]
  },
  {
   "cell_type": "markdown",
   "metadata": {},
   "source": [
    "# To get same outputs when stopping at different points with MEGNO, need to pass seed to init_megno, and need to use exact_finish_time=0"
   ]
  },
  {
   "cell_type": "code",
   "execution_count": 27,
   "metadata": {},
   "outputs": [
    {
     "name": "stdout",
     "output_type": "stream",
     "text": [
      "---------------------------------\n",
      "REBOUND version:     \t3.8.3\n",
      "REBOUND built on:    \tJul 26 2019 10:18:51\n",
      "Number of particles: \t8\n",
      "Selected integrator: \twhfast\n",
      "Simulation time:     \t1.0000029978431428e+04\n",
      "Current timestep:    \t0.034641\n",
      "---------------------------------\n",
      "<rebound.Particle object, m=0.9999960150799597 x=1.5754637080804735e-05 y=5.552715431442515e-06 z=-1.1669878145708697e-08 vx=-7.301349514488498e-06 vy=4.705456663283622e-05 vz=-1.0008721700251636e-07>\n",
      "<rebound.Particle object, m=3.984920040268468e-06 x=0.18820747244699707 y=0.9983892059722129 z=-0.006260219550608885 vx=-6.069045419128382 vy=1.1841416303639263 vz=-0.03798729681251473>\n",
      "<rebound.Particle object, m=1.2444171101394952e-05 x=-1.3363731009885487 y=-0.7954836546826433 z=0.0021957760487688422 vx=2.628852215552226 vy=-4.19628486689365 vz=0.023007745192562795>\n",
      "<rebound.Particle object, m=2.531702420746453e-07 x=0.4956723760588331 y=1.4533313436553013 z=0.036701363708389 vx=-4.850118344763209 vy=1.7624426656878491 vz=-0.13765108822109343>\n",
      "<rebound.Particle object, m=0.0 x=-2666.3510321034682 y=-619.9582881806878 z=-3524.1342789518344 vx=-1.9468042031710093 vy=-0.9848575736752735 vz=-0.7013159545893228>\n",
      "<rebound.Particle object, m=0.0 x=-534.2101209813109 y=-1026.9359796331962 z=-3511.089108011359 vx=2533.0606632993854 vy=13146.346628609126 vz=-82.71568417988145>\n",
      "<rebound.Particle object, m=0.0 x=18647.563802542463 y=-34644.32650956652 z=-3337.4859454921675 vx=113710.93008829388 vy=67692.92004083125 vz=-185.3433096353668>\n",
      "<rebound.Particle object, m=0.0 x=-43895.91368572932 y=14340.573425411407 z=-4672.382358222045 vx=-45928.014580556126 vy=-134417.8780332612 vz=-3317.4196742467966>\n",
      "---------------------------------\n",
      "CPU times: user 701 ms, sys: 4.01 ms, total: 705 ms\n",
      "Wall time: 703 ms\n"
     ]
    }
   ],
   "source": [
    "%%time\n",
    "sa = rebound.SimulationArchive(datafolder+'resonant/simulation_archives/runs/sa0000000.bin')\n",
    "sim = sa[0]\n",
    "sim.ri_whfast.keep_unsynchronized = 1\n",
    "sim.init_megno(seed=0)\n",
    "    \n",
    "times = np.linspace(0, 1e4, 1000)\n",
    "for i, time in enumerate(times):\n",
    "    sim.integrate(time, exact_finish_time=0)\n",
    "    \n",
    "#sim.integrate(1e4, exact_finish_time=0)\n",
    "sim.status()"
   ]
  },
  {
   "cell_type": "code",
   "execution_count": 24,
   "metadata": {},
   "outputs": [
    {
     "data": {
      "text/plain": [
       "0.03464045825280944"
      ]
     },
     "execution_count": 24,
     "metadata": {},
     "output_type": "execute_result"
    }
   ],
   "source": [
    "sim.dt/sim.particles[1].P"
   ]
  },
  {
   "cell_type": "code",
   "execution_count": 22,
   "metadata": {},
   "outputs": [
    {
     "name": "stdout",
     "output_type": "stream",
     "text": [
      "---------------------------------\n",
      "REBOUND version:     \t3.8.3\n",
      "REBOUND built on:    \tJul 26 2019 10:18:51\n",
      "Number of particles: \t8\n",
      "Selected integrator: \twhfast\n",
      "Simulation time:     \t1.0000029978431428e+04\n",
      "Current timestep:    \t0.034641\n",
      "---------------------------------\n",
      "<rebound.Particle object, m=0.9999960150799597 x=1.5754637080804735e-05 y=5.552715431442515e-06 z=-1.1669878145708697e-08 vx=-7.301349514488498e-06 vy=4.705456663283622e-05 vz=-1.0008721700251636e-07>\n",
      "<rebound.Particle object, m=3.984920040268468e-06 x=0.18820747244699707 y=0.9983892059722129 z=-0.006260219550608885 vx=-6.069045419128382 vy=1.1841416303639263 vz=-0.03798729681251473>\n",
      "<rebound.Particle object, m=1.2444171101394952e-05 x=-1.3363731009885487 y=-0.7954836546826433 z=0.0021957760487688422 vx=2.628852215552226 vy=-4.19628486689365 vz=0.023007745192562795>\n",
      "<rebound.Particle object, m=2.531702420746453e-07 x=0.4956723760588331 y=1.4533313436553013 z=0.036701363708389 vx=-4.850118344763209 vy=1.7624426656878491 vz=-0.13765108822109343>\n",
      "<rebound.Particle object, m=0.0 x=-2666.3510321034682 y=-619.9582881806878 z=-3524.1342789518344 vx=-1.9468042031710093 vy=-0.9848575736752735 vz=-0.7013159545893228>\n",
      "<rebound.Particle object, m=0.0 x=-534.2101209813109 y=-1026.9359796331962 z=-3511.089108011359 vx=2533.0606632993854 vy=13146.346628609126 vz=-82.71568417988145>\n",
      "<rebound.Particle object, m=0.0 x=18647.563802542463 y=-34644.32650956652 z=-3337.4859454921675 vx=113710.93008829388 vy=67692.92004083125 vz=-185.3433096353668>\n",
      "<rebound.Particle object, m=0.0 x=-43895.91368572932 y=14340.573425411407 z=-4672.382358222045 vx=-45928.014580556126 vy=-134417.8780332612 vz=-3317.4196742467966>\n",
      "---------------------------------\n"
     ]
    }
   ],
   "source": [
    "sa = rebound.SimulationArchive(datafolder+'resonant/simulation_archives/runs/sa0000000.bin')\n",
    "sim = sa[0]\n",
    "sim.ri_whfast.keep_unsynchronized = 1\n",
    "sim.init_megno(seed=0)\n",
    "       \n",
    "sim.integrate(1e4, exact_finish_time=0)\n",
    "sim.status()"
   ]
  },
  {
   "cell_type": "code",
   "execution_count": null,
   "metadata": {},
   "outputs": [],
   "source": []
  }
 ],
 "metadata": {
  "kernelspec": {
   "display_name": "Python 3",
   "language": "python",
   "name": "python3"
  },
  "language_info": {
   "codemirror_mode": {
    "name": "ipython",
    "version": 3
   },
   "file_extension": ".py",
   "mimetype": "text/x-python",
   "name": "python",
   "nbconvert_exporter": "python",
   "pygments_lexer": "ipython3",
   "version": "3.7.3"
  }
 },
 "nbformat": 4,
 "nbformat_minor": 2
}
